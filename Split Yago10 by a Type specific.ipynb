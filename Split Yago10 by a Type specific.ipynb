{
 "cells": [
  {
   "cell_type": "code",
   "execution_count": 1,
   "metadata": {},
   "outputs": [],
   "source": [
    "import pandas as pd\n",
    "import numpy as np\n",
    "from io import StringIO\n",
    "%matplotlib inline\n",
    "from rdflib import Graph,URIRef, tools\n",
    "from gastrodon import LocalEndpoint,one,QName\n",
    "pd.set_option(\"display.width\",100)\n",
    "pd.set_option(\"display.max_colwidth\",80)\n",
    "import statistics\n",
    "from csvwlib import CSVWConverter\n",
    "import rdflib"
   ]
  },
  {
   "cell_type": "markdown",
   "metadata": {},
   "source": [
    "## Load data "
   ]
  },
  {
   "cell_type": "code",
   "execution_count": null,
   "metadata": {
    "scrolled": true
   },
   "outputs": [],
   "source": [
    "input_path = \"/media/rivas/Data1/Data-mining/Kcap/datasets/Yago10/\"\n",
    "\n",
    "y10_type = input_path +\"Yago10_Type/\" + \"Yago10_Type.nt\"\n",
    "#y_s_taxonomy = input_path + \"yagoSimpleTaxonomy.ttl\"\n",
    "y_s_taxonomy = input_path + \"yagoTaxonomy.ttl\"\n",
    "\n",
    "yago_taxonomy = Graph()\n",
    "yago_taxonomy.parse(y_s_taxonomy, format=\"turtle\")\n",
    "#yago_type = Graph()\n",
    "#yago_type.parse(y_s_type, format=\"turtle\")\n",
    "#drugbank.parse(f_drugbank, format=\"turtle\")\n",
    "yago10_type = Graph()\n",
    "yago10_type.parse(y10_type, format=\"nt\")\n",
    "\n",
    "print(len(yago10_type))\n",
    "print(len(yago_taxonomy))"
   ]
  },
  {
   "cell_type": "markdown",
   "metadata": {},
   "source": [
    "## Create local endpoint (yago_type and yago_taxonomy)"
   ]
  },
  {
   "cell_type": "code",
   "execution_count": 37,
   "metadata": {},
   "outputs": [
    {
     "name": "stdout",
     "output_type": "stream",
     "text": [
      "1587343\n",
      "1754641\n"
     ]
    }
   ],
   "source": [
    "print(len(yago10_type))\n",
    "print(len(yago_taxonomy))\n",
    "y_type=LocalEndpoint(yago10_type)\n",
    "y_taxonomy=LocalEndpoint(yago_taxonomy)"
   ]
  },
  {
   "cell_type": "markdown",
   "metadata": {},
   "source": [
    "## Select all relation with person type"
   ]
  },
  {
   "cell_type": "code",
   "execution_count": 38,
   "metadata": {},
   "outputs": [],
   "source": [
    "\"\"\"\n",
    "   SELECT distinct ?s ?p WHERE{\n",
    "      ?s ?p <http://yago-knowledge.org/resource/wordnet_person_100007846>.\n",
    "   }\n",
    "\"\"\"\n",
    "\n",
    "spo_person = y_type.select(\"\"\"\n",
    "   SELECT distinct ?s ?p ?o WHERE{\n",
    "      ?s ?p <http://yago-knowledge.org/resource/wordnet_person_100007846>.\n",
    "      ?s ?p ?o \n",
    "   }\n",
    "\"\"\")\n",
    "obj_person = y_type.select(\"\"\"\n",
    "   SELECT distinct ?o WHERE{\n",
    "      ?s ?p <http://yago-knowledge.org/resource/wordnet_person_100007846>.\n",
    "      ?s ?p ?o \n",
    "   }\n",
    "\"\"\")"
   ]
  },
  {
   "cell_type": "code",
   "execution_count": 39,
   "metadata": {
    "scrolled": true
   },
   "outputs": [
    {
     "data": {
      "text/plain": [
       "(249263, 3)"
      ]
     },
     "execution_count": 39,
     "metadata": {},
     "output_type": "execute_result"
    }
   ],
   "source": [
    "spo_person.shape"
   ]
  },
  {
   "cell_type": "code",
   "execution_count": 40,
   "metadata": {},
   "outputs": [
    {
     "data": {
      "text/html": [
       "<div>\n",
       "<style scoped>\n",
       "    .dataframe tbody tr th:only-of-type {\n",
       "        vertical-align: middle;\n",
       "    }\n",
       "\n",
       "    .dataframe tbody tr th {\n",
       "        vertical-align: top;\n",
       "    }\n",
       "\n",
       "    .dataframe thead th {\n",
       "        text-align: right;\n",
       "    }\n",
       "</style>\n",
       "<table border=\"1\" class=\"dataframe\">\n",
       "  <thead>\n",
       "    <tr style=\"text-align: right;\">\n",
       "      <th></th>\n",
       "      <th>o</th>\n",
       "    </tr>\n",
       "  </thead>\n",
       "  <tbody>\n",
       "    <tr>\n",
       "      <th>0</th>\n",
       "      <td>http://yago-knowledge.org/resource/wordnet_person_100007846</td>\n",
       "    </tr>\n",
       "    <tr>\n",
       "      <th>1</th>\n",
       "      <td>http://yago-knowledge.org/resource/wikicat_African-American_people</td>\n",
       "    </tr>\n",
       "    <tr>\n",
       "      <th>2</th>\n",
       "      <td>http://yago-knowledge.org/resource/wikicat_American_record_producers</td>\n",
       "    </tr>\n",
       "    <tr>\n",
       "      <th>3</th>\n",
       "      <td>http://yago-knowledge.org/resource/wikicat_American_screenwriters</td>\n",
       "    </tr>\n",
       "    <tr>\n",
       "      <th>4</th>\n",
       "      <td>http://yago-knowledge.org/resource/wikicat_Musical_theatre_actors</td>\n",
       "    </tr>\n",
       "  </tbody>\n",
       "</table>\n",
       "</div>"
      ],
      "text/plain": [
       "                                                                      o\n",
       "0           http://yago-knowledge.org/resource/wordnet_person_100007846\n",
       "1    http://yago-knowledge.org/resource/wikicat_African-American_people\n",
       "2  http://yago-knowledge.org/resource/wikicat_American_record_producers\n",
       "3     http://yago-knowledge.org/resource/wikicat_American_screenwriters\n",
       "4     http://yago-knowledge.org/resource/wikicat_Musical_theatre_actors"
      ]
     },
     "execution_count": 40,
     "metadata": {},
     "output_type": "execute_result"
    }
   ],
   "source": [
    "obj_person.head()"
   ]
  },
  {
   "cell_type": "code",
   "execution_count": 41,
   "metadata": {},
   "outputs": [
    {
     "data": {
      "text/html": [
       "<div>\n",
       "<style scoped>\n",
       "    .dataframe tbody tr th:only-of-type {\n",
       "        vertical-align: middle;\n",
       "    }\n",
       "\n",
       "    .dataframe tbody tr th {\n",
       "        vertical-align: top;\n",
       "    }\n",
       "\n",
       "    .dataframe thead th {\n",
       "        text-align: right;\n",
       "    }\n",
       "</style>\n",
       "<table border=\"1\" class=\"dataframe\">\n",
       "  <thead>\n",
       "    <tr style=\"text-align: right;\">\n",
       "      <th></th>\n",
       "      <th>p</th>\n",
       "    </tr>\n",
       "  </thead>\n",
       "  <tbody>\n",
       "    <tr>\n",
       "      <th>0</th>\n",
       "      <td>rdfs:subClassOf</td>\n",
       "    </tr>\n",
       "    <tr>\n",
       "      <th>1</th>\n",
       "      <td>http://yago-knowledge.org/resource/hasGloss</td>\n",
       "    </tr>\n",
       "  </tbody>\n",
       "</table>\n",
       "</div>"
      ],
      "text/plain": [
       "                                             p\n",
       "0                              rdfs:subClassOf\n",
       "1  http://yago-knowledge.org/resource/hasGloss"
      ]
     },
     "execution_count": 41,
     "metadata": {},
     "output_type": "execute_result"
    }
   ],
   "source": [
    "p = y_taxonomy.select(\"SELECT distinct ?p WHERE{ ?s ?p ?o}\")\n",
    "p.head()"
   ]
  },
  {
   "cell_type": "markdown",
   "metadata": {},
   "source": [
    "## Select taxonomy of all relation with person type"
   ]
  },
  {
   "cell_type": "code",
   "execution_count": null,
   "metadata": {
    "scrolled": false
   },
   "outputs": [],
   "source": [
    "taxonomy = pd.DataFrame()\n",
    "for t in range(obj_person.shape[0]):\n",
    "    obj = '<'+ obj_person['o'][t] +'>'\n",
    "    query = 'SELECT distinct ?p ?o WHERE{ \\n' +obj+ '?p ?o \\n}'\n",
    "    pred_obj_person = y_taxonomy.select(query)\n",
    "    pred_obj_person.insert(0, \"s\", obj)\n",
    "    frames = [taxonomy, pred_obj_person]\n",
    "    taxonomy = pd.concat(frames)"
   ]
  },
  {
   "cell_type": "code",
   "execution_count": 43,
   "metadata": {},
   "outputs": [
    {
     "data": {
      "text/html": [
       "<div>\n",
       "<style scoped>\n",
       "    .dataframe tbody tr th:only-of-type {\n",
       "        vertical-align: middle;\n",
       "    }\n",
       "\n",
       "    .dataframe tbody tr th {\n",
       "        vertical-align: top;\n",
       "    }\n",
       "\n",
       "    .dataframe thead th {\n",
       "        text-align: right;\n",
       "    }\n",
       "</style>\n",
       "<table border=\"1\" class=\"dataframe\">\n",
       "  <thead>\n",
       "    <tr style=\"text-align: right;\">\n",
       "      <th></th>\n",
       "      <th>s</th>\n",
       "      <th>p</th>\n",
       "      <th>o</th>\n",
       "    </tr>\n",
       "  </thead>\n",
       "  <tbody>\n",
       "    <tr>\n",
       "      <th>0</th>\n",
       "      <td>&lt;http://yago-knowledge.org/resource/wordnet_person_100007846&gt;</td>\n",
       "      <td>rdfs:subClassOf</td>\n",
       "      <td>http://yago-knowledge.org/resource/yagoLegalActor</td>\n",
       "    </tr>\n",
       "    <tr>\n",
       "      <th>1</th>\n",
       "      <td>&lt;http://yago-knowledge.org/resource/wordnet_person_100007846&gt;</td>\n",
       "      <td>rdfs:subClassOf</td>\n",
       "      <td>http://yago-knowledge.org/resource/wordnet_causal_agent_100007347</td>\n",
       "    </tr>\n",
       "    <tr>\n",
       "      <th>2</th>\n",
       "      <td>&lt;http://yago-knowledge.org/resource/wordnet_person_100007846&gt;</td>\n",
       "      <td>rdfs:subClassOf</td>\n",
       "      <td>http://yago-knowledge.org/resource/wordnet_organism_100004475</td>\n",
       "    </tr>\n",
       "    <tr>\n",
       "      <th>0</th>\n",
       "      <td>&lt;http://yago-knowledge.org/resource/wikicat_African-American_people&gt;</td>\n",
       "      <td>rdfs:subClassOf</td>\n",
       "      <td>http://yago-knowledge.org/resource/wordnet_person_100007846</td>\n",
       "    </tr>\n",
       "    <tr>\n",
       "      <th>1</th>\n",
       "      <td>&lt;http://yago-knowledge.org/resource/wikicat_African-American_people&gt;</td>\n",
       "      <td>rdfs:subClassOf</td>\n",
       "      <td>http://yago-knowledge.org/resource/wikicat_American_people_of_African_descent</td>\n",
       "    </tr>\n",
       "  </tbody>\n",
       "</table>\n",
       "</div>"
      ],
      "text/plain": [
       "                                                                      s                p  \\\n",
       "0         <http://yago-knowledge.org/resource/wordnet_person_100007846>  rdfs:subClassOf   \n",
       "1         <http://yago-knowledge.org/resource/wordnet_person_100007846>  rdfs:subClassOf   \n",
       "2         <http://yago-knowledge.org/resource/wordnet_person_100007846>  rdfs:subClassOf   \n",
       "0  <http://yago-knowledge.org/resource/wikicat_African-American_people>  rdfs:subClassOf   \n",
       "1  <http://yago-knowledge.org/resource/wikicat_African-American_people>  rdfs:subClassOf   \n",
       "\n",
       "                                                                               o  \n",
       "0                              http://yago-knowledge.org/resource/yagoLegalActor  \n",
       "1              http://yago-knowledge.org/resource/wordnet_causal_agent_100007347  \n",
       "2                  http://yago-knowledge.org/resource/wordnet_organism_100004475  \n",
       "0                    http://yago-knowledge.org/resource/wordnet_person_100007846  \n",
       "1  http://yago-knowledge.org/resource/wikicat_American_people_of_African_descent  "
      ]
     },
     "execution_count": 43,
     "metadata": {},
     "output_type": "execute_result"
    }
   ],
   "source": [
    "taxonomy.head()"
   ]
  },
  {
   "cell_type": "code",
   "execution_count": 44,
   "metadata": {},
   "outputs": [],
   "source": [
    "pred_obj_person = y_taxonomy.select(\"\"\"\n",
    "   SELECT distinct ?p ?o WHERE{\n",
    "      <http://yago-knowledge.org/resource/wordnet_person_100007846> ?p ?o\n",
    "   }\n",
    "\"\"\")"
   ]
  },
  {
   "cell_type": "code",
   "execution_count": 45,
   "metadata": {},
   "outputs": [
    {
     "data": {
      "text/html": [
       "<div>\n",
       "<style scoped>\n",
       "    .dataframe tbody tr th:only-of-type {\n",
       "        vertical-align: middle;\n",
       "    }\n",
       "\n",
       "    .dataframe tbody tr th {\n",
       "        vertical-align: top;\n",
       "    }\n",
       "\n",
       "    .dataframe thead th {\n",
       "        text-align: right;\n",
       "    }\n",
       "</style>\n",
       "<table border=\"1\" class=\"dataframe\">\n",
       "  <thead>\n",
       "    <tr style=\"text-align: right;\">\n",
       "      <th></th>\n",
       "      <th>p</th>\n",
       "      <th>o</th>\n",
       "    </tr>\n",
       "  </thead>\n",
       "  <tbody>\n",
       "    <tr>\n",
       "      <th>0</th>\n",
       "      <td>rdfs:subClassOf</td>\n",
       "      <td>http://yago-knowledge.org/resource/yagoLegalActor</td>\n",
       "    </tr>\n",
       "    <tr>\n",
       "      <th>1</th>\n",
       "      <td>rdfs:subClassOf</td>\n",
       "      <td>http://yago-knowledge.org/resource/wordnet_causal_agent_100007347</td>\n",
       "    </tr>\n",
       "    <tr>\n",
       "      <th>2</th>\n",
       "      <td>rdfs:subClassOf</td>\n",
       "      <td>http://yago-knowledge.org/resource/wordnet_organism_100004475</td>\n",
       "    </tr>\n",
       "  </tbody>\n",
       "</table>\n",
       "</div>"
      ],
      "text/plain": [
       "                 p                                                                  o\n",
       "0  rdfs:subClassOf                  http://yago-knowledge.org/resource/yagoLegalActor\n",
       "1  rdfs:subClassOf  http://yago-knowledge.org/resource/wordnet_causal_agent_100007347\n",
       "2  rdfs:subClassOf      http://yago-knowledge.org/resource/wordnet_organism_100004475"
      ]
     },
     "execution_count": 45,
     "metadata": {},
     "output_type": "execute_result"
    }
   ],
   "source": [
    "pred_obj_person.head()"
   ]
  },
  {
   "cell_type": "markdown",
   "metadata": {},
   "source": [
    "## Preapre dataframe to save in .nt "
   ]
  },
  {
   "cell_type": "code",
   "execution_count": null,
   "metadata": {
    "scrolled": false
   },
   "outputs": [],
   "source": [
    "pred_obj_person.insert(0, \"s\", '<http://yago-knowledge.org/resource/wordnet_person_100007846>') \n",
    "pred_obj_person['p'] = pred_obj_person['p'].str.replace('owl:disjointWith', '<http://www.w3.org/2002/07/owl#disjointWith>')\n",
    "pred_obj_person['p'] = pred_obj_person['p'].str.replace('rdfs:subClassOf', '<http://www.w3.org/2000/01/rdf-schema#rdfs:subClassOf>')\n",
    "pred_obj_person['o'] = '<' + pred_obj_person['o'] + '> .'\n",
    "pred_obj_person['o'] = pred_obj_person['o'].str.replace('<owl:Thing> .', '<http://www.w3.org/2002/07/owl#owl:Thing> .')\n",
    "\n",
    "taxonomy['p'] = taxonomy['p'].str.replace('owl:disjointWith', '<http://www.w3.org/2002/07/owl#disjointWith>')\n",
    "taxonomy['p'] = taxonomy['p'].str.replace('rdfs:subClassOf', '<http://www.w3.org/2000/01/rdf-schema#rdfs:subClassOf>')\n",
    "taxonomy['o'] = '<' + taxonomy['o'] + '> .'\n",
    "taxonomy['o'] = taxonomy['o'].str.replace('<owl:Thing> .', '<http://www.w3.org/2002/07/owl#owl:Thing> .')\n",
    "\n",
    "frames = [pred_obj_person, taxonomy]\n",
    "yago10_tax = pd.concat(frames)\n",
    "\n",
    "#pred_obj_person.to_csv(input_path + 'Yago10_taxonomy_person.nt', sep=' ', index = None, header=False)\n",
    "yago10_tax.to_csv(input_path + 'Yago10_taxonomy_person.nt', sep='\\t', index = None, header=False)"
   ]
  },
  {
   "cell_type": "code",
   "execution_count": 47,
   "metadata": {},
   "outputs": [
    {
     "data": {
      "text/html": [
       "<div>\n",
       "<style scoped>\n",
       "    .dataframe tbody tr th:only-of-type {\n",
       "        vertical-align: middle;\n",
       "    }\n",
       "\n",
       "    .dataframe tbody tr th {\n",
       "        vertical-align: top;\n",
       "    }\n",
       "\n",
       "    .dataframe thead th {\n",
       "        text-align: right;\n",
       "    }\n",
       "</style>\n",
       "<table border=\"1\" class=\"dataframe\">\n",
       "  <thead>\n",
       "    <tr style=\"text-align: right;\">\n",
       "      <th></th>\n",
       "      <th>s</th>\n",
       "      <th>p</th>\n",
       "      <th>o</th>\n",
       "    </tr>\n",
       "  </thead>\n",
       "  <tbody>\n",
       "    <tr>\n",
       "      <th>0</th>\n",
       "      <td>&lt;http://yago-knowledge.org/resource/wordnet_person_100007846&gt;</td>\n",
       "      <td>&lt;http://www.w3.org/2000/01/rdf-schema#rdfs:subClassOf&gt;</td>\n",
       "      <td>&lt;http://yago-knowledge.org/resource/yagoLegalActor&gt; .</td>\n",
       "    </tr>\n",
       "    <tr>\n",
       "      <th>1</th>\n",
       "      <td>&lt;http://yago-knowledge.org/resource/wordnet_person_100007846&gt;</td>\n",
       "      <td>&lt;http://www.w3.org/2000/01/rdf-schema#rdfs:subClassOf&gt;</td>\n",
       "      <td>&lt;http://yago-knowledge.org/resource/wordnet_causal_agent_100007347&gt; .</td>\n",
       "    </tr>\n",
       "    <tr>\n",
       "      <th>2</th>\n",
       "      <td>&lt;http://yago-knowledge.org/resource/wordnet_person_100007846&gt;</td>\n",
       "      <td>&lt;http://www.w3.org/2000/01/rdf-schema#rdfs:subClassOf&gt;</td>\n",
       "      <td>&lt;http://yago-knowledge.org/resource/wordnet_organism_100004475&gt; .</td>\n",
       "    </tr>\n",
       "    <tr>\n",
       "      <th>0</th>\n",
       "      <td>&lt;http://yago-knowledge.org/resource/wordnet_person_100007846&gt;</td>\n",
       "      <td>&lt;http://www.w3.org/2000/01/rdf-schema#rdfs:subClassOf&gt;</td>\n",
       "      <td>&lt;http://yago-knowledge.org/resource/yagoLegalActor&gt; .</td>\n",
       "    </tr>\n",
       "    <tr>\n",
       "      <th>1</th>\n",
       "      <td>&lt;http://yago-knowledge.org/resource/wordnet_person_100007846&gt;</td>\n",
       "      <td>&lt;http://www.w3.org/2000/01/rdf-schema#rdfs:subClassOf&gt;</td>\n",
       "      <td>&lt;http://yago-knowledge.org/resource/wordnet_causal_agent_100007347&gt; .</td>\n",
       "    </tr>\n",
       "  </tbody>\n",
       "</table>\n",
       "</div>"
      ],
      "text/plain": [
       "                                                               s  \\\n",
       "0  <http://yago-knowledge.org/resource/wordnet_person_100007846>   \n",
       "1  <http://yago-knowledge.org/resource/wordnet_person_100007846>   \n",
       "2  <http://yago-knowledge.org/resource/wordnet_person_100007846>   \n",
       "0  <http://yago-knowledge.org/resource/wordnet_person_100007846>   \n",
       "1  <http://yago-knowledge.org/resource/wordnet_person_100007846>   \n",
       "\n",
       "                                                        p  \\\n",
       "0  <http://www.w3.org/2000/01/rdf-schema#rdfs:subClassOf>   \n",
       "1  <http://www.w3.org/2000/01/rdf-schema#rdfs:subClassOf>   \n",
       "2  <http://www.w3.org/2000/01/rdf-schema#rdfs:subClassOf>   \n",
       "0  <http://www.w3.org/2000/01/rdf-schema#rdfs:subClassOf>   \n",
       "1  <http://www.w3.org/2000/01/rdf-schema#rdfs:subClassOf>   \n",
       "\n",
       "                                                                       o  \n",
       "0                  <http://yago-knowledge.org/resource/yagoLegalActor> .  \n",
       "1  <http://yago-knowledge.org/resource/wordnet_causal_agent_100007347> .  \n",
       "2      <http://yago-knowledge.org/resource/wordnet_organism_100004475> .  \n",
       "0                  <http://yago-knowledge.org/resource/yagoLegalActor> .  \n",
       "1  <http://yago-knowledge.org/resource/wordnet_causal_agent_100007347> .  "
      ]
     },
     "execution_count": 47,
     "metadata": {},
     "output_type": "execute_result"
    }
   ],
   "source": [
    "yago10_tax.head()"
   ]
  },
  {
   "cell_type": "code",
   "execution_count": 48,
   "metadata": {},
   "outputs": [
    {
     "data": {
      "text/plain": [
       "(79787, 3)"
      ]
     },
     "execution_count": 48,
     "metadata": {},
     "output_type": "execute_result"
    }
   ],
   "source": [
    "taxonomy.shape"
   ]
  },
  {
   "cell_type": "code",
   "execution_count": 49,
   "metadata": {},
   "outputs": [
    {
     "data": {
      "text/plain": [
       "(79790, 3)"
      ]
     },
     "execution_count": 49,
     "metadata": {},
     "output_type": "execute_result"
    }
   ],
   "source": [
    "yago10_tax.shape"
   ]
  },
  {
   "cell_type": "code",
   "execution_count": 50,
   "metadata": {
    "scrolled": true
   },
   "outputs": [
    {
     "data": {
      "text/plain": [
       "(3, 3)"
      ]
     },
     "execution_count": 50,
     "metadata": {},
     "output_type": "execute_result"
    }
   ],
   "source": [
    "pred_obj_person.shape"
   ]
  },
  {
   "cell_type": "markdown",
   "metadata": {},
   "source": [
    "## Filter yago10 dataset by person"
   ]
  },
  {
   "cell_type": "code",
   "execution_count": 51,
   "metadata": {},
   "outputs": [
    {
     "data": {
      "text/plain": [
       "<Graph identifier=N453a7ef82f354f98b3425cfb9e004525 (<class 'rdflib.graph.Graph'>)>"
      ]
     },
     "execution_count": 51,
     "metadata": {},
     "output_type": "execute_result"
    }
   ],
   "source": [
    "dataset_yago = Graph()\n",
    "dataset_yago.parse(input_path + 'yago10.nt', format=\"nt\")\n",
    "dataset_type = Graph()\n",
    "dataset_type.parse(input_path + 'Yago10_type_person.nt', format=\"nt\")"
   ]
  },
  {
   "cell_type": "code",
   "execution_count": 52,
   "metadata": {},
   "outputs": [
    {
     "name": "stdout",
     "output_type": "stream",
     "text": [
      "1089040\n",
      "249263\n"
     ]
    }
   ],
   "source": [
    "print(len(dataset_yago))\n",
    "print(len(dataset_type))\n",
    "dataset_y=LocalEndpoint(dataset_yago)\n",
    "dataset_type_person=LocalEndpoint(dataset_type)"
   ]
  },
  {
   "cell_type": "code",
   "execution_count": 53,
   "metadata": {},
   "outputs": [],
   "source": [
    "subject = dataset_type_person.select(\"\"\"\n",
    "   SELECT distinct ?s WHERE{\n",
    "      ?s ?p ?o\n",
    "   }\n",
    "\"\"\")"
   ]
  },
  {
   "cell_type": "code",
   "execution_count": 54,
   "metadata": {},
   "outputs": [
    {
     "data": {
      "text/plain": [
       "(12077, 1)"
      ]
     },
     "execution_count": 54,
     "metadata": {},
     "output_type": "execute_result"
    }
   ],
   "source": [
    "subject.shape"
   ]
  },
  {
   "cell_type": "code",
   "execution_count": 55,
   "metadata": {},
   "outputs": [
    {
     "data": {
      "text/plain": [
       "rdflib.term.URIRef('http://yago-knowledge.org/resource/Josef_Armberger')"
      ]
     },
     "execution_count": 55,
     "metadata": {},
     "output_type": "execute_result"
    }
   ],
   "source": [
    "subject['s'][12076]"
   ]
  },
  {
   "cell_type": "markdown",
   "metadata": {},
   "source": [
    "## Select only the triples related to person"
   ]
  },
  {
   "cell_type": "code",
   "execution_count": null,
   "metadata": {
    "scrolled": true
   },
   "outputs": [],
   "source": [
    "yago10 = pd.DataFrame()\n",
    "for t in range(subject.shape[0]):\n",
    "    sub = '<' + subject['s'][t] + '>'\n",
    "    query = 'SELECT distinct ?p ?o WHERE{ \\n' +sub+ ' ?p ?o \\n}'\n",
    "    pred_obj_person = dataset_y.select(query)\n",
    "    pred_obj_person.insert(0, \"s\", sub)\n",
    "    pred_obj_person['p'] = '<' + pred_obj_person['p'] +'>'\n",
    "    pred_obj_person['o'] = '<' + pred_obj_person['o'] +'> .'\n",
    "    frames = [yago10, pred_obj_person]\n",
    "    yago10 = pd.concat(frames)"
   ]
  },
  {
   "cell_type": "code",
   "execution_count": null,
   "metadata": {},
   "outputs": [],
   "source": [
    "\"\"\"\n",
    "yago10_person = pd.DataFrame()\n",
    "for sub in range(datset_yago10_person.shape[0]):\n",
    "    subject = datset_yago10[datset_yago10[0].isin({datset_yago10_person[0][sub]})]\n",
    "    frames = [yago10_person, subject]\n",
    "    yago10_person = pd.concat(frames)\n",
    "\"\"\""
   ]
  },
  {
   "cell_type": "code",
   "execution_count": 57,
   "metadata": {},
   "outputs": [
    {
     "name": "stdout",
     "output_type": "stream",
     "text": [
      "(101987, 3)\n"
     ]
    }
   ],
   "source": [
    "print(yago10.shape)"
   ]
  },
  {
   "cell_type": "code",
   "execution_count": 58,
   "metadata": {},
   "outputs": [
    {
     "data": {
      "text/html": [
       "<div>\n",
       "<style scoped>\n",
       "    .dataframe tbody tr th:only-of-type {\n",
       "        vertical-align: middle;\n",
       "    }\n",
       "\n",
       "    .dataframe tbody tr th {\n",
       "        vertical-align: top;\n",
       "    }\n",
       "\n",
       "    .dataframe thead th {\n",
       "        text-align: right;\n",
       "    }\n",
       "</style>\n",
       "<table border=\"1\" class=\"dataframe\">\n",
       "  <thead>\n",
       "    <tr style=\"text-align: right;\">\n",
       "      <th></th>\n",
       "      <th>s</th>\n",
       "      <th>p</th>\n",
       "      <th>o</th>\n",
       "    </tr>\n",
       "  </thead>\n",
       "  <tbody>\n",
       "    <tr>\n",
       "      <th>0</th>\n",
       "      <td>&lt;http://yago-knowledge.org/resource/Irene_Worth&gt;</td>\n",
       "      <td>&lt;http://yago-knowledge.org/resource/hasWonPrize&gt;</td>\n",
       "      <td>&lt;http://yago-knowledge.org/resource/Drama_Desk_Award&gt; .</td>\n",
       "    </tr>\n",
       "    <tr>\n",
       "      <th>1</th>\n",
       "      <td>&lt;http://yago-knowledge.org/resource/Irene_Worth&gt;</td>\n",
       "      <td>&lt;http://yago-knowledge.org/resource/diedIn&gt;</td>\n",
       "      <td>&lt;http://yago-knowledge.org/resource/New_York_City&gt; .</td>\n",
       "    </tr>\n",
       "    <tr>\n",
       "      <th>2</th>\n",
       "      <td>&lt;http://yago-knowledge.org/resource/Irene_Worth&gt;</td>\n",
       "      <td>&lt;http://yago-knowledge.org/resource/hasWonPrize&gt;</td>\n",
       "      <td>&lt;http://yago-knowledge.org/resource/Emmy_Award&gt; .</td>\n",
       "    </tr>\n",
       "    <tr>\n",
       "      <th>3</th>\n",
       "      <td>&lt;http://yago-knowledge.org/resource/Irene_Worth&gt;</td>\n",
       "      <td>&lt;http://yago-knowledge.org/resource/hasWonPrize&gt;</td>\n",
       "      <td>&lt;http://yago-knowledge.org/resource/Tony_Award&gt; .</td>\n",
       "    </tr>\n",
       "    <tr>\n",
       "      <th>4</th>\n",
       "      <td>&lt;http://yago-knowledge.org/resource/Irene_Worth&gt;</td>\n",
       "      <td>&lt;http://yago-knowledge.org/resource/hasGender&gt;</td>\n",
       "      <td>&lt;http://yago-knowledge.org/resource/female&gt; .</td>\n",
       "    </tr>\n",
       "  </tbody>\n",
       "</table>\n",
       "</div>"
      ],
      "text/plain": [
       "                                                  s  \\\n",
       "0  <http://yago-knowledge.org/resource/Irene_Worth>   \n",
       "1  <http://yago-knowledge.org/resource/Irene_Worth>   \n",
       "2  <http://yago-knowledge.org/resource/Irene_Worth>   \n",
       "3  <http://yago-knowledge.org/resource/Irene_Worth>   \n",
       "4  <http://yago-knowledge.org/resource/Irene_Worth>   \n",
       "\n",
       "                                                  p  \\\n",
       "0  <http://yago-knowledge.org/resource/hasWonPrize>   \n",
       "1       <http://yago-knowledge.org/resource/diedIn>   \n",
       "2  <http://yago-knowledge.org/resource/hasWonPrize>   \n",
       "3  <http://yago-knowledge.org/resource/hasWonPrize>   \n",
       "4    <http://yago-knowledge.org/resource/hasGender>   \n",
       "\n",
       "                                                         o  \n",
       "0  <http://yago-knowledge.org/resource/Drama_Desk_Award> .  \n",
       "1     <http://yago-knowledge.org/resource/New_York_City> .  \n",
       "2        <http://yago-knowledge.org/resource/Emmy_Award> .  \n",
       "3        <http://yago-knowledge.org/resource/Tony_Award> .  \n",
       "4            <http://yago-knowledge.org/resource/female> .  "
      ]
     },
     "execution_count": 58,
     "metadata": {},
     "output_type": "execute_result"
    }
   ],
   "source": [
    "yago10.head()"
   ]
  },
  {
   "cell_type": "code",
   "execution_count": 59,
   "metadata": {},
   "outputs": [
    {
     "data": {
      "text/plain": [
       "(101987, 3)"
      ]
     },
     "execution_count": 59,
     "metadata": {},
     "output_type": "execute_result"
    }
   ],
   "source": [
    "yago10 = yago10.drop_duplicates()\n",
    "yago10.shape"
   ]
  },
  {
   "cell_type": "code",
   "execution_count": 60,
   "metadata": {},
   "outputs": [],
   "source": [
    "yago10.to_csv(input_path + 'Yago10_person/without semantics/' + 'yago_dataset_person.nt', sep='\\t', index=False, header=None, encoding='utf-8')"
   ]
  },
  {
   "cell_type": "code",
   "execution_count": null,
   "metadata": {},
   "outputs": [],
   "source": []
  }
 ],
 "metadata": {
  "kernelspec": {
   "display_name": "Python 3",
   "language": "python",
   "name": "python3"
  },
  "language_info": {
   "codemirror_mode": {
    "name": "ipython",
    "version": 3
   },
   "file_extension": ".py",
   "mimetype": "text/x-python",
   "name": "python",
   "nbconvert_exporter": "python",
   "pygments_lexer": "ipython3",
   "version": "3.6.7"
  }
 },
 "nbformat": 4,
 "nbformat_minor": 2
}
