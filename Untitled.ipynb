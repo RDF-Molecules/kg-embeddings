{
 "cells": [
  {
   "cell_type": "code",
   "execution_count": 1,
   "metadata": {},
   "outputs": [],
   "source": [
    "import pandas as pd\n",
    "import numpy as np\n",
    "from io import StringIO\n",
    "%matplotlib inline\n",
    "from rdflib import Graph,URIRef, tools\n",
    "from gastrodon import LocalEndpoint,one,QName\n",
    "pd.set_option(\"display.width\",100)\n",
    "pd.set_option(\"display.max_colwidth\",80)\n",
    "import statistics\n",
    "from csvwlib import CSVWConverter\n",
    "import rdflib"
   ]
  },
  {
   "cell_type": "markdown",
   "metadata": {},
   "source": [
    "### Merging files yago_type"
   ]
  },
  {
   "cell_type": "code",
   "execution_count": 2,
   "metadata": {},
   "outputs": [],
   "source": [
    "input_path = \"/media/rivas/Data1/Data-mining/Kcap/datasets/Yago10/Yago10_Type/\"\n",
    "y_type = pd.read_csv(input_path + 'types_test_001.tsv', delimiter='\\t', header=None)\n",
    "y_type[2] = y_type[2] + \" .\"\n",
    "y_type_b = pd.read_csv(input_path + 'types_test_002.tsv', delimiter='\\t', header=None)\n",
    "y_type_b[2] = y_type_b[2] + \" .\"\n",
    "frames = [y_type, y_type_b]\n",
    "y_type = pd.concat(frames)\n",
    "y_type_b = pd.read_csv(input_path + 'types_test_002.tsv', delimiter='\\t', header=None)\n",
    "y_type_b[2] = y_type_b[2] + \" .\"\n",
    "frames = [y_type, y_type_b]\n",
    "y_type = pd.concat(frames)\n",
    "y_type_b = pd.read_csv(input_path + 'types_test_003.tsv', delimiter='\\t', header=None)\n",
    "y_type_b[2] = y_type_b[2] + \" .\"\n",
    "frames = [y_type, y_type_b]\n",
    "y_type = pd.concat(frames)\n",
    "y_type_b = pd.read_csv(input_path + 'types_test_004.tsv', delimiter='\\t', header=None)\n",
    "y_type_b[2] = y_type_b[2] + \" .\"\n",
    "frames = [y_type, y_type_b]\n",
    "y_type = pd.concat(frames)\n",
    "y_type_b = pd.read_csv(input_path + 'types_test_005.tsv', delimiter='\\t', header=None)\n",
    "y_type_b[2] = y_type_b[2] + \" .\"\n",
    "frames = [y_type, y_type_b]\n",
    "y_type = pd.concat(frames)\n",
    "y_type_b = pd.read_csv(input_path + 'types_train_001.tsv', delimiter='\\t', header=None)\n",
    "y_type_b[2] = y_type_b[2] + \" .\"\n",
    "frames = [y_type, y_type_b]\n",
    "y_type = pd.concat(frames)\n",
    "y_type_b = pd.read_csv(input_path + 'types_train_002.tsv', delimiter='\\t', header=None)\n",
    "y_type_b[2] = y_type_b[2] + \" .\"\n",
    "frames = [y_type, y_type_b]\n",
    "y_type = pd.concat(frames)\n",
    "y_type_b = pd.read_csv(input_path + 'types_train_003.tsv', delimiter='\\t', header=None)\n",
    "y_type_b[2] = y_type_b[2] + \" .\"\n",
    "frames = [y_type, y_type_b]\n",
    "y_type = pd.concat(frames)\n",
    "y_type_b = pd.read_csv(input_path + 'types_train_004.tsv', delimiter='\\t', header=None)\n",
    "y_type_b[2] = y_type_b[2] + \" .\"\n",
    "frames = [y_type, y_type_b]\n",
    "y_type = pd.concat(frames)\n",
    "y_type_b = pd.read_csv(input_path + 'types_train_005.tsv', delimiter='\\t', header=None)\n",
    "y_type_b[2] = y_type_b[2] + \" .\"\n",
    "frames = [y_type, y_type_b]\n",
    "y_type = pd.concat(frames)"
   ]
  },
  {
   "cell_type": "markdown",
   "metadata": {},
   "source": [
    "### Including the prefix"
   ]
  },
  {
   "cell_type": "code",
   "execution_count": 3,
   "metadata": {},
   "outputs": [],
   "source": [
    "y_type[0] = y_type[0].str.replace('<', '<http://yago-knowledge.org/resource/')\n",
    "y_type[1] = y_type[1].str.replace('rdf:type', '<http://www.w3.org/1999/02/22-rdf-syntax-ns#type>')\n",
    "y_type[2] = y_type[2].str.replace('<', '<http://yago-knowledge.org/resource/')"
   ]
  },
  {
   "cell_type": "markdown",
   "metadata": {},
   "source": [
    "### Fixing mistake (include the char '>' in some one objects)"
   ]
  },
  {
   "cell_type": "code",
   "execution_count": 4,
   "metadata": {},
   "outputs": [],
   "source": [
    "y_type[2] = y_type[2].str.replace(' .', '> .')\n",
    "y_type[2] = y_type[2].str.replace(\">> .\", '> .')"
   ]
  },
  {
   "cell_type": "markdown",
   "metadata": {},
   "source": [
    "### Save Yago10Type"
   ]
  },
  {
   "cell_type": "code",
   "execution_count": 5,
   "metadata": {},
   "outputs": [],
   "source": [
    "y_type.to_csv(input_path + 'Yago10_Type.nt', sep='\\t', index = None, header=False)"
   ]
  },
  {
   "cell_type": "code",
   "execution_count": null,
   "metadata": {},
   "outputs": [],
   "source": []
  }
 ],
 "metadata": {
  "kernelspec": {
   "display_name": "Python 3",
   "language": "python",
   "name": "python3"
  },
  "language_info": {
   "codemirror_mode": {
    "name": "ipython",
    "version": 3
   },
   "file_extension": ".py",
   "mimetype": "text/x-python",
   "name": "python",
   "nbconvert_exporter": "python",
   "pygments_lexer": "ipython3",
   "version": "3.6.7"
  }
 },
 "nbformat": 4,
 "nbformat_minor": 2
}
