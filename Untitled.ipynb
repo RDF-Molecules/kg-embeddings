{
 "cells": [
  {
   "cell_type": "code",
   "execution_count": 317,
   "metadata": {},
   "outputs": [],
   "source": [
    "import pandas as pd\n",
    "import numpy as np\n",
    "from io import StringIO"
   ]
  },
  {
   "cell_type": "markdown",
   "metadata": {},
   "source": [
    "## Load data "
   ]
  },
  {
   "cell_type": "code",
   "execution_count": 318,
   "metadata": {},
   "outputs": [
    {
     "name": "stdout",
     "output_type": "stream",
     "text": [
      "(24193408, 3)\n",
      "(629688, 3)\n"
     ]
    }
   ],
   "source": [
    "#Opening a CSV file and storing it on a numpy array\n",
    "input_path = \"/media/rivas/Data1/Data-mining/Kcap/\"\n",
    "\n",
    "y_s_taxonomy = input_path + \"yagoSimpleTaxonomy.ttl\"\n",
    "y_s_type = input_path + \"yagoSimpleTypes.ttl\"\n",
    "yago = input_path + \"yago10.txt\"\n",
    "\n",
    "dataset = np.loadtxt(open(yago,'r', encoding=\"latin-1\"), dtype=\"str\", delimiter=\"\\t\")\n",
    "taxonomy = pd.read_csv(y_s_taxonomy, delimiter='\\t', header=None, skiprows=9)\n",
    "#y_type= open(y_s_type,\"a\")\n",
    "y_type = pd.read_csv(y_s_type, delimiter='\\t', header=None, skiprows=9)\n",
    "\n",
    "\n",
    "print(y_type.shape)\n",
    "print(taxonomy.shape)\n",
    "#print(len(dataset))\n",
    "#print(dataset[1])"
   ]
  },
  {
   "cell_type": "code",
   "execution_count": 321,
   "metadata": {},
   "outputs": [],
   "source": [
    "prefix = \"\"\"\n",
    "@base <http://yago-knowledge.org/resource/> .\\t\\t\n",
    "@prefix dbp: <http://dbpedia.org/ontology/> .\\t\\t\n",
    "@prefix owl: <http://www.w3.org/2002/07/owl#> .\\t\\t\n",
    "@prefix rdf: <http://www.w3.org/1999/02/22-rdf-syntax-ns#> .\\t\\t\n",
    "@prefix rdfs: <http://www.w3.org/2000/01/rdf-schema#> .\\t\\t\n",
    "@prefix skos: <http://www.w3.org/2004/02/skos/core#> .\\t\\t\n",
    "@prefix xsd: <http://www.w3.org/2001/XMLSchema#> .\\t\\t\n",
    "\"\"\"\n",
    "str_io = StringIO(prefix)\n",
    "frame_prefix = pd.read_csv(str_io, sep=\"\\t\", header=None)"
   ]
  },
  {
   "cell_type": "code",
   "execution_count": 322,
   "metadata": {},
   "outputs": [
    {
     "data": {
      "text/html": [
       "<div>\n",
       "<style scoped>\n",
       "    .dataframe tbody tr th:only-of-type {\n",
       "        vertical-align: middle;\n",
       "    }\n",
       "\n",
       "    .dataframe tbody tr th {\n",
       "        vertical-align: top;\n",
       "    }\n",
       "\n",
       "    .dataframe thead th {\n",
       "        text-align: right;\n",
       "    }\n",
       "</style>\n",
       "<table border=\"1\" class=\"dataframe\">\n",
       "  <thead>\n",
       "    <tr style=\"text-align: right;\">\n",
       "      <th></th>\n",
       "      <th>0</th>\n",
       "      <th>1</th>\n",
       "      <th>2</th>\n",
       "    </tr>\n",
       "  </thead>\n",
       "  <tbody>\n",
       "    <tr>\n",
       "      <th>0</th>\n",
       "      <td>@base &lt;http://yago-knowledge.org/resource/&gt; .</td>\n",
       "      <td>NaN</td>\n",
       "      <td>NaN</td>\n",
       "    </tr>\n",
       "    <tr>\n",
       "      <th>1</th>\n",
       "      <td>@prefix dbp: &lt;http://dbpedia.org/ontology/&gt; .</td>\n",
       "      <td>NaN</td>\n",
       "      <td>NaN</td>\n",
       "    </tr>\n",
       "    <tr>\n",
       "      <th>2</th>\n",
       "      <td>@prefix owl: &lt;http://www.w3.org/2002/07/owl#&gt; .</td>\n",
       "      <td>NaN</td>\n",
       "      <td>NaN</td>\n",
       "    </tr>\n",
       "    <tr>\n",
       "      <th>3</th>\n",
       "      <td>@prefix rdf: &lt;http://www.w3.org/1999/02/22-rdf...</td>\n",
       "      <td>NaN</td>\n",
       "      <td>NaN</td>\n",
       "    </tr>\n",
       "    <tr>\n",
       "      <th>4</th>\n",
       "      <td>@prefix rdfs: &lt;http://www.w3.org/2000/01/rdf-s...</td>\n",
       "      <td>NaN</td>\n",
       "      <td>NaN</td>\n",
       "    </tr>\n",
       "  </tbody>\n",
       "</table>\n",
       "</div>"
      ],
      "text/plain": [
       "                                                   0   1   2\n",
       "0      @base <http://yago-knowledge.org/resource/> . NaN NaN\n",
       "1      @prefix dbp: <http://dbpedia.org/ontology/> . NaN NaN\n",
       "2    @prefix owl: <http://www.w3.org/2002/07/owl#> . NaN NaN\n",
       "3  @prefix rdf: <http://www.w3.org/1999/02/22-rdf... NaN NaN\n",
       "4  @prefix rdfs: <http://www.w3.org/2000/01/rdf-s... NaN NaN"
      ]
     },
     "execution_count": 322,
     "metadata": {},
     "output_type": "execute_result"
    }
   ],
   "source": [
    "frame_prefix.head()"
   ]
  },
  {
   "cell_type": "code",
   "execution_count": 323,
   "metadata": {},
   "outputs": [],
   "source": [
    "frames = [frame_prefix, taxonomy, y_type]\n",
    "dataset_semantic = pd.concat(frames)"
   ]
  },
  {
   "cell_type": "code",
   "execution_count": 327,
   "metadata": {},
   "outputs": [],
   "source": [
    "export_csv = dataset_semantic.to_csv (input_path+'dataset_semantic.ttl', index = None, header=False, sep='\\t')"
   ]
  },
  {
   "cell_type": "code",
   "execution_count": null,
   "metadata": {},
   "outputs": [],
   "source": []
  },
  {
   "cell_type": "code",
   "execution_count": 302,
   "metadata": {},
   "outputs": [
    {
     "data": {
      "text/plain": [
       "<function TextIOWrapper.close()>"
      ]
     },
     "execution_count": 302,
     "metadata": {},
     "output_type": "execute_result"
    }
   ],
   "source": [
    "length_tax = taxonomy.shape[0]\n",
    "for index in range(length_tax):\n",
    "    triplet = taxonomy.iloc[index]\n",
    "    if len(triplet)<3:\n",
    "        print(triplet)\n",
    "    s_p_o = \"\\t\".join(str(x) for x in triplet)\n",
    "    y_type.write(s_p_o + \"\\n\")\n",
    "y_type.close"
   ]
  },
  {
   "cell_type": "code",
   "execution_count": 303,
   "metadata": {},
   "outputs": [
    {
     "name": "stdout",
     "output_type": "stream",
     "text": [
      "<wikicat_Municipalities_in_Paraná>\trdfs:subClassOf\t<yagoGeoEntity> .\n"
     ]
    }
   ],
   "source": [
    "print(s_p_o)"
   ]
  },
  {
   "cell_type": "code",
   "execution_count": 304,
   "metadata": {},
   "outputs": [
    {
     "data": {
      "text/plain": [
       "24823070"
      ]
     },
     "execution_count": 304,
     "metadata": {},
     "output_type": "execute_result"
    }
   ],
   "source": [
    "y_type= open(y_s_type,\"r\")\n",
    "len(y_type.readlines())"
   ]
  },
  {
   "cell_type": "code",
   "execution_count": 305,
   "metadata": {},
   "outputs": [
    {
     "data": {
      "text/plain": [
       "24193417"
      ]
     },
     "execution_count": 305,
     "metadata": {},
     "output_type": "execute_result"
    }
   ],
   "source": [
    "y= open(\"/home/rivas/Downloads/yagoSimpleTypes.ttl\",\"r\")\n",
    "len(y.readlines())"
   ]
  },
  {
   "cell_type": "code",
   "execution_count": 310,
   "metadata": {},
   "outputs": [
    {
     "data": {
      "text/plain": [
       "rdfs:subClassOf     629645\n",
       "owl:disjointWith        42\n",
       "<hasGloss>               1\n",
       "Name: 1, dtype: int64"
      ]
     },
     "execution_count": 310,
     "metadata": {},
     "output_type": "execute_result"
    }
   ],
   "source": [
    "taxonomy[1].value_counts()"
   ]
  },
  {
   "cell_type": "code",
   "execution_count": 312,
   "metadata": {},
   "outputs": [],
   "source": [
    "input_path = \"/media/rivas/Data1/Data-mining/Kcap/\"\n",
    "y_s_type = input_path + \"yagoSimpleTypes (copy).ttl\"\n",
    "y_type= open(y_s_type,\"r+\")\n",
    "length = len(y_type.readlines()) - 9\n",
    "y_type.seek(0)\n",
    "string = \"\"\n",
    "for n in range(9):\n",
    "    y_type.readline()\n",
    "for n in range(length):\n",
    "    string += y_type.readline() +\"\\n\"\n",
    "\n"
   ]
  },
  {
   "cell_type": "code",
   "execution_count": 313,
   "metadata": {},
   "outputs": [
    {
     "data": {
      "text/plain": [
       "24193409"
      ]
     },
     "execution_count": 313,
     "metadata": {},
     "output_type": "execute_result"
    }
   ],
   "source": [
    "string.count('rdf:type')"
   ]
  },
  {
   "cell_type": "code",
   "execution_count": 314,
   "metadata": {},
   "outputs": [],
   "source": [
    "\"\"\"import sys\n",
    "if sys.version_info[0] < 3: \n",
    "    from StringIO import StringIO\n",
    "else:\n",
    "    from io import StringIO\"\"\"\n",
    "from io import StringIO\n",
    "\n",
    "str_io = StringIO(string)\n",
    "xc = pd.read_csv(str_io, sep=\"\\t\", header=None)"
   ]
  },
  {
   "cell_type": "code",
   "execution_count": 316,
   "metadata": {},
   "outputs": [
    {
     "data": {
      "text/plain": [
       "<yagoTheme_yagoSimpleTypes>                                                                                                                                                                                                                                                                                                                                                                                                                                    <wikicat_Football_venues_in_Suriname>\n",
       "<hasGloss>                                                                                                                                                                                                                                                                                                                                                                                                                                                                           rdfs:subClassOf\n",
       "This file is part of the ontology YAGO3. It is licensed under a Creative-Commons Attribution License by the YAGO team at the Max Planck Institute for Informatics/Germany. See http://yago-knowledge.org for all details. This file was generated on 2017-06-06 T 18:48:11.0135. A simplified rdf:type system. This theme contains all instances, and links them with rdf:type facts to the leaf level of WordNet (use with yagoSimpleTaxonomy) SIMPLETAX .                        <yagoGeoEntity> .\n",
       "Name: 24823059, dtype: object"
      ]
     },
     "execution_count": 316,
     "metadata": {},
     "output_type": "execute_result"
    }
   ],
   "source": [
    "xc.iloc[-1]"
   ]
  },
  {
   "cell_type": "code",
   "execution_count": 346,
   "metadata": {},
   "outputs": [],
   "source": [
    "table_pred = y_type[1].value_counts()\n",
    "table_obj = y_type[2].value_counts()\n",
    "#table.to_frame()"
   ]
  },
  {
   "cell_type": "code",
   "execution_count": 347,
   "metadata": {},
   "outputs": [],
   "source": [
    "export_csv = table_obj.to_csv (input_path+'obj_statistics_yagoType.csv', header=False, sep='\\t')\n",
    "export_csv = table_pred.to_csv (input_path+'pred_statistics_yagoType.csv', header=False, sep='\\t')"
   ]
  },
  {
   "cell_type": "code",
   "execution_count": null,
   "metadata": {},
   "outputs": [],
   "source": []
  },
  {
   "cell_type": "code",
   "execution_count": 348,
   "metadata": {},
   "outputs": [],
   "source": [
    "table_subj = taxonomy[0].value_counts()\n",
    "table_pred = taxonomy[1].value_counts()"
   ]
  },
  {
   "cell_type": "code",
   "execution_count": 349,
   "metadata": {},
   "outputs": [],
   "source": [
    "export_csv = table_subj.to_csv (input_path+'subj_statistics_yagoTaxonomy.csv', header=False, sep='\\t')\n",
    "export_csv = table_pred.to_csv (input_path+'pred_statistics_yagoTaxonomy.csv', header=False, sep='\\t')"
   ]
  },
  {
   "cell_type": "code",
   "execution_count": 350,
   "metadata": {},
   "outputs": [],
   "source": [
    "yago_dataset = pd.read_csv(yago, delimiter='\\t', header=None)"
   ]
  },
  {
   "cell_type": "code",
   "execution_count": null,
   "metadata": {},
   "outputs": [],
   "source": []
  },
  {
   "cell_type": "code",
   "execution_count": 378,
   "metadata": {},
   "outputs": [],
   "source": [
    "table_prop = yago_dataset[1].value_counts()\n",
    "table_prop.to_csv (input_path+'properties_types_yagoDataset.csv', header=False, sep='\\t')"
   ]
  },
  {
   "cell_type": "code",
   "execution_count": 373,
   "metadata": {},
   "outputs": [
    {
     "data": {
      "text/html": [
       "<div>\n",
       "<style scoped>\n",
       "    .dataframe tbody tr th:only-of-type {\n",
       "        vertical-align: middle;\n",
       "    }\n",
       "\n",
       "    .dataframe tbody tr th {\n",
       "        vertical-align: top;\n",
       "    }\n",
       "\n",
       "    .dataframe thead th {\n",
       "        text-align: right;\n",
       "    }\n",
       "</style>\n",
       "<table border=\"1\" class=\"dataframe\">\n",
       "  <thead>\n",
       "    <tr style=\"text-align: right;\">\n",
       "      <th></th>\n",
       "      <th>0</th>\n",
       "      <th>1</th>\n",
       "      <th>2</th>\n",
       "    </tr>\n",
       "  </thead>\n",
       "  <tbody>\n",
       "    <tr>\n",
       "      <th>10</th>\n",
       "      <td>Peter_Creamer</td>\n",
       "      <td>wasBornIn</td>\n",
       "      <td>Hartlepool</td>\n",
       "    </tr>\n",
       "    <tr>\n",
       "      <th>87750</th>\n",
       "      <td>Peter_Creamer</td>\n",
       "      <td>playsFor</td>\n",
       "      <td>Rochdale_A.F.C.</td>\n",
       "    </tr>\n",
       "    <tr>\n",
       "      <th>265674</th>\n",
       "      <td>Peter_Creamer</td>\n",
       "      <td>playsFor</td>\n",
       "      <td>Gateshead_F.C.</td>\n",
       "    </tr>\n",
       "    <tr>\n",
       "      <th>339359</th>\n",
       "      <td>Peter_Creamer</td>\n",
       "      <td>playsFor</td>\n",
       "      <td>Hartlepool_United_F.C.</td>\n",
       "    </tr>\n",
       "    <tr>\n",
       "      <th>347106</th>\n",
       "      <td>Peter_Creamer</td>\n",
       "      <td>playsFor</td>\n",
       "      <td>Dallas_Tornado</td>\n",
       "    </tr>\n",
       "    <tr>\n",
       "      <th>403581</th>\n",
       "      <td>Peter_Creamer</td>\n",
       "      <td>isAffiliatedTo</td>\n",
       "      <td>Doncaster_Rovers_F.C.</td>\n",
       "    </tr>\n",
       "    <tr>\n",
       "      <th>600288</th>\n",
       "      <td>Peter_Creamer</td>\n",
       "      <td>isAffiliatedTo</td>\n",
       "      <td>York_City_F.C.</td>\n",
       "    </tr>\n",
       "    <tr>\n",
       "      <th>601821</th>\n",
       "      <td>Peter_Creamer</td>\n",
       "      <td>isAffiliatedTo</td>\n",
       "      <td>Hartlepool_United_F.C.</td>\n",
       "    </tr>\n",
       "    <tr>\n",
       "      <th>722749</th>\n",
       "      <td>Peter_Creamer</td>\n",
       "      <td>playsFor</td>\n",
       "      <td>Doncaster_Rovers_F.C.</td>\n",
       "    </tr>\n",
       "    <tr>\n",
       "      <th>815872</th>\n",
       "      <td>Peter_Creamer</td>\n",
       "      <td>isAffiliatedTo</td>\n",
       "      <td>Rochdale_A.F.C.</td>\n",
       "    </tr>\n",
       "    <tr>\n",
       "      <th>881724</th>\n",
       "      <td>Peter_Creamer</td>\n",
       "      <td>isAffiliatedTo</td>\n",
       "      <td>Middlesbrough_F.C.</td>\n",
       "    </tr>\n",
       "    <tr>\n",
       "      <th>1022726</th>\n",
       "      <td>Peter_Creamer</td>\n",
       "      <td>playsFor</td>\n",
       "      <td>York_City_F.C.</td>\n",
       "    </tr>\n",
       "    <tr>\n",
       "      <th>1043983</th>\n",
       "      <td>Peter_Creamer</td>\n",
       "      <td>playsFor</td>\n",
       "      <td>Middlesbrough_F.C.</td>\n",
       "    </tr>\n",
       "    <tr>\n",
       "      <th>1054236</th>\n",
       "      <td>Peter_Creamer</td>\n",
       "      <td>isAffiliatedTo</td>\n",
       "      <td>Gateshead_F.C.</td>\n",
       "    </tr>\n",
       "    <tr>\n",
       "      <th>1088045</th>\n",
       "      <td>Peter_Creamer</td>\n",
       "      <td>isAffiliatedTo</td>\n",
       "      <td>Dallas_Tornado</td>\n",
       "    </tr>\n",
       "  </tbody>\n",
       "</table>\n",
       "</div>"
      ],
      "text/plain": [
       "                     0               1                       2\n",
       "10       Peter_Creamer       wasBornIn              Hartlepool\n",
       "87750    Peter_Creamer        playsFor         Rochdale_A.F.C.\n",
       "265674   Peter_Creamer        playsFor          Gateshead_F.C.\n",
       "339359   Peter_Creamer        playsFor  Hartlepool_United_F.C.\n",
       "347106   Peter_Creamer        playsFor          Dallas_Tornado\n",
       "403581   Peter_Creamer  isAffiliatedTo   Doncaster_Rovers_F.C.\n",
       "600288   Peter_Creamer  isAffiliatedTo          York_City_F.C.\n",
       "601821   Peter_Creamer  isAffiliatedTo  Hartlepool_United_F.C.\n",
       "722749   Peter_Creamer        playsFor   Doncaster_Rovers_F.C.\n",
       "815872   Peter_Creamer  isAffiliatedTo         Rochdale_A.F.C.\n",
       "881724   Peter_Creamer  isAffiliatedTo      Middlesbrough_F.C.\n",
       "1022726  Peter_Creamer        playsFor          York_City_F.C.\n",
       "1043983  Peter_Creamer        playsFor      Middlesbrough_F.C.\n",
       "1054236  Peter_Creamer  isAffiliatedTo          Gateshead_F.C.\n",
       "1088045  Peter_Creamer  isAffiliatedTo          Dallas_Tornado"
      ]
     },
     "execution_count": 373,
     "metadata": {},
     "output_type": "execute_result"
    }
   ],
   "source": [
    "#(yago_dataset[0] == 'Peter_Creamer').sum()\n",
    "list_a = yago_dataset.index[yago_dataset[0] == 'Peter_Creamer'].tolist()\n",
    "yago_dataset.iloc[list_a,:]"
   ]
  },
  {
   "cell_type": "code",
   "execution_count": 375,
   "metadata": {},
   "outputs": [
    {
     "data": {
      "text/html": [
       "<div>\n",
       "<style scoped>\n",
       "    .dataframe tbody tr th:only-of-type {\n",
       "        vertical-align: middle;\n",
       "    }\n",
       "\n",
       "    .dataframe tbody tr th {\n",
       "        vertical-align: top;\n",
       "    }\n",
       "\n",
       "    .dataframe thead th {\n",
       "        text-align: right;\n",
       "    }\n",
       "</style>\n",
       "<table border=\"1\" class=\"dataframe\">\n",
       "  <thead>\n",
       "    <tr style=\"text-align: right;\">\n",
       "      <th></th>\n",
       "      <th>0</th>\n",
       "      <th>1</th>\n",
       "      <th>2</th>\n",
       "    </tr>\n",
       "  </thead>\n",
       "  <tbody>\n",
       "    <tr>\n",
       "      <th>5088687</th>\n",
       "      <td>&lt;Peter_Creamer&gt;</td>\n",
       "      <td>rdf:type</td>\n",
       "      <td>&lt;wikicat_York_City_F.C._players&gt; .</td>\n",
       "    </tr>\n",
       "    <tr>\n",
       "      <th>9429816</th>\n",
       "      <td>&lt;Peter_Creamer&gt;</td>\n",
       "      <td>rdf:type</td>\n",
       "      <td>&lt;wikicat_Dallas_Tornado_players&gt; .</td>\n",
       "    </tr>\n",
       "    <tr>\n",
       "      <th>9571953</th>\n",
       "      <td>&lt;Peter_Creamer&gt;</td>\n",
       "      <td>rdf:type</td>\n",
       "      <td>&lt;wikicat_Doncaster_Rovers_F.C._players&gt; .</td>\n",
       "    </tr>\n",
       "    <tr>\n",
       "      <th>13016567</th>\n",
       "      <td>&lt;Peter_Creamer&gt;</td>\n",
       "      <td>rdf:type</td>\n",
       "      <td>&lt;wikicat_Living_people&gt; .</td>\n",
       "    </tr>\n",
       "    <tr>\n",
       "      <th>18188884</th>\n",
       "      <td>&lt;Peter_Creamer&gt;</td>\n",
       "      <td>rdf:type</td>\n",
       "      <td>&lt;wikicat_Hartlepool_United_F.C._players&gt; .</td>\n",
       "    </tr>\n",
       "    <tr>\n",
       "      <th>19838370</th>\n",
       "      <td>&lt;Peter_Creamer&gt;</td>\n",
       "      <td>rdf:type</td>\n",
       "      <td>&lt;wikicat_Middlesbrough_F.C._players&gt; .</td>\n",
       "    </tr>\n",
       "    <tr>\n",
       "      <th>21820100</th>\n",
       "      <td>&lt;Peter_Creamer&gt;</td>\n",
       "      <td>rdf:type</td>\n",
       "      <td>&lt;wikicat_Association_football_defenders&gt; .</td>\n",
       "    </tr>\n",
       "    <tr>\n",
       "      <th>22269091</th>\n",
       "      <td>&lt;Peter_Creamer&gt;</td>\n",
       "      <td>rdf:type</td>\n",
       "      <td>&lt;wikicat_North_American_Soccer_League_(1968–84...</td>\n",
       "    </tr>\n",
       "    <tr>\n",
       "      <th>22674164</th>\n",
       "      <td>&lt;Peter_Creamer&gt;</td>\n",
       "      <td>rdf:type</td>\n",
       "      <td>&lt;wikicat_Rochdale_A.F.C._players&gt; .</td>\n",
       "    </tr>\n",
       "    <tr>\n",
       "      <th>23224533</th>\n",
       "      <td>&lt;Peter_Creamer&gt;</td>\n",
       "      <td>rdf:type</td>\n",
       "      <td>&lt;wikicat_English_footballers&gt; .</td>\n",
       "    </tr>\n",
       "    <tr>\n",
       "      <th>23830929</th>\n",
       "      <td>&lt;Peter_Creamer&gt;</td>\n",
       "      <td>rdf:type</td>\n",
       "      <td>&lt;wikicat_English_Football_League_players&gt; .</td>\n",
       "    </tr>\n",
       "  </tbody>\n",
       "</table>\n",
       "</div>"
      ],
      "text/plain": [
       "                        0         1  \\\n",
       "5088687   <Peter_Creamer>  rdf:type   \n",
       "9429816   <Peter_Creamer>  rdf:type   \n",
       "9571953   <Peter_Creamer>  rdf:type   \n",
       "13016567  <Peter_Creamer>  rdf:type   \n",
       "18188884  <Peter_Creamer>  rdf:type   \n",
       "19838370  <Peter_Creamer>  rdf:type   \n",
       "21820100  <Peter_Creamer>  rdf:type   \n",
       "22269091  <Peter_Creamer>  rdf:type   \n",
       "22674164  <Peter_Creamer>  rdf:type   \n",
       "23224533  <Peter_Creamer>  rdf:type   \n",
       "23830929  <Peter_Creamer>  rdf:type   \n",
       "\n",
       "                                                          2  \n",
       "5088687                  <wikicat_York_City_F.C._players> .  \n",
       "9429816                  <wikicat_Dallas_Tornado_players> .  \n",
       "9571953           <wikicat_Doncaster_Rovers_F.C._players> .  \n",
       "13016567                          <wikicat_Living_people> .  \n",
       "18188884         <wikicat_Hartlepool_United_F.C._players> .  \n",
       "19838370             <wikicat_Middlesbrough_F.C._players> .  \n",
       "21820100         <wikicat_Association_football_defenders> .  \n",
       "22269091  <wikicat_North_American_Soccer_League_(1968–84...  \n",
       "22674164                <wikicat_Rochdale_A.F.C._players> .  \n",
       "23224533                    <wikicat_English_footballers> .  \n",
       "23830929        <wikicat_English_Football_League_players> .  "
      ]
     },
     "execution_count": 375,
     "metadata": {},
     "output_type": "execute_result"
    }
   ],
   "source": [
    "#(y_type[0] == '<Peter_Creamer>').sum()\n",
    "list_b = y_type.index[y_type[0] == '<Peter_Creamer>'].tolist()\n",
    "y_type.iloc[list_b,:]"
   ]
  },
  {
   "cell_type": "code",
   "execution_count": null,
   "metadata": {},
   "outputs": [],
   "source": []
  }
 ],
 "metadata": {
  "kernelspec": {
   "display_name": "Python 3",
   "language": "python",
   "name": "python3"
  },
  "language_info": {
   "codemirror_mode": {
    "name": "ipython",
    "version": 3
   },
   "file_extension": ".py",
   "mimetype": "text/x-python",
   "name": "python",
   "nbconvert_exporter": "python",
   "pygments_lexer": "ipython3",
   "version": "3.6.7"
  }
 },
 "nbformat": 4,
 "nbformat_minor": 2
}
