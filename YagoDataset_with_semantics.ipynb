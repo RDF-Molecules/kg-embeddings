{
 "cells": [
  {
   "cell_type": "code",
   "execution_count": 1,
   "metadata": {},
   "outputs": [],
   "source": [
    "import pandas as pd\n",
    "import numpy as np\n",
    "from io import StringIO"
   ]
  },
  {
   "cell_type": "markdown",
   "metadata": {},
   "source": [
    "## Load data"
   ]
  },
  {
   "cell_type": "code",
   "execution_count": 2,
   "metadata": {},
   "outputs": [
    {
     "name": "stdout",
     "output_type": "stream",
     "text": [
      "(24193408, 3)\n",
      "(629688, 3)\n"
     ]
    }
   ],
   "source": [
    "input_path = \"/media/rivas/Data1/Data-mining/Kcap/\"\n",
    "\n",
    "y_s_taxonomy = input_path + \"yagoSimpleTaxonomy.ttl\"\n",
    "y_s_type = input_path + \"yagoSimpleTypes.ttl\"\n",
    "yago = input_path + \"yago10.txt\"\n",
    "\n",
    "taxonomy = pd.read_csv(y_s_taxonomy, delimiter='\\t', header=None, skiprows=9)\n",
    "y_type = pd.read_csv(y_s_type, delimiter='\\t', header=None, skiprows=9)\n",
    "yago_dataset = pd.read_csv(yago, delimiter='\\t', header=None)\n",
    "\n",
    "print(y_type.shape)\n",
    "print(taxonomy.shape)"
   ]
  },
  {
   "cell_type": "code",
   "execution_count": 3,
   "metadata": {},
   "outputs": [
    {
     "data": {
      "text/html": [
       "<div>\n",
       "<style scoped>\n",
       "    .dataframe tbody tr th:only-of-type {\n",
       "        vertical-align: middle;\n",
       "    }\n",
       "\n",
       "    .dataframe tbody tr th {\n",
       "        vertical-align: top;\n",
       "    }\n",
       "\n",
       "    .dataframe thead th {\n",
       "        text-align: right;\n",
       "    }\n",
       "</style>\n",
       "<table border=\"1\" class=\"dataframe\">\n",
       "  <thead>\n",
       "    <tr style=\"text-align: right;\">\n",
       "      <th></th>\n",
       "      <th>0</th>\n",
       "      <th>1</th>\n",
       "      <th>2</th>\n",
       "    </tr>\n",
       "  </thead>\n",
       "  <tbody>\n",
       "    <tr>\n",
       "      <th>0</th>\n",
       "      <td>@base &lt;http://yago-knowledge.org/resource/&gt; .</td>\n",
       "      <td>NaN</td>\n",
       "      <td>NaN</td>\n",
       "    </tr>\n",
       "    <tr>\n",
       "      <th>1</th>\n",
       "      <td>@prefix dbp: &lt;http://dbpedia.org/ontology/&gt; .</td>\n",
       "      <td>NaN</td>\n",
       "      <td>NaN</td>\n",
       "    </tr>\n",
       "    <tr>\n",
       "      <th>2</th>\n",
       "      <td>@prefix owl: &lt;http://www.w3.org/2002/07/owl#&gt; .</td>\n",
       "      <td>NaN</td>\n",
       "      <td>NaN</td>\n",
       "    </tr>\n",
       "    <tr>\n",
       "      <th>3</th>\n",
       "      <td>@prefix rdf: &lt;http://www.w3.org/1999/02/22-rdf...</td>\n",
       "      <td>NaN</td>\n",
       "      <td>NaN</td>\n",
       "    </tr>\n",
       "    <tr>\n",
       "      <th>4</th>\n",
       "      <td>@prefix rdfs: &lt;http://www.w3.org/2000/01/rdf-s...</td>\n",
       "      <td>NaN</td>\n",
       "      <td>NaN</td>\n",
       "    </tr>\n",
       "  </tbody>\n",
       "</table>\n",
       "</div>"
      ],
      "text/plain": [
       "                                                   0   1   2\n",
       "0      @base <http://yago-knowledge.org/resource/> . NaN NaN\n",
       "1      @prefix dbp: <http://dbpedia.org/ontology/> . NaN NaN\n",
       "2    @prefix owl: <http://www.w3.org/2002/07/owl#> . NaN NaN\n",
       "3  @prefix rdf: <http://www.w3.org/1999/02/22-rdf... NaN NaN\n",
       "4  @prefix rdfs: <http://www.w3.org/2000/01/rdf-s... NaN NaN"
      ]
     },
     "execution_count": 3,
     "metadata": {},
     "output_type": "execute_result"
    }
   ],
   "source": [
    "prefix = \"\"\"\n",
    "@base <http://yago-knowledge.org/resource/> .\\t\\t\n",
    "@prefix dbp: <http://dbpedia.org/ontology/> .\\t\\t\n",
    "@prefix owl: <http://www.w3.org/2002/07/owl#> .\\t\\t\n",
    "@prefix rdf: <http://www.w3.org/1999/02/22-rdf-syntax-ns#> .\\t\\t\n",
    "@prefix rdfs: <http://www.w3.org/2000/01/rdf-schema#> .\\t\\t\n",
    "@prefix skos: <http://www.w3.org/2004/02/skos/core#> .\\t\\t\n",
    "@prefix xsd: <http://www.w3.org/2001/XMLSchema#> .\\t\\t\n",
    "\"\"\"\n",
    "str_io = StringIO(prefix)\n",
    "frame_prefix = pd.read_csv(str_io, sep=\"\\t\", header=None)\n",
    "frame_prefix.head()"
   ]
  },
  {
   "cell_type": "markdown",
   "metadata": {},
   "source": [
    "## Concatenate and save DataFrame"
   ]
  },
  {
   "cell_type": "code",
   "execution_count": 4,
   "metadata": {},
   "outputs": [],
   "source": [
    "frames = [frame_prefix, taxonomy, y_type]\n",
    "dataset_semantic = pd.concat(frames)\n",
    "export_csv = dataset_semantic.to_csv (input_path+'dataset_semantic.ttl', index = None, header=False, sep='\\t')"
   ]
  },
  {
   "cell_type": "markdown",
   "metadata": {},
   "source": [
    "## Taxonomy statistics "
   ]
  },
  {
   "cell_type": "code",
   "execution_count": 6,
   "metadata": {},
   "outputs": [],
   "source": [
    "table_subj = taxonomy[0].value_counts()\n",
    "table_pred = taxonomy[1].value_counts()\n",
    "table_subj.to_csv (input_path+'subj_statistics_yagoTaxonomy.csv', header=False, sep='\\t')\n",
    "table_pred.to_csv (input_path+'pred_statistics_yagoTaxonomy.csv', header=False, sep='\\t')"
   ]
  },
  {
   "cell_type": "markdown",
   "metadata": {},
   "source": [
    "## Type statistics"
   ]
  },
  {
   "cell_type": "code",
   "execution_count": 7,
   "metadata": {},
   "outputs": [],
   "source": [
    "table_pred = y_type[1].value_counts()\n",
    "table_obj = y_type[2].value_counts()\n",
    "table_obj.to_csv (input_path+'obj_statistics_yagoType.csv', header=False, sep='\\t')\n",
    "table_pred.to_csv (input_path+'pred_statistics_yagoType.csv', header=False, sep='\\t')"
   ]
  },
  {
   "cell_type": "markdown",
   "metadata": {},
   "source": [
    "## DatasetYago statistics"
   ]
  },
  {
   "cell_type": "code",
   "execution_count": 9,
   "metadata": {},
   "outputs": [],
   "source": [
    "table_prop = yago_dataset[1].value_counts()\n",
    "table_prop.to_csv (input_path+'properties_types_yagoDataset.csv', header=False, sep='\\t')"
   ]
  },
  {
   "cell_type": "code",
   "execution_count": null,
   "metadata": {},
   "outputs": [],
   "source": []
  }
 ],
 "metadata": {
  "kernelspec": {
   "display_name": "Python 3",
   "language": "python",
   "name": "python3"
  },
  "language_info": {
   "codemirror_mode": {
    "name": "ipython",
    "version": 3
   },
   "file_extension": ".py",
   "mimetype": "text/x-python",
   "name": "python",
   "nbconvert_exporter": "python",
   "pygments_lexer": "ipython3",
   "version": "3.6.7"
  }
 },
 "nbformat": 4,
 "nbformat_minor": 2
}
