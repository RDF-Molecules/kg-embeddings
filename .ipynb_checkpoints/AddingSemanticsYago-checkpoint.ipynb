{
 "cells": [
  {
   "cell_type": "code",
   "execution_count": 1,
   "metadata": {
    "collapsed": true
   },
   "outputs": [],
   "source": [
    "import pandas as pd\n",
    "import numpy as np"
   ]
  },
  {
   "cell_type": "code",
   "execution_count": 9,
   "metadata": {},
   "outputs": [
    {
     "name": "stdout",
     "output_type": "stream",
     "text": [
      "1079040\n",
      "(1079040, 3)\n",
      "['Chatou' 'isLocatedIn' 'France']\n"
     ]
    }
   ],
   "source": [
    "#Opening a TSV file and storing it on a numpy array\n",
    "#Starting with YAGO valid file\n",
    "filename = './yago10/train.txt' #'./yago10/train.txt'\n",
    "df = np.loadtxt(open(filename,'r', encoding='utf-8'), dtype=\"str\", delimiter=\"\\t\")\n",
    "print(len(df))\n",
    "print(df.shape)\n",
    "print(df[0])"
   ]
  },
  {
   "cell_type": "code",
   "execution_count": 10,
   "metadata": {
    "collapsed": true
   },
   "outputs": [],
   "source": [
    "#Creating a dicctionary of subjects and predicates\n",
    "sod = dict()\n",
    "for x in range(0, len(df)):\n",
    "    s = df[x][0]\n",
    "    p = df[x][1]\n",
    "    o = df[x][2]\n",
    "    if (s in sod):\n",
    "        sod[s] = sod[s] + 1\n",
    "    else:\n",
    "        sod[s] = 1\n",
    "    if (p in sod):\n",
    "        sod[p] = sod[p] + 1\n",
    "    else:\n",
    "        sod[p] = 1\n",
    "    if (o in sod):\n",
    "        sod[o] = sod[o] + 1\n",
    "    else:\n",
    "        sod[o] = 1\n",
    "\n",
    "#print(sod)       "
   ]
  },
  {
   "cell_type": "code",
   "execution_count": 4,
   "metadata": {},
   "outputs": [
    {
     "name": "stdout",
     "output_type": "stream",
     "text": [
      "5353084\n",
      "(5353084, 3)\n",
      "['<The_Majalla>' 'rdf:type' '<wikicat_Political_magazines>']\n"
     ]
    }
   ],
   "source": [
    "yagoTypesFileName = './yago10/yagoTypes.tsv.004'\n",
    "npyYagoTypes = np.loadtxt(open(yagoTypesFileName,'r', encoding='utf-8'), dtype=\"str\", usecols=(1, 2, 3), delimiter=\"\\t\", skiprows=1)\n",
    "print(len(npyYagoTypes))\n",
    "print(npyYagoTypes.shape)\n",
    "print(npyYagoTypes[0])"
   ]
  },
  {
   "cell_type": "code",
   "execution_count": 11,
   "metadata": {},
   "outputs": [
    {
     "name": "stdout",
     "output_type": "stream",
     "text": [
      "<The_Majalla>\n",
      "The_Majalla\n",
      "354621\n"
     ]
    }
   ],
   "source": [
    "print(npyYagoTypes[0][0])\n",
    "key = npyYagoTypes[0][0]\n",
    "key = key.replace(\"<\",\"\")\n",
    "key = key.replace(\">\",\"\")\n",
    "print(key)\n",
    "\n",
    "count = 0\n",
    "f = open(\"./yago10/types_train_004.tsv\",\"w+\", encoding='utf-8')\n",
    "\n",
    "for x in range(0, len(npyYagoTypes)):\n",
    "    key = npyYagoTypes[x][0].replace(\"<\",\"\").replace(\">\",\"\")\n",
    "    if (key in sod):\n",
    "        #plist.append({npyYagoTypes[x][1],npyYagoTypes[x][2],npyYagoTypes[x][3]})\n",
    "        f.write(\"%s\\t%s\\t%s\\n\" % (npyYagoTypes[x][0], npyYagoTypes[x][1], npyYagoTypes[x][2]))\n",
    "        count = count + 1\n",
    "        #print(npyYagoTypes[x][1]+\" \"+npyYagoTypes[x][2]+\" \"+npyYagoTypes[x][3])\n",
    "\n",
    "f.close()\n",
    "print(count)        "
   ]
  },
  {
   "cell_type": "code",
   "execution_count": null,
   "metadata": {
    "collapsed": true
   },
   "outputs": [],
   "source": []
  }
 ],
 "metadata": {
  "kernelspec": {
   "display_name": "Python 3",
   "language": "python",
   "name": "python3"
  },
  "language_info": {
   "codemirror_mode": {
    "name": "ipython",
    "version": 3
   },
   "file_extension": ".py",
   "mimetype": "text/x-python",
   "name": "python",
   "nbconvert_exporter": "python",
   "pygments_lexer": "ipython3",
   "version": "3.6.7"
  }
 },
 "nbformat": 4,
 "nbformat_minor": 2
}
