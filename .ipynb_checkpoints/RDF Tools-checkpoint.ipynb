{
 "cells": [
  {
   "cell_type": "markdown",
   "metadata": {},
   "source": [
    "# 1. Querying SPARQL-EndPoint"
   ]
  },
  {
   "cell_type": "code",
   "execution_count": 1,
   "metadata": {
    "collapsed": true
   },
   "outputs": [],
   "source": [
    "import pandas as pd\n",
    "import numpy as np\n",
    "from SPARQLWrapper import SPARQLWrapper, JSON"
   ]
  },
  {
   "cell_type": "code",
   "execution_count": null,
   "metadata": {},
   "outputs": [],
   "source": [
    "#Opening a TSV file and storing it on a numpy array\n",
    "#Starting with YAGO valid file\n",
    "filename = './yago10/test.txt' #'./yago10/train.txt'\n",
    "df = np.loadtxt(open(filename,'r', encoding='utf-8'), dtype=\"str\", delimiter=\"\\t\")\n",
    "print(len(df))\n",
    "print(df.shape)\n",
    "print(df[0])"
   ]
  },
  {
   "cell_type": "code",
   "execution_count": null,
   "metadata": {},
   "outputs": [],
   "source": [
    "#Creating a dicctionary of subjects and predicates\n",
    "sod = dict()\n",
    "for x in range(0, len(df)):\n",
    "    s = df[x][0]\n",
    "    p = df[x][1]\n",
    "    o = df[x][2]\n",
    "    if (s in sod):\n",
    "        sod[s] = sod[s] + 1\n",
    "    else:\n",
    "        sod[s] = 1\n",
    "    if (p in sod):\n",
    "        sod[p] = sod[p] + 1\n",
    "    else:\n",
    "        sod[p] = 1\n",
    "    if (o in sod):\n",
    "        sod[o] = sod[o] + 1\n",
    "    else:\n",
    "        sod[o] = 1\n",
    "\n",
    "print(len(sod))"
   ]
  },
  {
   "cell_type": "code",
   "execution_count": null,
   "metadata": {},
   "outputs": [],
   "source": [
    "# Iterating over keys \n",
    "sparql = SPARQLWrapper(\"https://linkeddata1.calcul.u-psud.fr/sparql\")\n",
    "\n",
    "count = 0\n",
    "f = open(\"./yago10/types_test.tsv\",\"w+\", encoding='utf-8')\n",
    "\n",
    "for state in sod: \n",
    "    print(state)\n",
    "    sparql.setQuery(\"\"\"\n",
    "        PREFIX yago: <http://yago-knowledge.org/resource/>\n",
    "        PREFIX rdf: <http://www.w3.org/1999/02/22-rdf-syntax-ns#>\n",
    "        SELECT DISTINCT ?obj\n",
    "        WHERE { \n",
    "            <http://yago-knowledge.org/resource/%s> rdf:type ?obj\n",
    "        }\n",
    "        \"\"\" % state)\n",
    "    sparql.setReturnFormat(JSON)\n",
    "    results = sparql.query().convert()\n",
    "\n",
    "    for result in results[\"results\"][\"bindings\"]:\n",
    "        f.write(\"%s\\t%s\\t%s\\n\" % (state, \"rdf:type\", result[\"obj\"][\"value\"].replace(\"http://yago-knowledge.org/resource/\",\"\")))\n",
    "        count = count + 1\n",
    "        #print('%s' % (result[\"obj\"][\"value\"]))\n",
    "\n",
    "f.close()\n",
    "print(count)        "
   ]
  },
  {
   "cell_type": "markdown",
   "metadata": {
    "collapsed": true
   },
   "source": [
    "# 2. Transforming training data to RDF"
   ]
  },
  {
   "cell_type": "code",
   "execution_count": 39,
   "metadata": {},
   "outputs": [
    {
     "name": "stdout",
     "output_type": "stream",
     "text": [
      "23470\n",
      "(23470, 3)\n",
      "['<Burbank,_California>' 'rdf:type'\n",
      " '<wikicat_Populated_places_established_in_1911>']\n"
     ]
    }
   ],
   "source": [
    "#Opening a TSV file and storing it on a numpy array\n",
    "#Starting with YAGO valid file\n",
    "filename = './yago10/types/types_test_004.tsv' #'./yago10/train.txt'\n",
    "df = np.loadtxt(open(filename,'r', encoding='utf-8'), dtype=\"str\", delimiter=\"\\t\")\n",
    "print(len(df))\n",
    "print(df.shape)\n",
    "print(df[0])"
   ]
  },
  {
   "cell_type": "code",
   "execution_count": 40,
   "metadata": {},
   "outputs": [
    {
     "name": "stdout",
     "output_type": "stream",
     "text": [
      "23470\n"
     ]
    }
   ],
   "source": [
    "count = 0\n",
    "f = open(\"./yago10/types/types_test_004.nt\",\"w+\", encoding='utf-8')\n",
    "\n",
    "for x in range(0, len(df)):\n",
    "    s = df[x][0].replace(\"<\",\"\").replace(\">\",\"\")\n",
    "    p = df[x][1].replace(\"<\",\"\").replace(\">\",\"\").replace(\"rdf:\",\"\")\n",
    "    o = df[x][2].replace(\"<\",\"\").replace(\">\",\"\")\n",
    "    s = \"<http://yago-knowledge.org/resource/\" + s + \">\"\n",
    "    p = \"<http://www.w3.org/1999/02/22-rdf-syntax-ns#\" + p + \">\"\n",
    "    o = \"<http://yago-knowledge.org/resource/\" + o + \">\"\n",
    "    f.write(\"%s\\t%s\\t%s .\\n\" % (s,p,o))\n",
    "    count = count + 1\n",
    "\n",
    "f.close()\n",
    "print(count)"
   ]
  },
  {
   "cell_type": "code",
   "execution_count": null,
   "metadata": {
    "collapsed": true
   },
   "outputs": [],
   "source": []
  }
 ],
 "metadata": {
  "kernelspec": {
   "display_name": "Python 3",
   "language": "python",
   "name": "python3"
  },
  "language_info": {
   "codemirror_mode": {
    "name": "ipython",
    "version": 3
   },
   "file_extension": ".py",
   "mimetype": "text/x-python",
   "name": "python",
   "nbconvert_exporter": "python",
   "pygments_lexer": "ipython3",
   "version": "3.6.7"
  }
 },
 "nbformat": 4,
 "nbformat_minor": 2
}
