{
 "cells": [
  {
   "cell_type": "code",
   "execution_count": 1,
   "metadata": {},
   "outputs": [],
   "source": [
    "import pandas as pd\n",
    "import numpy as np\n",
    "from io import StringIO"
   ]
  },
  {
   "cell_type": "markdown",
   "metadata": {},
   "source": [
    "## Load data"
   ]
  },
  {
   "cell_type": "code",
   "execution_count": 2,
   "metadata": {},
   "outputs": [
    {
     "name": "stdout",
     "output_type": "stream",
     "text": [
      "(24193408, 3)\n",
      "(629688, 3)\n"
     ]
    }
   ],
   "source": [
    "input_path = \"/media/rivas/Data1/Data-mining/Kcap/\"\n",
    "\n",
    "y_s_taxonomy = input_path + \"yagoSimpleTaxonomy.ttl\"\n",
    "y_s_type = input_path + \"yagoSimpleTypes.ttl\"\n",
    "yago = input_path + \"yago10.txt\"\n",
    "\n",
    "taxonomy = pd.read_csv(y_s_taxonomy, delimiter='\\t', header=None, skiprows=9)\n",
    "y_type = pd.read_csv(y_s_type, delimiter='\\t', header=None, skiprows=9)\n",
    "yago_dataset = pd.read_csv(yago, delimiter='\\t', header=None)\n",
    "\n",
    "print(y_type.shape)\n",
    "print(taxonomy.shape)"
   ]
  },
  {
   "cell_type": "code",
   "execution_count": 3,
   "metadata": {},
   "outputs": [
    {
     "data": {
      "text/html": [
       "<div>\n",
       "<style scoped>\n",
       "    .dataframe tbody tr th:only-of-type {\n",
       "        vertical-align: middle;\n",
       "    }\n",
       "\n",
       "    .dataframe tbody tr th {\n",
       "        vertical-align: top;\n",
       "    }\n",
       "\n",
       "    .dataframe thead th {\n",
       "        text-align: right;\n",
       "    }\n",
       "</style>\n",
       "<table border=\"1\" class=\"dataframe\">\n",
       "  <thead>\n",
       "    <tr style=\"text-align: right;\">\n",
       "      <th></th>\n",
       "      <th>0</th>\n",
       "      <th>1</th>\n",
       "      <th>2</th>\n",
       "    </tr>\n",
       "  </thead>\n",
       "  <tbody>\n",
       "    <tr>\n",
       "      <th>0</th>\n",
       "      <td>@base &lt;http://yago-knowledge.org/resource/&gt; .</td>\n",
       "      <td>NaN</td>\n",
       "      <td>NaN</td>\n",
       "    </tr>\n",
       "    <tr>\n",
       "      <th>1</th>\n",
       "      <td>@prefix dbp: &lt;http://dbpedia.org/ontology/&gt; .</td>\n",
       "      <td>NaN</td>\n",
       "      <td>NaN</td>\n",
       "    </tr>\n",
       "    <tr>\n",
       "      <th>2</th>\n",
       "      <td>@prefix owl: &lt;http://www.w3.org/2002/07/owl#&gt; .</td>\n",
       "      <td>NaN</td>\n",
       "      <td>NaN</td>\n",
       "    </tr>\n",
       "    <tr>\n",
       "      <th>3</th>\n",
       "      <td>@prefix rdf: &lt;http://www.w3.org/1999/02/22-rdf...</td>\n",
       "      <td>NaN</td>\n",
       "      <td>NaN</td>\n",
       "    </tr>\n",
       "    <tr>\n",
       "      <th>4</th>\n",
       "      <td>@prefix rdfs: &lt;http://www.w3.org/2000/01/rdf-s...</td>\n",
       "      <td>NaN</td>\n",
       "      <td>NaN</td>\n",
       "    </tr>\n",
       "  </tbody>\n",
       "</table>\n",
       "</div>"
      ],
      "text/plain": [
       "                                                   0   1   2\n",
       "0      @base <http://yago-knowledge.org/resource/> . NaN NaN\n",
       "1      @prefix dbp: <http://dbpedia.org/ontology/> . NaN NaN\n",
       "2    @prefix owl: <http://www.w3.org/2002/07/owl#> . NaN NaN\n",
       "3  @prefix rdf: <http://www.w3.org/1999/02/22-rdf... NaN NaN\n",
       "4  @prefix rdfs: <http://www.w3.org/2000/01/rdf-s... NaN NaN"
      ]
     },
     "execution_count": 3,
     "metadata": {},
     "output_type": "execute_result"
    }
   ],
   "source": [
    "prefix = \"\"\"\n",
    "@base <http://yago-knowledge.org/resource/> .\\t\\t\n",
    "@prefix dbp: <http://dbpedia.org/ontology/> .\\t\\t\n",
    "@prefix owl: <http://www.w3.org/2002/07/owl#> .\\t\\t\n",
    "@prefix rdf: <http://www.w3.org/1999/02/22-rdf-syntax-ns#> .\\t\\t\n",
    "@prefix rdfs: <http://www.w3.org/2000/01/rdf-schema#> .\\t\\t\n",
    "@prefix skos: <http://www.w3.org/2004/02/skos/core#> .\\t\\t\n",
    "@prefix xsd: <http://www.w3.org/2001/XMLSchema#> .\\t\\t\n",
    "\"\"\"\n",
    "str_io = StringIO(prefix)\n",
    "frame_prefix = pd.read_csv(str_io, sep=\"\\t\", header=None)\n",
    "frame_prefix.head()"
   ]
  },
  {
   "cell_type": "markdown",
   "metadata": {},
   "source": [
    "## Concatenate and save DataFrame"
   ]
  },
  {
   "cell_type": "code",
   "execution_count": 4,
   "metadata": {},
   "outputs": [],
   "source": [
    "frames = [frame_prefix, taxonomy, y_type]\n",
    "dataset_semantic = pd.concat(frames)\n",
    "export_csv = dataset_semantic.to_csv (input_path+'dataset_semantic.ttl', index = None, header=False, sep='\\t')"
   ]
  },
  {
   "cell_type": "markdown",
   "metadata": {},
   "source": [
    "## Taxonomy statistics "
   ]
  },
  {
   "cell_type": "code",
   "execution_count": 6,
   "metadata": {},
   "outputs": [],
   "source": [
    "table_subj = taxonomy[0].value_counts()\n",
    "table_pred = taxonomy[1].value_counts()\n",
    "table_subj.to_csv (input_path+'subj_statistics_yagoTaxonomy.csv', header=False, sep='\\t')\n",
    "table_pred.to_csv (input_path+'pred_statistics_yagoTaxonomy.csv', header=False, sep='\\t')"
   ]
  },
  {
   "cell_type": "markdown",
   "metadata": {},
   "source": [
    "## Type statistics"
   ]
  },
  {
   "cell_type": "code",
   "execution_count": 7,
   "metadata": {},
   "outputs": [],
   "source": [
    "table_pred = y_type[1].value_counts()\n",
    "table_obj = y_type[2].value_counts()\n",
    "table_obj.to_csv (input_path+'obj_statistics_yagoType.csv', header=False, sep='\\t')\n",
    "table_pred.to_csv (input_path+'pred_statistics_yagoType.csv', header=False, sep='\\t')"
   ]
  },
  {
   "cell_type": "markdown",
   "metadata": {},
   "source": [
    "## DatasetYago statistics"
   ]
  },
  {
   "cell_type": "code",
   "execution_count": 9,
   "metadata": {},
   "outputs": [],
   "source": [
    "table_prop = yago_dataset[1].value_counts()\n",
    "table_prop.to_csv (input_path+'properties_types_yagoDataset.csv', header=False, sep='\\t')"
   ]
  },
  {
   "cell_type": "code",
   "execution_count": 7,
   "metadata": {},
   "outputs": [
    {
     "data": {
      "text/plain": [
       "'France'"
      ]
     },
     "execution_count": 7,
     "metadata": {},
     "output_type": "execute_result"
    }
   ],
   "source": [
    "yago_dataset[2]"
   ]
  },
  {
   "cell_type": "code",
   "execution_count": 9,
   "metadata": {},
   "outputs": [
    {
     "data": {
      "text/plain": [
       "0    This file is part of the ontology YAGO3. It is...\n",
       "1                  <wikicat_Warwickshire_cricketers> .\n",
       "2                        <wikicat_Mexican_diplomats> .\n",
       "3                      <wikicat_People_from_Wrocław> .\n",
       "4              <wikicat_Sporting_de_Gijón_B_players> .\n",
       "Name: 2, dtype: object"
      ]
     },
     "execution_count": 9,
     "metadata": {},
     "output_type": "execute_result"
    }
   ],
   "source": [
    "y_type[2]"
   ]
  },
  {
   "cell_type": "code",
   "execution_count": 15,
   "metadata": {},
   "outputs": [
    {
     "name": "stdout",
     "output_type": "stream",
     "text": [
      "0    95783\n",
      "1    95783\n",
      "2    95783\n",
      "dtype: int64\n"
     ]
    }
   ],
   "source": [
    "found = y_type[y_type[2].str.contains(yago_dataset[2][0])]\n",
    "print(found.count())"
   ]
  },
  {
   "cell_type": "code",
   "execution_count": 19,
   "metadata": {},
   "outputs": [
    {
     "data": {
      "text/plain": [
       "1089040"
      ]
     },
     "execution_count": 19,
     "metadata": {},
     "output_type": "execute_result"
    }
   ],
   "source": [
    "yago_dataset.shape[0]"
   ]
  },
  {
   "cell_type": "code",
   "execution_count": null,
   "metadata": {},
   "outputs": [
    {
     "name": "stdout",
     "output_type": "stream",
     "text": [
      "Yangju_Citizen_FC no appear in yago type\n"
     ]
    },
    {
     "name": "stderr",
     "output_type": "stream",
     "text": [
      "/usr/local/lib/python3.6/dist-packages/ipykernel_launcher.py:2: UserWarning: This pattern has match groups. To actually get the groups, use str.extract.\n",
      "  \n"
     ]
    },
    {
     "name": "stdout",
     "output_type": "stream",
     "text": [
      "Trinity_University_(Texas) no appear in yago type\n",
      "The_Bad_Seed_(1956_film) no appear in yago type\n",
      "Our_Hospitality no appear in yago type\n",
      "New_York_Americans_(soccer) no appear in yago type\n",
      "Caught_in_a_Cabaret no appear in yago type\n",
      "Northern_Ireland_national_under-21_football_team no appear in yago type\n",
      "Parma_F.C. no appear in yago type\n",
      "Madison,_North_Carolina no appear in yago type\n",
      "Leeds_United_A.F.C. no appear in yago type\n",
      "Spain_national_under-20_football_team no appear in yago type\n",
      "Tiburones_Rojos_de_Coatzacoalcos no appear in yago type\n",
      "Wedding_Crashers no appear in yago type\n",
      "wordnet_guitar_103467517 no appear in yago type\n",
      "Fuelin'_Around no appear in yago type\n",
      "Toulouse–Blagnac_Airport no appear in yago type\n",
      "SK_Hanácká_Slavia_Kroměříž no appear in yago type\n",
      "Boston_Bears_(soccer) no appear in yago type\n",
      "Visakhapatnam_Airport no appear in yago type\n",
      "Jobst_of_Moravia no appear in yago type\n",
      "Club_de_Gimnasia_y_Esgrima_La_Plata no appear in yago type\n",
      "Aadhavan no appear in yago type\n",
      "FC_Zirka_Kirovohrad no appear in yago type\n",
      "Robursport_Volley_Pesaro no appear in yago type\n",
      "O.G.C._Nice no appear in yago type\n",
      "Operation_Achilles no appear in yago type\n",
      "Saving_Grace_(1985_film) no appear in yago type\n",
      "Republic_of_Ireland_national_under-19_football_team no appear in yago type\n",
      "St._Mirren_F.C. no appear in yago type\n",
      "FIFA_World_Player_of_the_Year no appear in yago type\n",
      "Jean_Piaget no appear in yago type\n",
      "E.S._Troyes_A.C. no appear in yago type\n",
      "Pasteur_Institute no appear in yago type\n",
      "Turkey_national_under-21_football_team no appear in yago type\n",
      "Italy_national_under-21_football_team no appear in yago type\n",
      "Sahara_(2005_film) no appear in yago type\n",
      "Love_in_Exile no appear in yago type\n",
      "Henry_Ludwell_Moore no appear in yago type\n",
      "F.C._Nantes no appear in yago type\n",
      "Cocoon_(film) no appear in yago type\n",
      "Thailand_national_under-23_football_team no appear in yago type\n",
      "C.S._Marítimo_B no appear in yago type\n",
      "AG_København no appear in yago type\n",
      "İstanbulspor_A.Ş. no appear in yago type\n",
      "FC_Alnas_Almetyevsk no appear in yago type\n",
      "Netherlands_national_under-21_football_team no appear in yago type\n",
      "New_York_Giants_(soccer) no appear in yago type\n",
      "Tarzan_(1999_film) no appear in yago type\n",
      "Bradley_International_Airport no appear in yago type\n",
      "Istanbul_Atatürk_Airport no appear in yago type\n",
      "USSR_State_Prize no appear in yago type\n",
      "Fuck_(film) no appear in yago type\n",
      "Hohhot_Baita_International_Airport no appear in yago type\n",
      "R.C.D._Espanyol_de_Barcelona no appear in yago type\n",
      "A.C.F._Fiorentina no appear in yago type\n",
      "Netaji_Subhas_Chandra_Bose_International_Airport no appear in yago type\n",
      "Golmaal_Returns no appear in yago type\n",
      "Argentina_national_under-23_football_team no appear in yago type\n",
      "Rififi no appear in yago type\n",
      "Turkey_national_under-17_football_team no appear in yago type\n",
      "Celtic_Boys_Club no appear in yago type\n",
      "wordnet_guitar_103467517 no appear in yago type\n",
      "Football_Club_Libourne no appear in yago type\n",
      "Levante_U.D. no appear in yago type\n",
      "Heart_of_Midlothian_F.C. no appear in yago type\n",
      "Fuerteventura_Airport no appear in yago type\n",
      "Paul_Langevin no appear in yago type\n",
      "Enter_the_Dragon no appear in yago type\n",
      "South_Korea_national_under-23_football_team no appear in yago type\n",
      "São_José_do_Rio_Preto_Airport no appear in yago type\n",
      "Order_of_St._Anna no appear in yago type\n",
      "wordnet_chemical_114806838 no appear in yago type\n",
      "Call_Northside_777 no appear in yago type\n",
      "King_(2008_film) no appear in yago type\n",
      "United_States_men's_national_under-23_soccer_team no appear in yago type\n",
      "Ordos_Ejin_Horo_Airport no appear in yago type\n",
      "Philosophy_of_mathematics no appear in yago type\n",
      "Bright_Young_Things_(film) no appear in yago type\n",
      "Almaty_International_Airport no appear in yago type\n"
     ]
    }
   ],
   "source": [
    "for i in range(yago_dataset.shape[0]):\n",
    "    df = y_type[y_type[2].str.contains(yago_dataset[2][i])]\n",
    "    if df.empty:\n",
    "        print(yago_dataset[2][i], \"no appear in yago type\")"
   ]
  },
  {
   "cell_type": "code",
   "execution_count": null,
   "metadata": {},
   "outputs": [],
   "source": []
  }
 ],
 "metadata": {
  "kernelspec": {
   "display_name": "Python 3",
   "language": "python",
   "name": "python3"
  },
  "language_info": {
   "codemirror_mode": {
    "name": "ipython",
    "version": 3
   },
   "file_extension": ".py",
   "mimetype": "text/x-python",
   "name": "python",
   "nbconvert_exporter": "python",
   "pygments_lexer": "ipython3",
   "version": "3.6.7"
  }
 },
 "nbformat": 4,
 "nbformat_minor": 2
}
