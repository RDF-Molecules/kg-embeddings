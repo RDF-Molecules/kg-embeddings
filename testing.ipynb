{
 "cells": [
  {
   "cell_type": "code",
   "execution_count": 415,
   "metadata": {},
   "outputs": [],
   "source": [
    "import pandas as pd\n",
    "import numpy as np\n",
    "from io import StringIO"
   ]
  },
  {
   "cell_type": "markdown",
   "metadata": {},
   "source": [
    "## Load data "
   ]
  },
  {
   "cell_type": "code",
   "execution_count": 495,
   "metadata": {},
   "outputs": [
    {
     "name": "stdout",
     "output_type": "stream",
     "text": [
      "(31050, 1)\n",
      "(12511, 1)\n",
      "(766920, 1)\n"
     ]
    }
   ],
   "source": [
    "#Opening a CSV file and storing it on a numpy array\n",
    "input_path = \"/media/rivas/Data1/Data-mining/Kcap/datasets/\"\n",
    "\n",
    "f_dbpedia = input_path + \"dbpedia_2016-10.nt\"\n",
    "f_enriched = input_path + \"enriched_dump2.nt\"\n",
    "f_drugbank = input_path + \"drugbank_dump.nt\"\n",
    "\n",
    "dbpedia_2016 = pd.read_csv(f_dbpedia, delimiter='\\t', header=None)\n",
    "dbpedia_People = pd.read_csv(f_enriched, delimiter='\\t', header=None)\n",
    "drugbank = pd.read_csv(f_drugbank, delimiter='\\t', header=None)\n",
    "\n",
    "\n",
    "print(dbpedia_2016.shape)\n",
    "print(dbpedia_People.shape)\n",
    "print(drugbank.shape)\n",
    "#print(len(dataset))\n",
    "#print(dataset[1])"
   ]
  },
  {
   "cell_type": "code",
   "execution_count": 560,
   "metadata": {},
   "outputs": [],
   "source": [
    "from rdflib import Graph\n",
    "from gastrodon import LocalEndpoint,one,QName\n",
    "import pprint\n",
    "\n",
    "g = Graph()\n",
    "g.parse(input_path + \"dbpedia_2016-10.nt\", format=\"nt\")\n",
    "len(g)\n",
    "e=LocalEndpoint(g)"
   ]
  },
  {
   "cell_type": "code",
   "execution_count": 561,
   "metadata": {},
   "outputs": [],
   "source": [
    "s_p_o = e.select(\"\"\"\n",
    "   SELECT ?s ?p ?o {\n",
    "      ?s ?p ?o .\n",
    "   }\n",
    "\"\"\")"
   ]
  },
  {
   "cell_type": "code",
   "execution_count": 571,
   "metadata": {},
   "outputs": [
    {
     "name": "stdout",
     "output_type": "stream",
     "text": [
      "31050\n"
     ]
    }
   ],
   "source": [
    "#s_p_o.to_csv (input_path+'s_p_o.csv', index = None, header=False, sep='\\t')\n",
    "#s += \"\\t\".join(str(x)+\">\" for x in s_p_o[:3]) + \" .\\n\"\n",
    "s_p_o.iloc[0]\n",
    "length = print(s_p_o.shape[0])\n",
    "for n in range(length):\n",
    "    #s += \"\\t\".join(str(x)+\">\" for x in s_p_o.iloc[n]) + \" .\\n\""
   ]
  },
  {
   "cell_type": "code",
   "execution_count": 575,
   "metadata": {},
   "outputs": [
    {
     "name": "stdout",
     "output_type": "stream",
     "text": [
      "http://dbpedia.org/ontology/countySeat\n",
      "rdfs:subPropertyOf\n",
      "http://www.ontologydesignpatterns.org/ont/dul/DUL.owl#hasLocation\n"
     ]
    }
   ],
   "source": [
    "s += \"\\t\".join(str(x)+\">\" for x in s_p_o.iloc[n]) + \" .\\n\"\n",
    "for h in s_p_o.iloc[0]:\n",
    "    print(h)"
   ]
  },
  {
   "cell_type": "code",
   "execution_count": 496,
   "metadata": {},
   "outputs": [],
   "source": [
    "def transform_to_frame(file):\n",
    "    length = file.shape[0]\n",
    "    s = \"\"\n",
    "    for i in range(length):\n",
    "        triplet = str(file.iloc[i][0])\n",
    "        s_p_o = triplet.split(\">\")\n",
    "        if len(s_p_o) == 4 and s_p_o[3]==\" .\":\n",
    "            s += \"\\t\".join(str(x)+\">\" for x in s_p_o[:3]) + \" .\\n\"\n",
    "        elif len(s_p_o) == 3:\n",
    "            s += \"\\t\".join(str(x)+\">\" for x in s_p_o).rstrip(\">\") + \"\\n\"\n",
    "        elif len(s_p_o) > 3:\n",
    "            sub_pred = \"\\t\".join(str(x)+\">\" for x in s_p_o[:2])\n",
    "            obj = \"\".join(str(x)+\"^\" for x in s_p_o[2:]).rstrip(\">\")\n",
    "            s += sub_pred + \"\\t\" + obj + \"\\n\"\n",
    "        else:\n",
    "            print(\"Error Line \",i)\n",
    "            print(s_p_o)\n",
    "    return s"
   ]
  },
  {
   "cell_type": "code",
   "execution_count": 497,
   "metadata": {},
   "outputs": [
    {
     "name": "stdout",
     "output_type": "stream",
     "text": [
      "(31050, 3)\n"
     ]
    },
    {
     "data": {
      "text/html": [
       "<div>\n",
       "<style scoped>\n",
       "    .dataframe tbody tr th:only-of-type {\n",
       "        vertical-align: middle;\n",
       "    }\n",
       "\n",
       "    .dataframe tbody tr th {\n",
       "        vertical-align: top;\n",
       "    }\n",
       "\n",
       "    .dataframe thead th {\n",
       "        text-align: right;\n",
       "    }\n",
       "</style>\n",
       "<table border=\"1\" class=\"dataframe\">\n",
       "  <thead>\n",
       "    <tr style=\"text-align: right;\">\n",
       "      <th></th>\n",
       "      <th>0</th>\n",
       "      <th>1</th>\n",
       "      <th>2</th>\n",
       "    </tr>\n",
       "  </thead>\n",
       "  <tbody>\n",
       "    <tr>\n",
       "      <th>0</th>\n",
       "      <td>&lt;http://dbpedia.org/ontology/&gt;</td>\n",
       "      <td>&lt;http://www.w3.org/1999/02/22-rdf-syntax-ns#t...</td>\n",
       "      <td>&lt;http://www.w3.org/2002/07/owl#Ontology&gt; .</td>\n",
       "    </tr>\n",
       "    <tr>\n",
       "      <th>1</th>\n",
       "      <td>&lt;http://dbpedia.org/ontology/&gt;</td>\n",
       "      <td>&lt;http://www.w3.org/1999/02/22-rdf-syntax-ns#t...</td>\n",
       "      <td>&lt;http://purl.org/vocommons/voaf#Vocabulary&gt; .</td>\n",
       "    </tr>\n",
       "    <tr>\n",
       "      <th>2</th>\n",
       "      <td>&lt;http://dbpedia.org/ontology/&gt;</td>\n",
       "      <td>&lt;http://purl.org/vocab/vann/preferredNamespac...</td>\n",
       "      <td>\"dbo\" .</td>\n",
       "    </tr>\n",
       "    <tr>\n",
       "      <th>3</th>\n",
       "      <td>&lt;http://dbpedia.org/ontology/&gt;</td>\n",
       "      <td>&lt;http://purl.org/vocab/vann/preferredNamespac...</td>\n",
       "      <td>\"http://dbpedia.org/ontology/\" .</td>\n",
       "    </tr>\n",
       "    <tr>\n",
       "      <th>4</th>\n",
       "      <td>&lt;http://dbpedia.org/ontology/&gt;</td>\n",
       "      <td>&lt;http://purl.org/dc/terms/title&gt;</td>\n",
       "      <td>\"The DBpedia Ontology\"@en .</td>\n",
       "    </tr>\n",
       "  </tbody>\n",
       "</table>\n",
       "</div>"
      ],
      "text/plain": [
       "                                0  \\\n",
       "0  <http://dbpedia.org/ontology/>   \n",
       "1  <http://dbpedia.org/ontology/>   \n",
       "2  <http://dbpedia.org/ontology/>   \n",
       "3  <http://dbpedia.org/ontology/>   \n",
       "4  <http://dbpedia.org/ontology/>   \n",
       "\n",
       "                                                   1  \\\n",
       "0   <http://www.w3.org/1999/02/22-rdf-syntax-ns#t...   \n",
       "1   <http://www.w3.org/1999/02/22-rdf-syntax-ns#t...   \n",
       "2   <http://purl.org/vocab/vann/preferredNamespac...   \n",
       "3   <http://purl.org/vocab/vann/preferredNamespac...   \n",
       "4                   <http://purl.org/dc/terms/title>   \n",
       "\n",
       "                                                2  \n",
       "0      <http://www.w3.org/2002/07/owl#Ontology> .  \n",
       "1   <http://purl.org/vocommons/voaf#Vocabulary> .  \n",
       "2                                         \"dbo\" .  \n",
       "3                \"http://dbpedia.org/ontology/\" .  \n",
       "4                     \"The DBpedia Ontology\"@en .  "
      ]
     },
     "execution_count": 497,
     "metadata": {},
     "output_type": "execute_result"
    }
   ],
   "source": [
    "string = transform_to_frame(dbpedia_2016)\n",
    "str_io = StringIO(string)\n",
    "frame_dbpedia_2016 = pd.read_csv(str_io, sep=\"\\t\", header=None)\n",
    "print(frame_dbpedia_2016.shape)\n",
    "frame_dbpedia_2016.head()"
   ]
  },
  {
   "cell_type": "code",
   "execution_count": 498,
   "metadata": {},
   "outputs": [
    {
     "name": "stdout",
     "output_type": "stream",
     "text": [
      "(12511, 3)\n"
     ]
    },
    {
     "data": {
      "text/html": [
       "<div>\n",
       "<style scoped>\n",
       "    .dataframe tbody tr th:only-of-type {\n",
       "        vertical-align: middle;\n",
       "    }\n",
       "\n",
       "    .dataframe tbody tr th {\n",
       "        vertical-align: top;\n",
       "    }\n",
       "\n",
       "    .dataframe thead th {\n",
       "        text-align: right;\n",
       "    }\n",
       "</style>\n",
       "<table border=\"1\" class=\"dataframe\">\n",
       "  <thead>\n",
       "    <tr style=\"text-align: right;\">\n",
       "      <th></th>\n",
       "      <th>0</th>\n",
       "      <th>1</th>\n",
       "      <th>2</th>\n",
       "    </tr>\n",
       "  </thead>\n",
       "  <tbody>\n",
       "    <tr>\n",
       "      <th>0</th>\n",
       "      <td>&lt;http://dbpedia.org/resource/Dean_Whyte/dump2&gt;</td>\n",
       "      <td>&lt;http://www.w3.org/1999/02/22-rdf-syntax-ns#t...</td>\n",
       "      <td>&lt;http://www.w3.org/2002/07/owl#Thing&gt; .</td>\n",
       "    </tr>\n",
       "    <tr>\n",
       "      <th>1</th>\n",
       "      <td>&lt;http://dbpedia.org/resource/Dean_Whyte/dump2&gt;</td>\n",
       "      <td>&lt;http://dbpedia.org/ontology/abstract&gt;</td>\n",
       "      <td>\"Dean Whyte (born 17 September 1988) is a wat...</td>\n",
       "    </tr>\n",
       "    <tr>\n",
       "      <th>2</th>\n",
       "      <td>&lt;http://dbpedia.org/resource/Dean_Whyte/dump2&gt;</td>\n",
       "      <td>&lt;http://xmlns.com/foaf/0.1/name&gt;</td>\n",
       "      <td>\"Dean Whyte\"@en .</td>\n",
       "    </tr>\n",
       "    <tr>\n",
       "      <th>3</th>\n",
       "      <td>&lt;http://dbpedia.org/resource/Dean_Whyte/dump2&gt;</td>\n",
       "      <td>&lt;http://www.w3.org/1999/02/22-rdf-syntax-ns#t...</td>\n",
       "      <td>&lt;http://www.ontologydesignpatterns.org/ont/du...</td>\n",
       "    </tr>\n",
       "    <tr>\n",
       "      <th>4</th>\n",
       "      <td>&lt;http://dbpedia.org/resource/Dean_Whyte/dump2&gt;</td>\n",
       "      <td>&lt;http://www.w3.org/ns/prov#wasDerivedFrom&gt;</td>\n",
       "      <td>&lt;http://en.wikipedia.org/wiki/Dean_Whyte?oldi...</td>\n",
       "    </tr>\n",
       "  </tbody>\n",
       "</table>\n",
       "</div>"
      ],
      "text/plain": [
       "                                                0  \\\n",
       "0  <http://dbpedia.org/resource/Dean_Whyte/dump2>   \n",
       "1  <http://dbpedia.org/resource/Dean_Whyte/dump2>   \n",
       "2  <http://dbpedia.org/resource/Dean_Whyte/dump2>   \n",
       "3  <http://dbpedia.org/resource/Dean_Whyte/dump2>   \n",
       "4  <http://dbpedia.org/resource/Dean_Whyte/dump2>   \n",
       "\n",
       "                                                   1  \\\n",
       "0   <http://www.w3.org/1999/02/22-rdf-syntax-ns#t...   \n",
       "1             <http://dbpedia.org/ontology/abstract>   \n",
       "2                   <http://xmlns.com/foaf/0.1/name>   \n",
       "3   <http://www.w3.org/1999/02/22-rdf-syntax-ns#t...   \n",
       "4         <http://www.w3.org/ns/prov#wasDerivedFrom>   \n",
       "\n",
       "                                                   2  \n",
       "0            <http://www.w3.org/2002/07/owl#Thing> .  \n",
       "1   \"Dean Whyte (born 17 September 1988) is a wat...  \n",
       "2                                  \"Dean Whyte\"@en .  \n",
       "3   <http://www.ontologydesignpatterns.org/ont/du...  \n",
       "4   <http://en.wikipedia.org/wiki/Dean_Whyte?oldi...  "
      ]
     },
     "execution_count": 498,
     "metadata": {},
     "output_type": "execute_result"
    }
   ],
   "source": [
    "string = transform_to_frame(dbpedia_People)\n",
    "str_io = StringIO(string)\n",
    "frame_dbpedia_People = pd.read_csv(str_io, sep=\"\\t\", header=None)\n",
    "print(frame_dbpedia_People.shape)\n",
    "frame_dbpedia_People.head()"
   ]
  },
  {
   "cell_type": "code",
   "execution_count": null,
   "metadata": {},
   "outputs": [],
   "source": []
  },
  {
   "cell_type": "code",
   "execution_count": 499,
   "metadata": {},
   "outputs": [
    {
     "name": "stdout",
     "output_type": "stream",
     "text": [
      "(766920, 3)\n"
     ]
    },
    {
     "data": {
      "text/html": [
       "<div>\n",
       "<style scoped>\n",
       "    .dataframe tbody tr th:only-of-type {\n",
       "        vertical-align: middle;\n",
       "    }\n",
       "\n",
       "    .dataframe tbody tr th {\n",
       "        vertical-align: top;\n",
       "    }\n",
       "\n",
       "    .dataframe thead th {\n",
       "        text-align: right;\n",
       "    }\n",
       "</style>\n",
       "<table border=\"1\" class=\"dataframe\">\n",
       "  <thead>\n",
       "    <tr style=\"text-align: right;\">\n",
       "      <th></th>\n",
       "      <th>0</th>\n",
       "      <th>1</th>\n",
       "      <th>2</th>\n",
       "    </tr>\n",
       "  </thead>\n",
       "  <tbody>\n",
       "    <tr>\n",
       "      <th>0</th>\n",
       "      <td>&lt;http://www4.wiwiss.fu-berlin.de/drugbank/reso...</td>\n",
       "      <td>&lt;http://www.w3.org/1999/02/22-rdf-syntax-ns#t...</td>\n",
       "      <td>&lt;http://www.w3.org/1999/02/22-rdf-syntax-ns#P...</td>\n",
       "    </tr>\n",
       "    <tr>\n",
       "      <th>1</th>\n",
       "      <td>&lt;http://www4.wiwiss.fu-berlin.de/drugbank/reso...</td>\n",
       "      <td>&lt;http://www.w3.org/1999/02/22-rdf-syntax-ns#t...</td>\n",
       "      <td>&lt;http://www.w3.org/1999/02/22-rdf-syntax-ns#P...</td>\n",
       "    </tr>\n",
       "    <tr>\n",
       "      <th>2</th>\n",
       "      <td>&lt;http://www4.wiwiss.fu-berlin.de/drugbank/reso...</td>\n",
       "      <td>&lt;http://www.w3.org/1999/02/22-rdf-syntax-ns#t...</td>\n",
       "      <td>&lt;http://www.w3.org/1999/02/22-rdf-syntax-ns#P...</td>\n",
       "    </tr>\n",
       "    <tr>\n",
       "      <th>3</th>\n",
       "      <td>&lt;http://www4.wiwiss.fu-berlin.de/drugbank/reso...</td>\n",
       "      <td>&lt;http://www.w3.org/1999/02/22-rdf-syntax-ns#t...</td>\n",
       "      <td>&lt;http://www.w3.org/1999/02/22-rdf-syntax-ns#P...</td>\n",
       "    </tr>\n",
       "    <tr>\n",
       "      <th>4</th>\n",
       "      <td>&lt;http://www4.wiwiss.fu-berlin.de/drugbank/reso...</td>\n",
       "      <td>&lt;http://www.w3.org/1999/02/22-rdf-syntax-ns#t...</td>\n",
       "      <td>&lt;http://www.w3.org/1999/02/22-rdf-syntax-ns#P...</td>\n",
       "    </tr>\n",
       "  </tbody>\n",
       "</table>\n",
       "</div>"
      ],
      "text/plain": [
       "                                                   0  \\\n",
       "0  <http://www4.wiwiss.fu-berlin.de/drugbank/reso...   \n",
       "1  <http://www4.wiwiss.fu-berlin.de/drugbank/reso...   \n",
       "2  <http://www4.wiwiss.fu-berlin.de/drugbank/reso...   \n",
       "3  <http://www4.wiwiss.fu-berlin.de/drugbank/reso...   \n",
       "4  <http://www4.wiwiss.fu-berlin.de/drugbank/reso...   \n",
       "\n",
       "                                                   1  \\\n",
       "0   <http://www.w3.org/1999/02/22-rdf-syntax-ns#t...   \n",
       "1   <http://www.w3.org/1999/02/22-rdf-syntax-ns#t...   \n",
       "2   <http://www.w3.org/1999/02/22-rdf-syntax-ns#t...   \n",
       "3   <http://www.w3.org/1999/02/22-rdf-syntax-ns#t...   \n",
       "4   <http://www.w3.org/1999/02/22-rdf-syntax-ns#t...   \n",
       "\n",
       "                                                   2  \n",
       "0   <http://www.w3.org/1999/02/22-rdf-syntax-ns#P...  \n",
       "1   <http://www.w3.org/1999/02/22-rdf-syntax-ns#P...  \n",
       "2   <http://www.w3.org/1999/02/22-rdf-syntax-ns#P...  \n",
       "3   <http://www.w3.org/1999/02/22-rdf-syntax-ns#P...  \n",
       "4   <http://www.w3.org/1999/02/22-rdf-syntax-ns#P...  "
      ]
     },
     "execution_count": 499,
     "metadata": {},
     "output_type": "execute_result"
    }
   ],
   "source": [
    "string = transform_to_frame(drugbank)\n",
    "str_io = StringIO(string)\n",
    "frame_drugbank = pd.read_csv(str_io, sep=\"\\t\", header=None)\n",
    "print(frame_drugbank.shape)\n",
    "frame_drugbank.head()"
   ]
  },
  {
   "cell_type": "code",
   "execution_count": 510,
   "metadata": {},
   "outputs": [],
   "source": [
    "frames = [frame_dbpedia_2016, frame_dbpedia_People, frame_drugbank]\n",
    "dataset_semantic = pd.concat(frames)\n",
    "export_csv = dataset_semantic.to_csv (input_path+'dbpedia_semantic.ttl', index = None, header=False, sep='\\t')"
   ]
  },
  {
   "cell_type": "code",
   "execution_count": 511,
   "metadata": {},
   "outputs": [
    {
     "data": {
      "text/html": [
       "<div>\n",
       "<style scoped>\n",
       "    .dataframe tbody tr th:only-of-type {\n",
       "        vertical-align: middle;\n",
       "    }\n",
       "\n",
       "    .dataframe tbody tr th {\n",
       "        vertical-align: top;\n",
       "    }\n",
       "\n",
       "    .dataframe thead th {\n",
       "        text-align: right;\n",
       "    }\n",
       "</style>\n",
       "<table border=\"1\" class=\"dataframe\">\n",
       "  <thead>\n",
       "    <tr style=\"text-align: right;\">\n",
       "      <th></th>\n",
       "      <th>0</th>\n",
       "      <th>1</th>\n",
       "      <th>2</th>\n",
       "    </tr>\n",
       "  </thead>\n",
       "  <tbody>\n",
       "    <tr>\n",
       "      <th>0</th>\n",
       "      <td>&lt;http://dbpedia.org/ontology/&gt;</td>\n",
       "      <td>&lt;http://www.w3.org/1999/02/22-rdf-syntax-ns#t...</td>\n",
       "      <td>&lt;http://www.w3.org/2002/07/owl#Ontology&gt; .</td>\n",
       "    </tr>\n",
       "    <tr>\n",
       "      <th>1</th>\n",
       "      <td>&lt;http://dbpedia.org/ontology/&gt;</td>\n",
       "      <td>&lt;http://www.w3.org/1999/02/22-rdf-syntax-ns#t...</td>\n",
       "      <td>&lt;http://purl.org/vocommons/voaf#Vocabulary&gt; .</td>\n",
       "    </tr>\n",
       "    <tr>\n",
       "      <th>2</th>\n",
       "      <td>&lt;http://dbpedia.org/ontology/&gt;</td>\n",
       "      <td>&lt;http://purl.org/vocab/vann/preferredNamespac...</td>\n",
       "      <td>\"dbo\" .</td>\n",
       "    </tr>\n",
       "    <tr>\n",
       "      <th>3</th>\n",
       "      <td>&lt;http://dbpedia.org/ontology/&gt;</td>\n",
       "      <td>&lt;http://purl.org/vocab/vann/preferredNamespac...</td>\n",
       "      <td>\"http://dbpedia.org/ontology/\" .</td>\n",
       "    </tr>\n",
       "    <tr>\n",
       "      <th>4</th>\n",
       "      <td>&lt;http://dbpedia.org/ontology/&gt;</td>\n",
       "      <td>&lt;http://purl.org/dc/terms/title&gt;</td>\n",
       "      <td>\"The DBpedia Ontology\"@en .</td>\n",
       "    </tr>\n",
       "  </tbody>\n",
       "</table>\n",
       "</div>"
      ],
      "text/plain": [
       "                                0  \\\n",
       "0  <http://dbpedia.org/ontology/>   \n",
       "1  <http://dbpedia.org/ontology/>   \n",
       "2  <http://dbpedia.org/ontology/>   \n",
       "3  <http://dbpedia.org/ontology/>   \n",
       "4  <http://dbpedia.org/ontology/>   \n",
       "\n",
       "                                                   1  \\\n",
       "0   <http://www.w3.org/1999/02/22-rdf-syntax-ns#t...   \n",
       "1   <http://www.w3.org/1999/02/22-rdf-syntax-ns#t...   \n",
       "2   <http://purl.org/vocab/vann/preferredNamespac...   \n",
       "3   <http://purl.org/vocab/vann/preferredNamespac...   \n",
       "4                   <http://purl.org/dc/terms/title>   \n",
       "\n",
       "                                                2  \n",
       "0      <http://www.w3.org/2002/07/owl#Ontology> .  \n",
       "1   <http://purl.org/vocommons/voaf#Vocabulary> .  \n",
       "2                                         \"dbo\" .  \n",
       "3                \"http://dbpedia.org/ontology/\" .  \n",
       "4                     \"The DBpedia Ontology\"@en .  "
      ]
     },
     "execution_count": 511,
     "metadata": {},
     "output_type": "execute_result"
    }
   ],
   "source": [
    "dataset_semantic.head()"
   ]
  },
  {
   "cell_type": "code",
   "execution_count": 512,
   "metadata": {},
   "outputs": [],
   "source": [
    "table_subj = frame_dbpedia_2016[0].value_counts()\n",
    "table_pred = frame_dbpedia_2016[1].value_counts()\n"
   ]
  },
  {
   "cell_type": "markdown",
   "metadata": {},
   "source": [
    "## dbpedia_2016 statistics "
   ]
  },
  {
   "cell_type": "code",
   "execution_count": 6,
   "metadata": {},
   "outputs": [],
   "source": [
    "table_subj = frame_dbpedia_2016[0].value_counts()\n",
    "table_pred = frame_dbpedia_2016[1].value_counts()\n",
    "table_obj = frame_dbpedia_2016[2].value_counts()\n",
    "table_subj.to_csv (input_path+'subj_statistics_dbpedia_2016.csv', header=False, sep='\\t')\n",
    "table_pred.to_csv (input_path+'pred_statistics_dbpedia_2016.csv', header=False, sep='\\t')\n",
    "table_pred.to_csv (input_path+'obj_statistics_dbpedia_2016.csv', header=False, sep='\\t')"
   ]
  },
  {
   "cell_type": "markdown",
   "metadata": {},
   "source": [
    "## dbpedia_People statistics"
   ]
  },
  {
   "cell_type": "code",
   "execution_count": 7,
   "metadata": {},
   "outputs": [],
   "source": [
    "table_subj = frame_dbpedia_People[0].value_counts()\n",
    "table_pred = frame_dbpedia_People[1].value_counts()\n",
    "table_obj = frame_dbpedia_People[2].value_counts()\n",
    "table_subj.to_csv (input_path+'subj_statistics_dbpedia_People.csv', header=False, sep='\\t')\n",
    "table_pred.to_csv (input_path+'pred_statistics_dbpedia_People.csv', header=False, sep='\\t')\n",
    "table_pred.to_csv (input_path+'obj_statistics_dbpedia_People.csv', header=False, sep='\\t')"
   ]
  },
  {
   "cell_type": "markdown",
   "metadata": {},
   "source": [
    "## drugbank statistics"
   ]
  },
  {
   "cell_type": "code",
   "execution_count": 9,
   "metadata": {},
   "outputs": [],
   "source": [
    "table_subj = frame_drugbank[0].value_counts()\n",
    "table_pred = frame_drugbank[1].value_counts()\n",
    "table_obj = frame_drugbank[2].value_counts()\n",
    "table_subj.to_csv (input_path+'subj_statistics_drugbank.csv', header=False, sep='\\t')\n",
    "table_pred.to_csv (input_path+'pred_statistics_drugbank.csv', header=False, sep='\\t')\n",
    "table_pred.to_csv (input_path+'obj_statistics_drugbank.csv', header=False, sep='\\t')"
   ]
  },
  {
   "cell_type": "code",
   "execution_count": null,
   "metadata": {},
   "outputs": [],
   "source": []
  },
  {
   "cell_type": "code",
   "execution_count": 302,
   "metadata": {},
   "outputs": [
    {
     "data": {
      "text/plain": [
       "<function TextIOWrapper.close()>"
      ]
     },
     "execution_count": 302,
     "metadata": {},
     "output_type": "execute_result"
    }
   ],
   "source": [
    "length_tax = taxonomy.shape[0]\n",
    "for index in range(length_tax):\n",
    "    triplet = taxonomy.iloc[index]\n",
    "    if len(triplet)<3:\n",
    "        print(triplet)\n",
    "    s_p_o = \"\\t\".join(str(x) for x in triplet)\n",
    "    y_type.write(s_p_o + \"\\n\")\n",
    "y_type.close"
   ]
  },
  {
   "cell_type": "code",
   "execution_count": 303,
   "metadata": {},
   "outputs": [
    {
     "name": "stdout",
     "output_type": "stream",
     "text": [
      "<wikicat_Municipalities_in_Paraná>\trdfs:subClassOf\t<yagoGeoEntity> .\n"
     ]
    }
   ],
   "source": [
    "print(s_p_o)"
   ]
  },
  {
   "cell_type": "code",
   "execution_count": 304,
   "metadata": {},
   "outputs": [
    {
     "data": {
      "text/plain": [
       "24823070"
      ]
     },
     "execution_count": 304,
     "metadata": {},
     "output_type": "execute_result"
    }
   ],
   "source": [
    "y_type= open(y_s_type,\"r\")\n",
    "len(y_type.readlines())"
   ]
  },
  {
   "cell_type": "code",
   "execution_count": 305,
   "metadata": {},
   "outputs": [
    {
     "data": {
      "text/plain": [
       "24193417"
      ]
     },
     "execution_count": 305,
     "metadata": {},
     "output_type": "execute_result"
    }
   ],
   "source": [
    "y= open(\"/home/rivas/Downloads/yagoSimpleTypes.ttl\",\"r\")\n",
    "len(y.readlines())"
   ]
  },
  {
   "cell_type": "code",
   "execution_count": 310,
   "metadata": {},
   "outputs": [
    {
     "data": {
      "text/plain": [
       "rdfs:subClassOf     629645\n",
       "owl:disjointWith        42\n",
       "<hasGloss>               1\n",
       "Name: 1, dtype: int64"
      ]
     },
     "execution_count": 310,
     "metadata": {},
     "output_type": "execute_result"
    }
   ],
   "source": [
    "taxonomy[1].value_counts()"
   ]
  },
  {
   "cell_type": "code",
   "execution_count": 312,
   "metadata": {},
   "outputs": [],
   "source": [
    "input_path = \"/media/rivas/Data1/Data-mining/Kcap/\"\n",
    "y_s_type = input_path + \"yagoSimpleTypes (copy).ttl\"\n",
    "y_type= open(y_s_type,\"r+\")\n",
    "length = len(y_type.readlines()) - 9\n",
    "y_type.seek(0)\n",
    "string = \"\"\n",
    "for n in range(9):\n",
    "    y_type.readline()\n",
    "for n in range(length):\n",
    "    string += y_type.readline() +\"\\n\"\n",
    "\n"
   ]
  },
  {
   "cell_type": "code",
   "execution_count": 313,
   "metadata": {},
   "outputs": [
    {
     "data": {
      "text/plain": [
       "24193409"
      ]
     },
     "execution_count": 313,
     "metadata": {},
     "output_type": "execute_result"
    }
   ],
   "source": [
    "string.count('rdf:type')"
   ]
  },
  {
   "cell_type": "code",
   "execution_count": 314,
   "metadata": {},
   "outputs": [],
   "source": [
    "\"\"\"import sys\n",
    "if sys.version_info[0] < 3: \n",
    "    from StringIO import StringIO\n",
    "else:\n",
    "    from io import StringIO\"\"\"\n",
    "from io import StringIO\n",
    "\n",
    "str_io = StringIO(string)\n",
    "xc = pd.read_csv(str_io, sep=\"\\t\", header=None)"
   ]
  },
  {
   "cell_type": "code",
   "execution_count": 316,
   "metadata": {},
   "outputs": [
    {
     "data": {
      "text/plain": [
       "<yagoTheme_yagoSimpleTypes>                                                                                                                                                                                                                                                                                                                                                                                                                                    <wikicat_Football_venues_in_Suriname>\n",
       "<hasGloss>                                                                                                                                                                                                                                                                                                                                                                                                                                                                           rdfs:subClassOf\n",
       "This file is part of the ontology YAGO3. It is licensed under a Creative-Commons Attribution License by the YAGO team at the Max Planck Institute for Informatics/Germany. See http://yago-knowledge.org for all details. This file was generated on 2017-06-06 T 18:48:11.0135. A simplified rdf:type system. This theme contains all instances, and links them with rdf:type facts to the leaf level of WordNet (use with yagoSimpleTaxonomy) SIMPLETAX .                        <yagoGeoEntity> .\n",
       "Name: 24823059, dtype: object"
      ]
     },
     "execution_count": 316,
     "metadata": {},
     "output_type": "execute_result"
    }
   ],
   "source": [
    "xc.iloc[-1]"
   ]
  },
  {
   "cell_type": "code",
   "execution_count": 346,
   "metadata": {},
   "outputs": [],
   "source": [
    "table_pred = y_type[1].value_counts()\n",
    "table_obj = y_type[2].value_counts()\n",
    "#table.to_frame()"
   ]
  },
  {
   "cell_type": "code",
   "execution_count": 347,
   "metadata": {},
   "outputs": [],
   "source": [
    "export_csv = table_obj.to_csv (input_path+'obj_statistics_yagoType.csv', header=False, sep='\\t')\n",
    "export_csv = table_pred.to_csv (input_path+'pred_statistics_yagoType.csv', header=False, sep='\\t')"
   ]
  },
  {
   "cell_type": "code",
   "execution_count": null,
   "metadata": {},
   "outputs": [],
   "source": []
  },
  {
   "cell_type": "code",
   "execution_count": 348,
   "metadata": {},
   "outputs": [],
   "source": [
    "table_subj = taxonomy[0].value_counts()\n",
    "table_pred = taxonomy[1].value_counts()"
   ]
  },
  {
   "cell_type": "code",
   "execution_count": 349,
   "metadata": {},
   "outputs": [],
   "source": [
    "export_csv = table_subj.to_csv (input_path+'subj_statistics_yagoTaxonomy.csv', header=False, sep='\\t')\n",
    "export_csv = table_pred.to_csv (input_path+'pred_statistics_yagoTaxonomy.csv', header=False, sep='\\t')"
   ]
  },
  {
   "cell_type": "code",
   "execution_count": 350,
   "metadata": {},
   "outputs": [],
   "source": [
    "yago_dataset = pd.read_csv(yago, delimiter='\\t', header=None)"
   ]
  },
  {
   "cell_type": "code",
   "execution_count": null,
   "metadata": {},
   "outputs": [],
   "source": []
  },
  {
   "cell_type": "code",
   "execution_count": 378,
   "metadata": {},
   "outputs": [],
   "source": [
    "table_prop = yago_dataset[1].value_counts()\n",
    "table_prop.to_csv (input_path+'properties_types_yagoDataset.csv', header=False, sep='\\t')"
   ]
  },
  {
   "cell_type": "code",
   "execution_count": 373,
   "metadata": {},
   "outputs": [
    {
     "data": {
      "text/html": [
       "<div>\n",
       "<style scoped>\n",
       "    .dataframe tbody tr th:only-of-type {\n",
       "        vertical-align: middle;\n",
       "    }\n",
       "\n",
       "    .dataframe tbody tr th {\n",
       "        vertical-align: top;\n",
       "    }\n",
       "\n",
       "    .dataframe thead th {\n",
       "        text-align: right;\n",
       "    }\n",
       "</style>\n",
       "<table border=\"1\" class=\"dataframe\">\n",
       "  <thead>\n",
       "    <tr style=\"text-align: right;\">\n",
       "      <th></th>\n",
       "      <th>0</th>\n",
       "      <th>1</th>\n",
       "      <th>2</th>\n",
       "    </tr>\n",
       "  </thead>\n",
       "  <tbody>\n",
       "    <tr>\n",
       "      <th>10</th>\n",
       "      <td>Peter_Creamer</td>\n",
       "      <td>wasBornIn</td>\n",
       "      <td>Hartlepool</td>\n",
       "    </tr>\n",
       "    <tr>\n",
       "      <th>87750</th>\n",
       "      <td>Peter_Creamer</td>\n",
       "      <td>playsFor</td>\n",
       "      <td>Rochdale_A.F.C.</td>\n",
       "    </tr>\n",
       "    <tr>\n",
       "      <th>265674</th>\n",
       "      <td>Peter_Creamer</td>\n",
       "      <td>playsFor</td>\n",
       "      <td>Gateshead_F.C.</td>\n",
       "    </tr>\n",
       "    <tr>\n",
       "      <th>339359</th>\n",
       "      <td>Peter_Creamer</td>\n",
       "      <td>playsFor</td>\n",
       "      <td>Hartlepool_United_F.C.</td>\n",
       "    </tr>\n",
       "    <tr>\n",
       "      <th>347106</th>\n",
       "      <td>Peter_Creamer</td>\n",
       "      <td>playsFor</td>\n",
       "      <td>Dallas_Tornado</td>\n",
       "    </tr>\n",
       "    <tr>\n",
       "      <th>403581</th>\n",
       "      <td>Peter_Creamer</td>\n",
       "      <td>isAffiliatedTo</td>\n",
       "      <td>Doncaster_Rovers_F.C.</td>\n",
       "    </tr>\n",
       "    <tr>\n",
       "      <th>600288</th>\n",
       "      <td>Peter_Creamer</td>\n",
       "      <td>isAffiliatedTo</td>\n",
       "      <td>York_City_F.C.</td>\n",
       "    </tr>\n",
       "    <tr>\n",
       "      <th>601821</th>\n",
       "      <td>Peter_Creamer</td>\n",
       "      <td>isAffiliatedTo</td>\n",
       "      <td>Hartlepool_United_F.C.</td>\n",
       "    </tr>\n",
       "    <tr>\n",
       "      <th>722749</th>\n",
       "      <td>Peter_Creamer</td>\n",
       "      <td>playsFor</td>\n",
       "      <td>Doncaster_Rovers_F.C.</td>\n",
       "    </tr>\n",
       "    <tr>\n",
       "      <th>815872</th>\n",
       "      <td>Peter_Creamer</td>\n",
       "      <td>isAffiliatedTo</td>\n",
       "      <td>Rochdale_A.F.C.</td>\n",
       "    </tr>\n",
       "    <tr>\n",
       "      <th>881724</th>\n",
       "      <td>Peter_Creamer</td>\n",
       "      <td>isAffiliatedTo</td>\n",
       "      <td>Middlesbrough_F.C.</td>\n",
       "    </tr>\n",
       "    <tr>\n",
       "      <th>1022726</th>\n",
       "      <td>Peter_Creamer</td>\n",
       "      <td>playsFor</td>\n",
       "      <td>York_City_F.C.</td>\n",
       "    </tr>\n",
       "    <tr>\n",
       "      <th>1043983</th>\n",
       "      <td>Peter_Creamer</td>\n",
       "      <td>playsFor</td>\n",
       "      <td>Middlesbrough_F.C.</td>\n",
       "    </tr>\n",
       "    <tr>\n",
       "      <th>1054236</th>\n",
       "      <td>Peter_Creamer</td>\n",
       "      <td>isAffiliatedTo</td>\n",
       "      <td>Gateshead_F.C.</td>\n",
       "    </tr>\n",
       "    <tr>\n",
       "      <th>1088045</th>\n",
       "      <td>Peter_Creamer</td>\n",
       "      <td>isAffiliatedTo</td>\n",
       "      <td>Dallas_Tornado</td>\n",
       "    </tr>\n",
       "  </tbody>\n",
       "</table>\n",
       "</div>"
      ],
      "text/plain": [
       "                     0               1                       2\n",
       "10       Peter_Creamer       wasBornIn              Hartlepool\n",
       "87750    Peter_Creamer        playsFor         Rochdale_A.F.C.\n",
       "265674   Peter_Creamer        playsFor          Gateshead_F.C.\n",
       "339359   Peter_Creamer        playsFor  Hartlepool_United_F.C.\n",
       "347106   Peter_Creamer        playsFor          Dallas_Tornado\n",
       "403581   Peter_Creamer  isAffiliatedTo   Doncaster_Rovers_F.C.\n",
       "600288   Peter_Creamer  isAffiliatedTo          York_City_F.C.\n",
       "601821   Peter_Creamer  isAffiliatedTo  Hartlepool_United_F.C.\n",
       "722749   Peter_Creamer        playsFor   Doncaster_Rovers_F.C.\n",
       "815872   Peter_Creamer  isAffiliatedTo         Rochdale_A.F.C.\n",
       "881724   Peter_Creamer  isAffiliatedTo      Middlesbrough_F.C.\n",
       "1022726  Peter_Creamer        playsFor          York_City_F.C.\n",
       "1043983  Peter_Creamer        playsFor      Middlesbrough_F.C.\n",
       "1054236  Peter_Creamer  isAffiliatedTo          Gateshead_F.C.\n",
       "1088045  Peter_Creamer  isAffiliatedTo          Dallas_Tornado"
      ]
     },
     "execution_count": 373,
     "metadata": {},
     "output_type": "execute_result"
    }
   ],
   "source": [
    "#(yago_dataset[0] == 'Peter_Creamer').sum()\n",
    "list_a = yago_dataset.index[yago_dataset[0] == 'Peter_Creamer'].tolist()\n",
    "yago_dataset.iloc[list_a,:]"
   ]
  },
  {
   "cell_type": "code",
   "execution_count": 375,
   "metadata": {},
   "outputs": [
    {
     "data": {
      "text/html": [
       "<div>\n",
       "<style scoped>\n",
       "    .dataframe tbody tr th:only-of-type {\n",
       "        vertical-align: middle;\n",
       "    }\n",
       "\n",
       "    .dataframe tbody tr th {\n",
       "        vertical-align: top;\n",
       "    }\n",
       "\n",
       "    .dataframe thead th {\n",
       "        text-align: right;\n",
       "    }\n",
       "</style>\n",
       "<table border=\"1\" class=\"dataframe\">\n",
       "  <thead>\n",
       "    <tr style=\"text-align: right;\">\n",
       "      <th></th>\n",
       "      <th>0</th>\n",
       "      <th>1</th>\n",
       "      <th>2</th>\n",
       "    </tr>\n",
       "  </thead>\n",
       "  <tbody>\n",
       "    <tr>\n",
       "      <th>5088687</th>\n",
       "      <td>&lt;Peter_Creamer&gt;</td>\n",
       "      <td>rdf:type</td>\n",
       "      <td>&lt;wikicat_York_City_F.C._players&gt; .</td>\n",
       "    </tr>\n",
       "    <tr>\n",
       "      <th>9429816</th>\n",
       "      <td>&lt;Peter_Creamer&gt;</td>\n",
       "      <td>rdf:type</td>\n",
       "      <td>&lt;wikicat_Dallas_Tornado_players&gt; .</td>\n",
       "    </tr>\n",
       "    <tr>\n",
       "      <th>9571953</th>\n",
       "      <td>&lt;Peter_Creamer&gt;</td>\n",
       "      <td>rdf:type</td>\n",
       "      <td>&lt;wikicat_Doncaster_Rovers_F.C._players&gt; .</td>\n",
       "    </tr>\n",
       "    <tr>\n",
       "      <th>13016567</th>\n",
       "      <td>&lt;Peter_Creamer&gt;</td>\n",
       "      <td>rdf:type</td>\n",
       "      <td>&lt;wikicat_Living_people&gt; .</td>\n",
       "    </tr>\n",
       "    <tr>\n",
       "      <th>18188884</th>\n",
       "      <td>&lt;Peter_Creamer&gt;</td>\n",
       "      <td>rdf:type</td>\n",
       "      <td>&lt;wikicat_Hartlepool_United_F.C._players&gt; .</td>\n",
       "    </tr>\n",
       "    <tr>\n",
       "      <th>19838370</th>\n",
       "      <td>&lt;Peter_Creamer&gt;</td>\n",
       "      <td>rdf:type</td>\n",
       "      <td>&lt;wikicat_Middlesbrough_F.C._players&gt; .</td>\n",
       "    </tr>\n",
       "    <tr>\n",
       "      <th>21820100</th>\n",
       "      <td>&lt;Peter_Creamer&gt;</td>\n",
       "      <td>rdf:type</td>\n",
       "      <td>&lt;wikicat_Association_football_defenders&gt; .</td>\n",
       "    </tr>\n",
       "    <tr>\n",
       "      <th>22269091</th>\n",
       "      <td>&lt;Peter_Creamer&gt;</td>\n",
       "      <td>rdf:type</td>\n",
       "      <td>&lt;wikicat_North_American_Soccer_League_(1968–84...</td>\n",
       "    </tr>\n",
       "    <tr>\n",
       "      <th>22674164</th>\n",
       "      <td>&lt;Peter_Creamer&gt;</td>\n",
       "      <td>rdf:type</td>\n",
       "      <td>&lt;wikicat_Rochdale_A.F.C._players&gt; .</td>\n",
       "    </tr>\n",
       "    <tr>\n",
       "      <th>23224533</th>\n",
       "      <td>&lt;Peter_Creamer&gt;</td>\n",
       "      <td>rdf:type</td>\n",
       "      <td>&lt;wikicat_English_footballers&gt; .</td>\n",
       "    </tr>\n",
       "    <tr>\n",
       "      <th>23830929</th>\n",
       "      <td>&lt;Peter_Creamer&gt;</td>\n",
       "      <td>rdf:type</td>\n",
       "      <td>&lt;wikicat_English_Football_League_players&gt; .</td>\n",
       "    </tr>\n",
       "  </tbody>\n",
       "</table>\n",
       "</div>"
      ],
      "text/plain": [
       "                        0         1  \\\n",
       "5088687   <Peter_Creamer>  rdf:type   \n",
       "9429816   <Peter_Creamer>  rdf:type   \n",
       "9571953   <Peter_Creamer>  rdf:type   \n",
       "13016567  <Peter_Creamer>  rdf:type   \n",
       "18188884  <Peter_Creamer>  rdf:type   \n",
       "19838370  <Peter_Creamer>  rdf:type   \n",
       "21820100  <Peter_Creamer>  rdf:type   \n",
       "22269091  <Peter_Creamer>  rdf:type   \n",
       "22674164  <Peter_Creamer>  rdf:type   \n",
       "23224533  <Peter_Creamer>  rdf:type   \n",
       "23830929  <Peter_Creamer>  rdf:type   \n",
       "\n",
       "                                                          2  \n",
       "5088687                  <wikicat_York_City_F.C._players> .  \n",
       "9429816                  <wikicat_Dallas_Tornado_players> .  \n",
       "9571953           <wikicat_Doncaster_Rovers_F.C._players> .  \n",
       "13016567                          <wikicat_Living_people> .  \n",
       "18188884         <wikicat_Hartlepool_United_F.C._players> .  \n",
       "19838370             <wikicat_Middlesbrough_F.C._players> .  \n",
       "21820100         <wikicat_Association_football_defenders> .  \n",
       "22269091  <wikicat_North_American_Soccer_League_(1968–84...  \n",
       "22674164                <wikicat_Rochdale_A.F.C._players> .  \n",
       "23224533                    <wikicat_English_footballers> .  \n",
       "23830929        <wikicat_English_Football_League_players> .  "
      ]
     },
     "execution_count": 375,
     "metadata": {},
     "output_type": "execute_result"
    }
   ],
   "source": [
    "#(y_type[0] == '<Peter_Creamer>').sum()\n",
    "list_b = y_type.index[y_type[0] == '<Peter_Creamer>'].tolist()\n",
    "y_type.iloc[list_b,:]"
   ]
  },
  {
   "cell_type": "code",
   "execution_count": null,
   "metadata": {},
   "outputs": [],
   "source": []
  }
 ],
 "metadata": {
  "kernelspec": {
   "display_name": "Python 3",
   "language": "python",
   "name": "python3"
  },
  "language_info": {
   "codemirror_mode": {
    "name": "ipython",
    "version": 3
   },
   "file_extension": ".py",
   "mimetype": "text/x-python",
   "name": "python",
   "nbconvert_exporter": "python",
   "pygments_lexer": "ipython3",
   "version": "3.6.7"
  }
 },
 "nbformat": 4,
 "nbformat_minor": 2
}
