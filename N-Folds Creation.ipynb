{
 "cells": [
  {
   "cell_type": "code",
   "execution_count": 1,
   "metadata": {},
   "outputs": [],
   "source": [
    "import pandas as pd\n",
    "import numpy as np\n",
    "from sklearn.model_selection import KFold # import KFold"
   ]
  },
  {
   "cell_type": "markdown",
   "metadata": {},
   "source": [
    "### Load and shuffle data"
   ]
  },
  {
   "cell_type": "code",
   "execution_count": 2,
   "metadata": {},
   "outputs": [
    {
     "name": "stdout",
     "output_type": "stream",
     "text": [
      "1089040\n",
      "(1089040, 3)\n",
      "['Jacek_ZieliÅ\\x84ski_(footballer_born_1961)' 'isAffiliatedTo'\n",
      " 'Korona_Kielce']\n"
     ]
    }
   ],
   "source": [
    "#Opening a TSV file and storing it on a numpy array\n",
    "#Starting with YAGO valid file\n",
    "input_path = \"/media/rivas/Data1/Data-mining/Kcap/\"\n",
    "filename = input_path + \"yago10.txt\"\n",
    "df = np.loadtxt(open(filename,'r', encoding=\"latin-1\"), dtype=\"str\", delimiter=\"\\t\")\n",
    "np.random.shuffle(df)\n",
    "print(len(df))\n",
    "print(df.shape)\n",
    "print(df[0])"
   ]
  },
  {
   "cell_type": "markdown",
   "metadata": {},
   "source": [
    "### K-Folds Cross Validation and save fold"
   ]
  },
  {
   "cell_type": "code",
   "execution_count": 5,
   "metadata": {},
   "outputs": [
    {
     "name": "stdout",
     "output_type": "stream",
     "text": [
      "TRAIN: [ 108904  108905  108906 ..., 1089037 1089038 1089039] TEST: [     0      1      2 ..., 108901 108902 108903]\n",
      "len train: 980136 len test: 108904\n",
      "[['Jacek_ZieliÅ\\x84ski_(footballer_born_1961)' 'isAffiliatedTo'\n",
      "  'Korona_Kielce']\n",
      " ['Summertime_(1955_film)' 'isLocatedIn' 'United_States']\n",
      " ['Aaron_Morris' 'isAffiliatedTo' 'Wales_national_under-21_football_team']\n",
      " ..., \n",
      " ['Daniel_Pauly' 'worksAt' 'University_of_British_Columbia']\n",
      " ['Federico_InsÃºa' 'playsFor' 'Bursaspor']\n",
      " ['Karl_Munroe' 'isAffiliatedTo' 'Hyde_F.C.']]\n",
      "TRAIN: [      0       1       2 ..., 1089037 1089038 1089039] TEST: [108904 108905 108906 ..., 217805 217806 217807]\n",
      "len train: 980136 len test: 108904\n",
      "[['Vladimir_BrankoviÄ\\x87' 'isAffiliatedTo' 'FC_Sheriff_Tiraspol']\n",
      " ['Pedro_Reyes' 'playsFor' 'AJ_Auxerre']\n",
      " ['Chris_Kontos' 'isAffiliatedTo' 'Toronto_Marlboros']\n",
      " ..., \n",
      " ['Margaret_Thatcher' 'playsFor' 'Hamilton_Academical_F.C.']\n",
      " ['Sarah_Brightman' 'isMarriedTo' 'Andrew_Lloyd_Webber']\n",
      " ['Joseph_Ngwenya' 'isAffiliatedTo' 'Cape_Cod_Crusaders']]\n",
      "TRAIN: [      0       1       2 ..., 1089037 1089038 1089039] TEST: [217808 217809 217810 ..., 326709 326710 326711]\n",
      "len train: 980136 len test: 108904\n",
      "[['Aldo_Dolcetti' 'isAffiliatedTo' 'A.C._Savoia_1908']\n",
      " ['Liam_Robinson' 'isAffiliatedTo' 'Huddersfield_Town_F.C.']\n",
      " ['Piran' 'isLocatedIn' 'Obalno-kraÅ¡ka_Statistical_Region']\n",
      " ..., \n",
      " ['Basking_Ridge,_New_Jersey' 'isLocatedIn' 'New_Jersey']\n",
      " ['Rashid_Yussuff' 'playsFor' 'England_national_under-17_football_team']\n",
      " ['Luigi_Sartor' 'isAffiliatedTo' 'Genoa_C.F.C.']]\n",
      "TRAIN: [      0       1       2 ..., 1089037 1089038 1089039] TEST: [326712 326713 326714 ..., 435613 435614 435615]\n",
      "len train: 980136 len test: 108904\n",
      "[['Pascal_Bieler' 'isAffiliatedTo' 'WÃ¼rzburger_Kickers']\n",
      " ['Richard_Dreyfuss' 'actedIn' 'The_American_President']\n",
      " ['Zlatko_Arambasic' 'playsFor' 'Bankstown_Berries_FC']\n",
      " ..., \n",
      " ['Mike_Bookie' 'playsFor' \"United_States_men's_national_soccer_team\"]\n",
      " ['United_Kingdom' 'participatedIn' 'Operation_Bodenplatte']\n",
      " [\"Seven_Years'_War\" 'happenedIn' 'France']]\n",
      "TRAIN: [      0       1       2 ..., 1089037 1089038 1089039] TEST: [435616 435617 435618 ..., 544517 544518 544519]\n",
      "len train: 980136 len test: 108904\n",
      "[['Waldo_Salt' 'created' \"The_Gang_That_Couldn't_Shoot_Straight\"]\n",
      " ['Mahmut_Hanefi_ErdoÄ\\x9fdu' 'isAffiliatedTo' 'Orduspor']\n",
      " ['DÃ¼sseldorf_Airport' 'isConnectedTo' 'Erbil_International_Airport']\n",
      " ..., \n",
      " ['Damir_Desnica' 'playsFor' 'K.V._Kortrijk']\n",
      " ['David_Lilley' 'playsFor' 'Ross_County_F.C.']\n",
      " ['Marcos_Roberto_Pereira_dos_Santos' 'isAffiliatedTo'\n",
      "  'EspÃ©rance_de_Tunis']]\n",
      "TRAIN: [      0       1       2 ..., 1089037 1089038 1089039] TEST: [544520 544521 544522 ..., 653421 653422 653423]\n",
      "len train: 980136 len test: 108904\n",
      "[['Francis_Meynieu' 'isAffiliatedTo' 'F.C._Girondins_de_Bordeaux']\n",
      " ['Johannes_Vermeer' 'influences' 'Edward_Gorey']\n",
      " ['Roberto_Hilbert' 'playsFor' '1._SC_Feucht']\n",
      " ..., \n",
      " ['West_Virginia_State_University' 'isLocatedIn' 'West_Virginia']\n",
      " ['KristjÃ¡n_Ã\\x96rn_SigurÃ°sson' 'playsFor' 'HÃ¸nefoss_BK']\n",
      " ['Rob_Gier' 'playsFor' 'Woking_F.C.']]\n",
      "TRAIN: [      0       1       2 ..., 1089037 1089038 1089039] TEST: [653424 653425 653426 ..., 762325 762326 762327]\n",
      "len train: 980136 len test: 108904\n",
      "[['Nicklas_Carlsson' 'isAffiliatedTo' 'AIK_Fotboll']\n",
      " ['Gocha_Khojava' 'hasGender' 'male']\n",
      " ['Robert_Wyatt' 'hasMusicalRole' 'wordnet_bass_guitar_102804123']\n",
      " ..., \n",
      " ['Vadym_Rodina' 'playsFor' 'Ukraine_national_under-21_football_team']\n",
      " ['Turgut_Ã\\x96zal' 'hasGender' 'male']\n",
      " ['Dias_Kamelov' 'playsFor' 'FC_Tobol']]\n",
      "TRAIN: [      0       1       2 ..., 1089037 1089038 1089039] TEST: [762328 762329 762330 ..., 871229 871230 871231]\n",
      "len train: 980136 len test: 108904\n",
      "[['Robin_Udegbe' 'playsFor' 'Holstein_Kiel']\n",
      " ['Matt_Urban' 'hasWonPrize' 'Purple_Heart']\n",
      " ['Amir_Sayoud' 'isAffiliatedTo' 'Al_Ahly_SC']\n",
      " ..., \n",
      " [\"Serge_N'Gal\" 'playsFor' 'GimnÃ\\xa0stic_de_Tarragona']\n",
      " ['Josimar_de_Carvalho_Ferreira' 'playsFor'\n",
      "  'Centro_de_Futebol_Zico_Sociedade_Esportiva']\n",
      " ['Atilla_Ã\\x96zmen' 'isAffiliatedTo' 'BeÅ\\x9fiktaÅ\\x9f_J.K.']]\n",
      "TRAIN: [      0       1       2 ..., 1089037 1089038 1089039] TEST: [871232 871233 871234 ..., 980133 980134 980135]\n",
      "len train: 980136 len test: 108904\n",
      "[['Vadim_Evseev' 'playsFor' 'FC_Torpedo_Moscow']\n",
      " ['Daisuke_Tomita' 'playsFor' 'Ventforet_Kofu']\n",
      " ['Ferran_Corominas' 'hasGender' 'male']\n",
      " ..., \n",
      " ['Hans_FrÃ³Ã°i_Hansen' 'isAffiliatedTo' 'Sogndal_Fotball']\n",
      " ['Julian_Ahmataj' 'isAffiliatedTo' 'Albania_national_football_team']\n",
      " ['Scottish_Church_College' 'isLocatedIn' 'Kolkata']]\n",
      "TRAIN: [     0      1      2 ..., 980133 980134 980135] TEST: [ 980136  980137  980138 ..., 1089037 1089038 1089039]\n",
      "len train: 980136 len test: 108904\n",
      "[['DamiÃ¡n_Ã\\x8dsmodes' 'playsFor' 'Polonia_Bytom']\n",
      " [\"Catherine_O'Hara\" 'actedIn' 'Brother_Bear_2']\n",
      " ['Melvin_Booker' 'isAffiliatedTo' 'Connecticut_Pride']\n",
      " ..., \n",
      " ['France_PreÅ¡eren' 'influences' 'Alojz_Rebula']\n",
      " ['Giorgi_Nergadze' 'isAffiliatedTo' 'FC_Torpedo_Kutaisi']\n",
      " ['Albert_Gemmrich' 'playsFor' 'Lille_OSC']]\n"
     ]
    }
   ],
   "source": [
    "output_path = \"/media/rivas/Data1/Data-mining/Kcap/kg-embeddings-eval/n_folds/\"\n",
    "kf = KFold(n_splits=10) # Define the split - into 10 folds \n",
    "kf.get_n_splits(df) # returns the number of splitting iterations in the cross-validator\n",
    "KFold(n_splits=10, random_state=None, shuffle=False)\n",
    "n_fold = 1\n",
    "for train_index, test_index in kf.split(df):\n",
    "    print(\"TRAIN:\", train_index, \"TEST:\", test_index)\n",
    "    print(\"len train:\", len(train_index), \"len test:\", len(test_index))\n",
    "    X_train, X_test = df[train_index], df[test_index]\n",
    "    #print(X_train)\n",
    "    print(X_test)\n",
    "    np.savetxt(output_path + str(n_fold) + \"_training_fold.out\", X_train, fmt='%s', delimiter='\\t')\n",
    "    np.savetxt(output_path + str(n_fold) + \"_test_fold.out\", X_test, fmt='%s', delimiter='\\t')\n",
    "    n_fold += 1\n"
   ]
  },
  {
   "cell_type": "code",
   "execution_count": null,
   "metadata": {},
   "outputs": [],
   "source": []
  }
 ],
 "metadata": {
  "celltoolbar": "Tags",
  "kernelspec": {
   "display_name": "Python 3",
   "language": "python",
   "name": "python3"
  },
  "language_info": {
   "codemirror_mode": {
    "name": "ipython",
    "version": 3
   },
   "file_extension": ".py",
   "mimetype": "text/x-python",
   "name": "python",
   "nbconvert_exporter": "python",
   "pygments_lexer": "ipython3",
   "version": "3.6.7"
  }
 },
 "nbformat": 4,
 "nbformat_minor": 2
}
