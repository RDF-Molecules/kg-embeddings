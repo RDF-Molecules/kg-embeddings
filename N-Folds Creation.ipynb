{
 "cells": [
  {
   "cell_type": "code",
   "execution_count": 1,
   "metadata": {},
   "outputs": [],
   "source": [
    "import pandas as pd\n",
    "import numpy as np\n",
    "from sklearn.model_selection import KFold # import KFold"
   ]
  },
  {
   "cell_type": "markdown",
   "metadata": {},
   "source": [
    "### Load and shuffle data"
   ]
  },
  {
   "cell_type": "code",
   "execution_count": 2,
   "metadata": {},
   "outputs": [
    {
     "name": "stdout",
     "output_type": "stream",
     "text": [
      "1089040\n",
      "(1089040, 3)\n",
      "['Davide_Marchini' 'isAffiliatedTo' 'Unione_Triestina_2012_S.S.D.']\n"
     ]
    }
   ],
   "source": [
    "#Opening a TSV file and storing it on a numpy array\n",
    "#Starting with YAGO valid file\n",
    "input_path = \"/media/rivas/Data1/Data-mining/Kcap/\"\n",
    "filename = input_path + \"yago10.txt\"\n",
    "df = np.loadtxt(open(filename,'r', encoding=\"latin-1\"), dtype=\"str\", delimiter=\"\\t\")\n",
    "np.random.shuffle(df)\n",
    "print(len(df))\n",
    "print(df.shape)\n",
    "print(df[0])"
   ]
  },
  {
   "cell_type": "markdown",
   "metadata": {},
   "source": [
    "### K-Folds Cross Validation and save fold"
   ]
  },
  {
   "cell_type": "code",
   "execution_count": null,
   "metadata": {},
   "outputs": [],
   "source": [
    "output_path = \"/media/rivas/Data1/Data-mining/Kcap/Fold/\"\n",
    "kf = KFold(n_splits=10) # Define the split - into 10 folds \n",
    "kf.get_n_splits(df) # returns the number of splitting iterations in the cross-validator\n",
    "KFold(n_splits=10, random_state=None, shuffle=False)\n",
    "n_fold = 1\n",
    "for train_index, test_index in kf.split(df):\n",
    "    print(\"TRAIN:\", train_index, \"TEST:\", test_index)\n",
    "    print(\"len train:\", len(train_index), \"len test:\", len(test_index))\n",
    "    X_train, X_test = df[train_index], df[test_index]\n",
    "    #print(X_train)\n",
    "    print(X_test)\n",
    "    np.savetxt(output_path + str(n_fold) + \"_training_fold.out\", X_test, fmt='%s', delimiter='\\t')\n",
    "    n_fold += 1\n"
   ]
  },
  {
   "cell_type": "code",
   "execution_count": null,
   "metadata": {},
   "outputs": [],
   "source": []
  }
 ],
 "metadata": {
  "celltoolbar": "Tags",
  "kernelspec": {
   "display_name": "Python 3",
   "language": "python",
   "name": "python3"
  },
  "language_info": {
   "codemirror_mode": {
    "name": "ipython",
    "version": 3
   },
   "file_extension": ".py",
   "mimetype": "text/x-python",
   "name": "python",
   "nbconvert_exporter": "python",
   "pygments_lexer": "ipython3",
   "version": "3.6.7"
  }
 },
 "nbformat": 4,
 "nbformat_minor": 2
}
