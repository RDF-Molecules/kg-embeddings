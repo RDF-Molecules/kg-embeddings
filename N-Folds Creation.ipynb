{
 "cells": [
  {
   "cell_type": "code",
   "execution_count": 1,
   "metadata": {},
   "outputs": [],
   "source": [
    "import pandas as pd\n",
    "import numpy as np\n",
    "from sklearn.model_selection import KFold # import KFold"
   ]
  },
  {
   "cell_type": "markdown",
   "metadata": {},
   "source": [
    "### Load and shuffle data"
   ]
  },
  {
   "cell_type": "code",
   "execution_count": 2,
   "metadata": {},
   "outputs": [
    {
     "name": "stdout",
     "output_type": "stream",
     "text": [
      "1089040\n",
      "(1089040, 3)\n",
      "['Sergey_Kutsov' 'playsFor' 'FC_Atyrau']\n"
     ]
    }
   ],
   "source": [
    "#Opening a TSV file and storing it on a numpy array\n",
    "#Starting with YAGO valid file\n",
    "input_path = \"/media/rivas/Data1/Data-mining/Kcap/\"\n",
    "filename = input_path + \"yago10.txt\"\n",
    "df = np.loadtxt(open(filename,'r', encoding=\"latin-1\"), dtype=\"str\", delimiter=\"\\t\")\n",
    "np.random.shuffle(df)\n",
    "print(len(df))\n",
    "print(df.shape)\n",
    "print(df[0])"
   ]
  },
  {
   "cell_type": "markdown",
   "metadata": {},
   "source": [
    "### K-Folds Cross Validation and save fold"
   ]
  },
  {
   "cell_type": "code",
   "execution_count": 3,
   "metadata": {},
   "outputs": [
    {
     "name": "stdout",
     "output_type": "stream",
     "text": [
      "TRAIN: [ 108904  108905  108906 ..., 1089037 1089038 1089039] TEST: [     0      1      2 ..., 108901 108902 108903]\n",
      "len train: 980136 len test: 108904\n",
      "[['Sergey_Kutsov' 'playsFor' 'FC_Atyrau']\n",
      " ['Renato_Abreu' 'wasBornIn' 'SÃ£o_Paulo']\n",
      " ['Talal_El_Karkouri' 'isAffiliatedTo' 'Sunderland_A.F.C.']\n",
      " ..., \n",
      " [\"A_Midsummer_Night's_Dream_(1999_film)\" 'isLocatedIn' 'United_Kingdom']\n",
      " ['Stefan_Reuter' 'isAffiliatedTo' 'Germany_national_youth_football_team']\n",
      " ['Diomansy_Kamara' 'isAffiliatedTo' 'EskiÅ\\x9fehirspor']]\n",
      "TRAIN: [      0       1       2 ..., 1089037 1089038 1089039] TEST: [108904 108905 108906 ..., 217805 217806 217807]\n",
      "len train: 980136 len test: 108904\n",
      "[['Danilo_Aceval' 'hasGender' 'male']\n",
      " ['Marudi_Airport' 'isConnectedTo' 'Miri_Airport']\n",
      " ['Harbin_Taiping_International_Airport' 'isConnectedTo'\n",
      "  'Dongying_Shengli_Airport']\n",
      " ..., \n",
      " ['Archibald_Rawlings' 'playsFor' 'Liverpool_F.C.']\n",
      " ['Almora_district' 'isLocatedIn' 'India']\n",
      " ['Emanuel_CenturiÃ³n' 'isAffiliatedTo' 'C.A._VÃ©lez_SÃ¡rsfield']]\n",
      "TRAIN: [      0       1       2 ..., 1089037 1089038 1089039] TEST: [217808 217809 217810 ..., 326709 326710 326711]\n",
      "len train: 980136 len test: 108904\n",
      "[['Marcin_Gortat' 'isAffiliatedTo' 'Anaheim_Arsenal']\n",
      " ['Battle_of_Warburg' 'isLocatedIn' 'Warburg']\n",
      " ['Roman_HubnÃ\\xadk' 'isAffiliatedTo'\n",
      "  'Czech_Republic_national_under-17_football_team']\n",
      " ..., \n",
      " ['Sakari_Saarinen' 'playsFor' 'FC_Haka']\n",
      " ['Juan_Antonio_IpiÃ±a' 'isAffiliatedTo' 'Real_Valladolid_C.F.']\n",
      " ['Tadas_Kijanskas' 'isAffiliatedTo' 'Jagiellonia_BiaÅ\\x82ystok']]\n",
      "TRAIN: [      0       1       2 ..., 1089037 1089038 1089039] TEST: [326712 326713 326714 ..., 435613 435614 435615]\n",
      "len train: 980136 len test: 108904\n",
      "[['Andre_Brown_(basketball)' 'isAffiliatedTo'\n",
      "  'Iranian_Basketball_Super_League']\n",
      " ['Ludovic_Quistin' 'isAffiliatedTo' \"King's_Lynn_F.C.\"]\n",
      " ['Samuel_SÃ¡iz' 'playsFor' 'Spain_national_under-19_football_team']\n",
      " ..., \n",
      " ['Arafat_Djako' 'isAffiliatedTo' 'FC_Anzhi_Makhachkala']\n",
      " ['Rohan_Ricketts' 'isAffiliatedTo' 'Shamrock_Rovers_F.C.']\n",
      " ['Alan_Campbell_(Irish_footballer)' 'playsFor' 'Forfar_Athletic_F.C.']]\n",
      "TRAIN: [      0       1       2 ..., 1089037 1089038 1089039] TEST: [435616 435617 435618 ..., 544517 544518 544519]\n",
      "len train: 980136 len test: 108904\n",
      "[['Keisuke_Kurihara' 'playsFor' 'Albirex_Niigata']\n",
      " ['Open_University' 'isLocatedIn' 'United_Kingdom']\n",
      " ['Percy_Brooke' 'diedIn' 'Newcastle-under-Lyme']\n",
      " ..., \n",
      " ['Richard_Dreyfuss' 'actedIn' 'Piranha_3D']\n",
      " ['Ferdinand_Georg_Frobenius' 'hasAcademicAdvisor' 'Ernst_Kummer']\n",
      " ['FÃ¡bio_de_Jesus' 'isAffiliatedTo' 'Gamba_Osaka']]\n",
      "TRAIN: [      0       1       2 ..., 1089037 1089038 1089039] TEST: [544520 544521 544522 ..., 653421 653422 653423]\n",
      "len train: 980136 len test: 108904\n",
      "[['Cyrille_Makanaky' 'playsFor' 'Maccabi_Tel_Aviv_F.C.']\n",
      " ['Paul_Steiner' 'playsFor' 'MSV_Duisburg']\n",
      " ['Julianne_Sitch' 'hasGender' 'female']\n",
      " ..., \n",
      " ['Verona_Villafranca_Airport' 'isConnectedTo'\n",
      "  'Karpathos_Island_National_Airport']\n",
      " ['Milton_RodrÃ\\xadguez' 'playsFor' 'FC_Dallas']\n",
      " ['Satyajit_Ray' 'created' 'Ganashatru']]\n",
      "TRAIN: [      0       1       2 ..., 1089037 1089038 1089039] TEST: [653424 653425 653426 ..., 762325 762326 762327]\n",
      "len train: 980136 len test: 108904\n",
      "[['BolesÅ\\x82aw_III_Wrymouth' 'hasGender' 'male']\n",
      " ['Davit_Bolkvadze' 'isAffiliatedTo' 'FC_Spartaki_Tbilisi']\n",
      " ['Karl_Mai' 'playsFor' 'SpVgg_Greuther_FÃ¼rth']\n",
      " ..., \n",
      " ['GÃ¡bor_KirÃ¡ly' 'isAffiliatedTo' 'West_Ham_United_F.C.']\n",
      " ['Martin_Keown' 'playsFor' 'Reading_F.C.']\n",
      " ['Cristian_FernÃ¡ndez_Parentini' 'isAffiliatedTo' 'F.B.C._Unione_Venezia']]\n",
      "TRAIN: [      0       1       2 ..., 1089037 1089038 1089039] TEST: [762328 762329 762330 ..., 871229 871230 871231]\n",
      "len train: 980136 len test: 108904\n",
      "[['Jerrod_Mustaf' 'isAffiliatedTo' 'Asseco_Gdynia']\n",
      " ['Tobin_Heath' 'playsFor' 'New_York_Fury']\n",
      " ['Kay_Johnson' 'diedIn' 'Waterford,_Connecticut']\n",
      " ..., \n",
      " ['Tommy_Rudkin' 'playsFor' 'Lincoln_City_F.C.']\n",
      " ['AntÃ´nio_Wilson_Vieira_HonÃ³rio' 'playsFor' 'Esporte_Clube_VitÃ³ria']\n",
      " ['Tomasz_Parzy' 'wasBornIn' 'Leszno']]\n",
      "TRAIN: [      0       1       2 ..., 1089037 1089038 1089039] TEST: [871232 871233 871234 ..., 980133 980134 980135]\n",
      "len train: 980136 len test: 108904\n",
      "[['Yacine_Kechout' 'isAffiliatedTo' 'MO_BÃ©jaÃ¯a']\n",
      " ['RyÅ«nosuke_Akutagawa' 'influences' 'Fumiko_Enchi']\n",
      " ['Milan_PeriÄ\\x87' 'isAffiliatedTo' 'FK_Metalac']\n",
      " ..., \n",
      " ['Fabio_Moro' 'isAffiliatedTo' 'Ravenna_F.C.']\n",
      " ['Dobrosav_KrstiÄ\\x87' 'isAffiliatedTo' 'F.C._Sochaux-MontbÃ©liard']\n",
      " ['Ernesto_GalÃ¡n' 'playsFor' 'CD_MÃ³stoles']]\n",
      "TRAIN: [     0      1      2 ..., 980133 980134 980135] TEST: [ 980136  980137  980138 ..., 1089037 1089038 1089039]\n",
      "len train: 980136 len test: 108904\n",
      "[['Chris_Blackburn' 'isAffiliatedTo' 'Aldershot_Town_F.C.']\n",
      " ['Fernando_Derveld' 'playsFor' 'West_Bromwich_Albion_F.C.']\n",
      " ['Michael_Lerner_(actor)' 'actedIn' 'Celebrity_(film)']\n",
      " ..., \n",
      " ['Ewan_MacColl' 'hasWonPrize' 'Grammy_Award']\n",
      " ['Aleksandar_NedoviÄ\\x87' 'playsFor' 'FK_BuduÄ\\x87nost_Podgorica']\n",
      " ['Chris_McAlpine' 'isAffiliatedTo' 'Atlanta_Thrashers']]\n"
     ]
    }
   ],
   "source": [
    "output_path = \"/media/rivas/Data1/Data-mining/Kcap/kg-embeddings-eval/n_folds/\"\n",
    "kf = KFold(n_splits=10) # Define the split - into 10 folds\n",
    "kf.get_n_splits(df) # returns the number of splitting iterations in the cross-validator\n",
    "KFold(n_splits=10, random_state=None, shuffle=False)\n",
    "n_fold = 1\n",
    "for train_index, test_index in kf.split(df):\n",
    "    print(\"TRAIN:\", train_index, \"TEST:\", test_index)\n",
    "    print(\"len train:\", len(train_index), \"len test:\", len(test_index))\n",
    "    X_train, X_test = df[train_index], df[test_index]\n",
    "    #print(X_train)\n",
    "    print(X_test)\n",
    "    np.savetxt(output_path + str(n_fold) + \"_training_fold.out\", X_train, fmt='%s', delimiter='\\t')\n",
    "    np.savetxt(output_path + str(n_fold) + \"_test_fold.out\", X_test, fmt='%s', delimiter='\\t')\n",
    "    n_fold += 1\n"
   ]
  },
  {
   "cell_type": "code",
   "execution_count": null,
   "metadata": {},
   "outputs": [],
   "source": []
  }
 ],
 "metadata": {
  "celltoolbar": "Tags",
  "kernelspec": {
   "display_name": "Python 3",
   "language": "python",
   "name": "python3"
  },
  "language_info": {
   "codemirror_mode": {
    "name": "ipython",
    "version": 3
   },
   "file_extension": ".py",
   "mimetype": "text/x-python",
   "name": "python",
   "nbconvert_exporter": "python",
   "pygments_lexer": "ipython3",
   "version": "3.6.7"
  }
 },
 "nbformat": 4,
 "nbformat_minor": 2
}
