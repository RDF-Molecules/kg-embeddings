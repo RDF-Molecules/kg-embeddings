{
 "cells": [
  {
   "cell_type": "code",
   "execution_count": 1,
   "metadata": {},
   "outputs": [],
   "source": [
    "import pandas as pd\n",
    "import numpy as np\n",
    "from sklearn.model_selection import KFold # import KFold"
   ]
  },
  {
   "cell_type": "markdown",
   "metadata": {},
   "source": [
    "### Load and shuffle data"
   ]
  },
  {
   "cell_type": "code",
   "execution_count": 2,
   "metadata": {},
   "outputs": [
    {
     "name": "stdout",
     "output_type": "stream",
     "text": [
      "1089040\n",
      "(1089040, 3)\n",
      "['Davide_Marchini' 'isAffiliatedTo' 'Unione_Triestina_2012_S.S.D.']\n"
     ]
    }
   ],
   "source": [
    "#Opening a TSV file and storing it on a numpy array\n",
    "#Starting with YAGO valid file\n",
    "input_path = \"/media/rivas/Data1/Data-mining/Kcap/\"\n",
    "filename = input_path + \"yago10.txt\"\n",
    "df = np.loadtxt(open(filename,'r', encoding=\"latin-1\"), dtype=\"str\", delimiter=\"\\t\")\n",
    "np.random.shuffle(df)\n",
    "print(len(df))\n",
    "print(df.shape)\n",
    "print(df[0])"
   ]
  },
  {
   "cell_type": "markdown",
   "metadata": {},
   "source": [
    "### K-Folds Cross Validation and save fold"
   ]
  },
  {
   "cell_type": "code",
   "execution_count": 3,
   "metadata": {},
   "outputs": [
    {
     "name": "stdout",
     "output_type": "stream",
     "text": [
      "TRAIN: [ 108904  108905  108906 ..., 1089037 1089038 1089039] TEST: [     0      1      2 ..., 108901 108902 108903]\n",
      "len train: 980136 len test: 108904\n",
      "[['Davide_Marchini' 'isAffiliatedTo' 'Unione_Triestina_2012_S.S.D.']\n",
      " ['Antalya_Airport' 'isConnectedTo' 'Barnaul_Airport']\n",
      " ['Vitolo' 'playsFor' 'Aris_F.C._(Thessaloniki)']\n",
      " ..., \n",
      " ['George_Owen_Squier' 'hasWonPrize'\n",
      "  'Distinguished_Service_Medal_(U.S._Army)']\n",
      " ['Bing_Crosby' 'actedIn' 'King_of_Jazz']\n",
      " ['Henry_Moore' 'influences' 'Anthony_Caro']]\n",
      "TRAIN: [      0       1       2 ..., 1089037 1089038 1089039] TEST: [108904 108905 108906 ..., 217805 217806 217807]\n",
      "len train: 980136 len test: 108904\n",
      "[['Leao_ButrÃ³n' 'isAffiliatedTo'\n",
      "  'Club_Deportivo_Universidad_de_San_MartÃ\\xadn_de_Porres']\n",
      " ['Susan_Sarandon' 'actedIn' 'Atlantic_City_(1980_film)']\n",
      " ['Mohammad_Gholami' 'playsFor' 'Steel_Azin_F.C.']\n",
      " ..., \n",
      " ['Sadako_Ogata' 'hasWonPrize' 'Order_of_the_Aztec_Eagle']\n",
      " ['Jim_Steele_(footballer)' 'isAffiliatedTo' 'Rangers_F.C.']\n",
      " ['Jeff_Buckley' 'diedIn' 'Memphis,_Tennessee']]\n",
      "TRAIN: [      0       1       2 ..., 1089037 1089038 1089039] TEST: [217808 217809 217810 ..., 326709 326710 326711]\n",
      "len train: 980136 len test: 108904\n",
      "[['Radek_Bejbl' 'playsFor' 'Czechoslovakia_national_under-21_football_team']\n",
      " ['Harold_Wallace' 'isAffiliatedTo' 'Costa_Rica_national_football_team']\n",
      " ['Vladislav_Zlatinov' 'playsFor' 'PFC_Slavia_Sofia']\n",
      " ..., \n",
      " ['Lesh_Shkreli' 'playsFor' 'Canton_Invaders']\n",
      " ['Paulinho_GuarÃ¡' 'isAffiliatedTo' 'Hammarby_IF']\n",
      " ['Matteo_Renzi' 'isLeaderOf' 'Italy']]\n",
      "TRAIN: [      0       1       2 ..., 1089037 1089038 1089039] TEST: [326712 326713 326714 ..., 435613 435614 435615]\n",
      "len train: 980136 len test: 108904\n",
      "[['Haneda_Airport' 'isConnectedTo' 'Taipei_Songshan_Airport']\n",
      " ['Raffaele_De_Martino' 'hasGender' 'male']\n",
      " ['Maksat_Baizhanov' 'playsFor' 'FC_Zhetysu']\n",
      " ..., \n",
      " ['Karl_Marx' 'influences' 'Antonio_Negri']\n",
      " ['Roger_Zelazny' 'influences' 'Samuel_R._Delany']\n",
      " ['Milan_LalkoviÄ\\x8d' 'playsFor'\n",
      "  'Slovakia_national_under-21_football_team']]\n",
      "TRAIN: [      0       1       2 ..., 1089037 1089038 1089039] TEST: [435616 435617 435618 ..., 544517 544518 544519]\n",
      "len train: 980136 len test: 108904\n",
      "[['Bill_Hicks' 'wasBornIn' 'Valdosta,_Georgia']\n",
      " ['Muse_(band)' 'hasWonPrize' 'NME_Awards']\n",
      " ['Damien_Byrne' 'playsFor' 'Ards_F.C.']\n",
      " ..., \n",
      " ['Drogheda' 'isLocatedIn' 'County_Louth']\n",
      " ['Kasey_Keller' 'isAffiliatedTo' 'United_States_national_soccer_team']\n",
      " ['Attila_Forrai' 'playsFor' 'SKN_St._PÃ¶lten']]\n",
      "TRAIN: [      0       1       2 ..., 1089037 1089038 1089039] TEST: [544520 544521 544522 ..., 653421 653422 653423]\n",
      "len train: 980136 len test: 108904\n",
      "[['Clive_Clark_(footballer)' 'isAffiliatedTo' 'Southport_F.C.']\n",
      " ['Dan_Alberto_Fellus' 'isAffiliatedTo' 'VÃ¥lerenga_Fotball']\n",
      " ['Laurence_Yep' 'hasWonPrize' 'Laura_Ingalls_Wilder_Medal']\n",
      " ..., \n",
      " ['TrÃªs_CoraÃ§Ãµes' 'isLocatedIn' 'Minas_Gerais']\n",
      " ['Oleg_Kazmirchuk' 'playsFor' 'MFC_Kremin_Kremenchuk']\n",
      " ['Amit_Tamir' 'isAffiliatedTo' 'A.E.L._1964_B.C.']]\n",
      "TRAIN: [      0       1       2 ..., 1089037 1089038 1089039] TEST: [653424 653425 653426 ..., 762325 762326 762327]\n",
      "len train: 980136 len test: 108904\n",
      "[['DarÃ\\xado_Larrosa' 'isAffiliatedTo' 'Racing_Club']\n",
      " ['IvÃ¡n_Trujillo' 'playsFor' 'La_Equidad']\n",
      " ['Garry_Ayre' 'wasBornIn' 'Vancouver']\n",
      " ..., \n",
      " ['Gevorg_Ghazaryan' 'isAffiliatedTo' 'FC_Banants']\n",
      " ['Malcolm_St._Clair_(filmmaker)' 'diedIn' 'Pasadena']\n",
      " ['Adam_Kwasnik' 'isAffiliatedTo'\n",
      "  'Australia_national_under-20_association_football_team']]\n",
      "TRAIN: [      0       1       2 ..., 1089037 1089038 1089039] TEST: [762328 762329 762330 ..., 871229 871230 871231]\n",
      "len train: 980136 len test: 108904\n",
      "[['Borys_Baranets' 'playsFor' 'FC_Skala_Stryi']\n",
      " ['Krzysztof_Adamczyk' 'playsFor' 'LASK_Linz']\n",
      " ['Chris_Warren_(basketball,_born_1981)' 'hasGender' 'male']\n",
      " ..., \n",
      " ['George_McLean_(footballer_born_1943)' 'playsFor' 'Ayr_United_F.C.']\n",
      " ['Kemerovo' 'isLocatedIn' 'Kemerovo_Oblast']\n",
      " ['Akinori_Nishizawa' 'isAffiliatedTo' 'Cerezo_Osaka']]\n",
      "TRAIN: [      0       1       2 ..., 1089037 1089038 1089039] TEST: [871232 871233 871234 ..., 980133 980134 980135]\n",
      "len train: 980136 len test: 108904\n",
      "[['Wales' 'dealsWith' 'Canada']\n",
      " ['Roddy_McKenzie' 'playsFor' 'Dunfermline_Athletic_F.C.']\n",
      " ['Claude_Binyon' 'hasGender' 'male']\n",
      " ..., \n",
      " ['John_Carpenter' 'created' 'Black_Moon_Rising']\n",
      " ['NÃ©stor_Scotta' 'playsFor' 'Club_AtlÃ©tico_River_Plate']\n",
      " ['Ben_Crawley' 'wasBornIn' 'Austin,_Texas']]\n",
      "TRAIN: [     0      1      2 ..., 980133 980134 980135] TEST: [ 980136  980137  980138 ..., 1089037 1089038 1089039]\n",
      "len train: 980136 len test: 108904\n",
      "[['Santiago_SantamarÃ\\xada' 'playsFor' \"Newell's_Old_Boys\"]\n",
      " ['Dmitri_Tarasov_(footballer)' 'playsFor'\n",
      "  'Russia_national_under-21_football_team']\n",
      " ['Ghislain_Gimbert' 'isAffiliatedTo' 'Stade_Lavallois']\n",
      " ..., \n",
      " ['Frank_Farina' 'wasBornIn' 'Darwin,_Northern_Territory']\n",
      " ['Rother' 'isLocatedIn' 'East_Sussex']\n",
      " ['Jan_Rajnoch' 'isAffiliatedTo' 'SC_Xaverov']]\n"
     ]
    }
   ],
   "source": [
    "output_path = \"/media/rivas/Data1/Data-mining/Kcap/Fold/\"\n",
    "kf = KFold(n_splits=10) # Define the split - into 10 folds \n",
    "kf.get_n_splits(df) # returns the number of splitting iterations in the cross-validator\n",
    "KFold(n_splits=10, random_state=None, shuffle=False)\n",
    "n_fold = 1\n",
    "for train_index, test_index in kf.split(df):\n",
    "    print(\"TRAIN:\", train_index, \"TEST:\", test_index)\n",
    "    print(\"len train:\", len(train_index), \"len test:\", len(test_index))\n",
    "    X_train, X_test = df[train_index], df[test_index]\n",
    "    #print(X_train)\n",
    "    print(X_test)\n",
    "    np.savetxt(output_path + str(n_fold) + \"_training_fold.out\", X_test, fmt='%s', delimiter='\\t')\n",
    "    n_fold += 1\n"
   ]
  },
  {
   "cell_type": "code",
   "execution_count": null,
   "metadata": {},
   "outputs": [],
   "source": []
  }
 ],
 "metadata": {
  "celltoolbar": "Tags",
  "kernelspec": {
   "display_name": "Python 3",
   "language": "python",
   "name": "python3"
  },
  "language_info": {
   "codemirror_mode": {
    "name": "ipython",
    "version": 3
   },
   "file_extension": ".py",
   "mimetype": "text/x-python",
   "name": "python",
   "nbconvert_exporter": "python",
   "pygments_lexer": "ipython3",
   "version": "3.6.7"
  }
 },
 "nbformat": 4,
 "nbformat_minor": 2
}
