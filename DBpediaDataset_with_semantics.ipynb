{
 "cells": [
  {
   "cell_type": "code",
   "execution_count": 1,
   "metadata": {},
   "outputs": [],
   "source": [
    "import pandas as pd\n",
    "import numpy as np\n",
    "from io import StringIO"
   ]
  },
  {
   "cell_type": "markdown",
   "metadata": {},
   "source": [
    "## Load data "
   ]
  },
  {
   "cell_type": "code",
   "execution_count": 2,
   "metadata": {},
   "outputs": [
    {
     "name": "stdout",
     "output_type": "stream",
     "text": [
      "(31050, 1)\n",
      "(12511, 1)\n",
      "(766920, 1)\n"
     ]
    }
   ],
   "source": [
    "input_path = \"/media/rivas/Data1/Data-mining/Kcap/datasets/\"\n",
    "\n",
    "f_dbpedia = input_path + \"dbpedia_2016-10.nt\"\n",
    "f_enriched = input_path + \"enriched_dump2.nt\"\n",
    "f_drugbank = input_path + \"drugbank_dump.nt\"\n",
    "\n",
    "dbpedia_2016 = pd.read_csv(f_dbpedia, delimiter='\\t', header=None)\n",
    "dbpedia_People = pd.read_csv(f_enriched, delimiter='\\t', header=None)\n",
    "drugbank = pd.read_csv(f_drugbank, delimiter='\\t', header=None)\n",
    "\n",
    "print(dbpedia_2016.shape)\n",
    "print(dbpedia_People.shape)\n",
    "print(drugbank.shape)"
   ]
  },
  {
   "cell_type": "markdown",
   "metadata": {},
   "source": [
    "## Separate the data by tab"
   ]
  },
  {
   "cell_type": "code",
   "execution_count": 3,
   "metadata": {},
   "outputs": [],
   "source": [
    "def transform_to_frame(file):\n",
    "    length = file.shape[0]\n",
    "    s = \"\"\n",
    "    for i in range(length):\n",
    "        triplet = str(file.iloc[i][0])\n",
    "        s_p_o = triplet.split(\">\")\n",
    "        if len(s_p_o) == 4 and s_p_o[3]==\" .\":\n",
    "            s += \"\\t\".join(str(x)+\">\" for x in s_p_o[:3]) + \" .\\n\"\n",
    "        elif len(s_p_o) == 3:\n",
    "            s += \"\\t\".join(str(x)+\">\" for x in s_p_o).rstrip(\">\") + \"\\n\"\n",
    "        elif len(s_p_o) > 3:\n",
    "            sub_pred = \"\\t\".join(str(x)+\">\" for x in s_p_o[:2])\n",
    "            obj = \"\".join(str(x)+\"^\" for x in s_p_o[2:]).rstrip(\">\")\n",
    "            s += sub_pred + \"\\t\" + obj + \"\\n\"\n",
    "        else:\n",
    "            print(\"Error Line \",i)\n",
    "            print(s_p_o)\n",
    "    return s"
   ]
  },
  {
   "cell_type": "markdown",
   "metadata": {},
   "source": [
    "## Create dbpedia_2016 DataFrame"
   ]
  },
  {
   "cell_type": "code",
   "execution_count": 4,
   "metadata": {},
   "outputs": [
    {
     "name": "stdout",
     "output_type": "stream",
     "text": [
      "(31050, 3)\n"
     ]
    },
    {
     "data": {
      "text/html": [
       "<div>\n",
       "<style scoped>\n",
       "    .dataframe tbody tr th:only-of-type {\n",
       "        vertical-align: middle;\n",
       "    }\n",
       "\n",
       "    .dataframe tbody tr th {\n",
       "        vertical-align: top;\n",
       "    }\n",
       "\n",
       "    .dataframe thead th {\n",
       "        text-align: right;\n",
       "    }\n",
       "</style>\n",
       "<table border=\"1\" class=\"dataframe\">\n",
       "  <thead>\n",
       "    <tr style=\"text-align: right;\">\n",
       "      <th></th>\n",
       "      <th>0</th>\n",
       "      <th>1</th>\n",
       "      <th>2</th>\n",
       "    </tr>\n",
       "  </thead>\n",
       "  <tbody>\n",
       "    <tr>\n",
       "      <th>0</th>\n",
       "      <td>&lt;http://dbpedia.org/ontology/&gt;</td>\n",
       "      <td>&lt;http://www.w3.org/1999/02/22-rdf-syntax-ns#t...</td>\n",
       "      <td>&lt;http://www.w3.org/2002/07/owl#Ontology&gt; .</td>\n",
       "    </tr>\n",
       "    <tr>\n",
       "      <th>1</th>\n",
       "      <td>&lt;http://dbpedia.org/ontology/&gt;</td>\n",
       "      <td>&lt;http://www.w3.org/1999/02/22-rdf-syntax-ns#t...</td>\n",
       "      <td>&lt;http://purl.org/vocommons/voaf#Vocabulary&gt; .</td>\n",
       "    </tr>\n",
       "    <tr>\n",
       "      <th>2</th>\n",
       "      <td>&lt;http://dbpedia.org/ontology/&gt;</td>\n",
       "      <td>&lt;http://purl.org/vocab/vann/preferredNamespac...</td>\n",
       "      <td>\"dbo\" .</td>\n",
       "    </tr>\n",
       "    <tr>\n",
       "      <th>3</th>\n",
       "      <td>&lt;http://dbpedia.org/ontology/&gt;</td>\n",
       "      <td>&lt;http://purl.org/vocab/vann/preferredNamespac...</td>\n",
       "      <td>\"http://dbpedia.org/ontology/\" .</td>\n",
       "    </tr>\n",
       "    <tr>\n",
       "      <th>4</th>\n",
       "      <td>&lt;http://dbpedia.org/ontology/&gt;</td>\n",
       "      <td>&lt;http://purl.org/dc/terms/title&gt;</td>\n",
       "      <td>\"The DBpedia Ontology\"@en .</td>\n",
       "    </tr>\n",
       "  </tbody>\n",
       "</table>\n",
       "</div>"
      ],
      "text/plain": [
       "                                0  \\\n",
       "0  <http://dbpedia.org/ontology/>   \n",
       "1  <http://dbpedia.org/ontology/>   \n",
       "2  <http://dbpedia.org/ontology/>   \n",
       "3  <http://dbpedia.org/ontology/>   \n",
       "4  <http://dbpedia.org/ontology/>   \n",
       "\n",
       "                                                   1  \\\n",
       "0   <http://www.w3.org/1999/02/22-rdf-syntax-ns#t...   \n",
       "1   <http://www.w3.org/1999/02/22-rdf-syntax-ns#t...   \n",
       "2   <http://purl.org/vocab/vann/preferredNamespac...   \n",
       "3   <http://purl.org/vocab/vann/preferredNamespac...   \n",
       "4                   <http://purl.org/dc/terms/title>   \n",
       "\n",
       "                                                2  \n",
       "0      <http://www.w3.org/2002/07/owl#Ontology> .  \n",
       "1   <http://purl.org/vocommons/voaf#Vocabulary> .  \n",
       "2                                         \"dbo\" .  \n",
       "3                \"http://dbpedia.org/ontology/\" .  \n",
       "4                     \"The DBpedia Ontology\"@en .  "
      ]
     },
     "execution_count": 4,
     "metadata": {},
     "output_type": "execute_result"
    }
   ],
   "source": [
    "string = transform_to_frame(dbpedia_2016)\n",
    "str_io = StringIO(string)\n",
    "frame_dbpedia_2016 = pd.read_csv(str_io, sep=\"\\t\", header=None)\n",
    "print(frame_dbpedia_2016.shape)\n",
    "frame_dbpedia_2016.head()"
   ]
  },
  {
   "cell_type": "markdown",
   "metadata": {},
   "source": [
    "## Create dbpedia_People DataFrame"
   ]
  },
  {
   "cell_type": "code",
   "execution_count": 5,
   "metadata": {},
   "outputs": [
    {
     "name": "stdout",
     "output_type": "stream",
     "text": [
      "(12511, 3)\n"
     ]
    },
    {
     "data": {
      "text/html": [
       "<div>\n",
       "<style scoped>\n",
       "    .dataframe tbody tr th:only-of-type {\n",
       "        vertical-align: middle;\n",
       "    }\n",
       "\n",
       "    .dataframe tbody tr th {\n",
       "        vertical-align: top;\n",
       "    }\n",
       "\n",
       "    .dataframe thead th {\n",
       "        text-align: right;\n",
       "    }\n",
       "</style>\n",
       "<table border=\"1\" class=\"dataframe\">\n",
       "  <thead>\n",
       "    <tr style=\"text-align: right;\">\n",
       "      <th></th>\n",
       "      <th>0</th>\n",
       "      <th>1</th>\n",
       "      <th>2</th>\n",
       "    </tr>\n",
       "  </thead>\n",
       "  <tbody>\n",
       "    <tr>\n",
       "      <th>0</th>\n",
       "      <td>&lt;http://dbpedia.org/resource/Dean_Whyte/dump2&gt;</td>\n",
       "      <td>&lt;http://www.w3.org/1999/02/22-rdf-syntax-ns#t...</td>\n",
       "      <td>&lt;http://www.w3.org/2002/07/owl#Thing&gt; .</td>\n",
       "    </tr>\n",
       "    <tr>\n",
       "      <th>1</th>\n",
       "      <td>&lt;http://dbpedia.org/resource/Dean_Whyte/dump2&gt;</td>\n",
       "      <td>&lt;http://dbpedia.org/ontology/abstract&gt;</td>\n",
       "      <td>\"Dean Whyte (born 17 September 1988) is a wat...</td>\n",
       "    </tr>\n",
       "    <tr>\n",
       "      <th>2</th>\n",
       "      <td>&lt;http://dbpedia.org/resource/Dean_Whyte/dump2&gt;</td>\n",
       "      <td>&lt;http://xmlns.com/foaf/0.1/name&gt;</td>\n",
       "      <td>\"Dean Whyte\"@en .</td>\n",
       "    </tr>\n",
       "    <tr>\n",
       "      <th>3</th>\n",
       "      <td>&lt;http://dbpedia.org/resource/Dean_Whyte/dump2&gt;</td>\n",
       "      <td>&lt;http://www.w3.org/1999/02/22-rdf-syntax-ns#t...</td>\n",
       "      <td>&lt;http://www.ontologydesignpatterns.org/ont/du...</td>\n",
       "    </tr>\n",
       "    <tr>\n",
       "      <th>4</th>\n",
       "      <td>&lt;http://dbpedia.org/resource/Dean_Whyte/dump2&gt;</td>\n",
       "      <td>&lt;http://www.w3.org/ns/prov#wasDerivedFrom&gt;</td>\n",
       "      <td>&lt;http://en.wikipedia.org/wiki/Dean_Whyte?oldi...</td>\n",
       "    </tr>\n",
       "  </tbody>\n",
       "</table>\n",
       "</div>"
      ],
      "text/plain": [
       "                                                0  \\\n",
       "0  <http://dbpedia.org/resource/Dean_Whyte/dump2>   \n",
       "1  <http://dbpedia.org/resource/Dean_Whyte/dump2>   \n",
       "2  <http://dbpedia.org/resource/Dean_Whyte/dump2>   \n",
       "3  <http://dbpedia.org/resource/Dean_Whyte/dump2>   \n",
       "4  <http://dbpedia.org/resource/Dean_Whyte/dump2>   \n",
       "\n",
       "                                                   1  \\\n",
       "0   <http://www.w3.org/1999/02/22-rdf-syntax-ns#t...   \n",
       "1             <http://dbpedia.org/ontology/abstract>   \n",
       "2                   <http://xmlns.com/foaf/0.1/name>   \n",
       "3   <http://www.w3.org/1999/02/22-rdf-syntax-ns#t...   \n",
       "4         <http://www.w3.org/ns/prov#wasDerivedFrom>   \n",
       "\n",
       "                                                   2  \n",
       "0            <http://www.w3.org/2002/07/owl#Thing> .  \n",
       "1   \"Dean Whyte (born 17 September 1988) is a wat...  \n",
       "2                                  \"Dean Whyte\"@en .  \n",
       "3   <http://www.ontologydesignpatterns.org/ont/du...  \n",
       "4   <http://en.wikipedia.org/wiki/Dean_Whyte?oldi...  "
      ]
     },
     "execution_count": 5,
     "metadata": {},
     "output_type": "execute_result"
    }
   ],
   "source": [
    "string = transform_to_frame(dbpedia_People)\n",
    "str_io = StringIO(string)\n",
    "frame_dbpedia_People = pd.read_csv(str_io, sep=\"\\t\", header=None)\n",
    "print(frame_dbpedia_People.shape)\n",
    "frame_dbpedia_People.head()"
   ]
  },
  {
   "cell_type": "markdown",
   "metadata": {},
   "source": [
    "## Create drugbank DataFrame"
   ]
  },
  {
   "cell_type": "code",
   "execution_count": 6,
   "metadata": {},
   "outputs": [
    {
     "name": "stdout",
     "output_type": "stream",
     "text": [
      "(766920, 3)\n"
     ]
    },
    {
     "data": {
      "text/html": [
       "<div>\n",
       "<style scoped>\n",
       "    .dataframe tbody tr th:only-of-type {\n",
       "        vertical-align: middle;\n",
       "    }\n",
       "\n",
       "    .dataframe tbody tr th {\n",
       "        vertical-align: top;\n",
       "    }\n",
       "\n",
       "    .dataframe thead th {\n",
       "        text-align: right;\n",
       "    }\n",
       "</style>\n",
       "<table border=\"1\" class=\"dataframe\">\n",
       "  <thead>\n",
       "    <tr style=\"text-align: right;\">\n",
       "      <th></th>\n",
       "      <th>0</th>\n",
       "      <th>1</th>\n",
       "      <th>2</th>\n",
       "    </tr>\n",
       "  </thead>\n",
       "  <tbody>\n",
       "    <tr>\n",
       "      <th>0</th>\n",
       "      <td>&lt;http://www4.wiwiss.fu-berlin.de/drugbank/reso...</td>\n",
       "      <td>&lt;http://www.w3.org/1999/02/22-rdf-syntax-ns#t...</td>\n",
       "      <td>&lt;http://www.w3.org/1999/02/22-rdf-syntax-ns#P...</td>\n",
       "    </tr>\n",
       "    <tr>\n",
       "      <th>1</th>\n",
       "      <td>&lt;http://www4.wiwiss.fu-berlin.de/drugbank/reso...</td>\n",
       "      <td>&lt;http://www.w3.org/1999/02/22-rdf-syntax-ns#t...</td>\n",
       "      <td>&lt;http://www.w3.org/1999/02/22-rdf-syntax-ns#P...</td>\n",
       "    </tr>\n",
       "    <tr>\n",
       "      <th>2</th>\n",
       "      <td>&lt;http://www4.wiwiss.fu-berlin.de/drugbank/reso...</td>\n",
       "      <td>&lt;http://www.w3.org/1999/02/22-rdf-syntax-ns#t...</td>\n",
       "      <td>&lt;http://www.w3.org/1999/02/22-rdf-syntax-ns#P...</td>\n",
       "    </tr>\n",
       "    <tr>\n",
       "      <th>3</th>\n",
       "      <td>&lt;http://www4.wiwiss.fu-berlin.de/drugbank/reso...</td>\n",
       "      <td>&lt;http://www.w3.org/1999/02/22-rdf-syntax-ns#t...</td>\n",
       "      <td>&lt;http://www.w3.org/1999/02/22-rdf-syntax-ns#P...</td>\n",
       "    </tr>\n",
       "    <tr>\n",
       "      <th>4</th>\n",
       "      <td>&lt;http://www4.wiwiss.fu-berlin.de/drugbank/reso...</td>\n",
       "      <td>&lt;http://www.w3.org/1999/02/22-rdf-syntax-ns#t...</td>\n",
       "      <td>&lt;http://www.w3.org/1999/02/22-rdf-syntax-ns#P...</td>\n",
       "    </tr>\n",
       "  </tbody>\n",
       "</table>\n",
       "</div>"
      ],
      "text/plain": [
       "                                                   0  \\\n",
       "0  <http://www4.wiwiss.fu-berlin.de/drugbank/reso...   \n",
       "1  <http://www4.wiwiss.fu-berlin.de/drugbank/reso...   \n",
       "2  <http://www4.wiwiss.fu-berlin.de/drugbank/reso...   \n",
       "3  <http://www4.wiwiss.fu-berlin.de/drugbank/reso...   \n",
       "4  <http://www4.wiwiss.fu-berlin.de/drugbank/reso...   \n",
       "\n",
       "                                                   1  \\\n",
       "0   <http://www.w3.org/1999/02/22-rdf-syntax-ns#t...   \n",
       "1   <http://www.w3.org/1999/02/22-rdf-syntax-ns#t...   \n",
       "2   <http://www.w3.org/1999/02/22-rdf-syntax-ns#t...   \n",
       "3   <http://www.w3.org/1999/02/22-rdf-syntax-ns#t...   \n",
       "4   <http://www.w3.org/1999/02/22-rdf-syntax-ns#t...   \n",
       "\n",
       "                                                   2  \n",
       "0   <http://www.w3.org/1999/02/22-rdf-syntax-ns#P...  \n",
       "1   <http://www.w3.org/1999/02/22-rdf-syntax-ns#P...  \n",
       "2   <http://www.w3.org/1999/02/22-rdf-syntax-ns#P...  \n",
       "3   <http://www.w3.org/1999/02/22-rdf-syntax-ns#P...  \n",
       "4   <http://www.w3.org/1999/02/22-rdf-syntax-ns#P...  "
      ]
     },
     "execution_count": 6,
     "metadata": {},
     "output_type": "execute_result"
    }
   ],
   "source": [
    "string = transform_to_frame(drugbank)\n",
    "str_io = StringIO(string)\n",
    "frame_drugbank = pd.read_csv(str_io, sep=\"\\t\", header=None)\n",
    "print(frame_drugbank.shape)\n",
    "frame_drugbank.head()"
   ]
  },
  {
   "cell_type": "markdown",
   "metadata": {},
   "source": [
    "## Concatenate and save DataFrame"
   ]
  },
  {
   "cell_type": "code",
   "execution_count": 7,
   "metadata": {},
   "outputs": [],
   "source": [
    "frames = [frame_dbpedia_2016, frame_dbpedia_People, frame_drugbank]\n",
    "dataset_semantic = pd.concat(frames)\n",
    "export_csv = dataset_semantic.to_csv (input_path+'dbpedia_semantic.ttl', index = None, header=False, sep='\\t')"
   ]
  },
  {
   "cell_type": "code",
   "execution_count": 8,
   "metadata": {},
   "outputs": [
    {
     "data": {
      "text/html": [
       "<div>\n",
       "<style scoped>\n",
       "    .dataframe tbody tr th:only-of-type {\n",
       "        vertical-align: middle;\n",
       "    }\n",
       "\n",
       "    .dataframe tbody tr th {\n",
       "        vertical-align: top;\n",
       "    }\n",
       "\n",
       "    .dataframe thead th {\n",
       "        text-align: right;\n",
       "    }\n",
       "</style>\n",
       "<table border=\"1\" class=\"dataframe\">\n",
       "  <thead>\n",
       "    <tr style=\"text-align: right;\">\n",
       "      <th></th>\n",
       "      <th>0</th>\n",
       "      <th>1</th>\n",
       "      <th>2</th>\n",
       "    </tr>\n",
       "  </thead>\n",
       "  <tbody>\n",
       "    <tr>\n",
       "      <th>0</th>\n",
       "      <td>&lt;http://dbpedia.org/ontology/&gt;</td>\n",
       "      <td>&lt;http://www.w3.org/1999/02/22-rdf-syntax-ns#t...</td>\n",
       "      <td>&lt;http://www.w3.org/2002/07/owl#Ontology&gt; .</td>\n",
       "    </tr>\n",
       "    <tr>\n",
       "      <th>1</th>\n",
       "      <td>&lt;http://dbpedia.org/ontology/&gt;</td>\n",
       "      <td>&lt;http://www.w3.org/1999/02/22-rdf-syntax-ns#t...</td>\n",
       "      <td>&lt;http://purl.org/vocommons/voaf#Vocabulary&gt; .</td>\n",
       "    </tr>\n",
       "    <tr>\n",
       "      <th>2</th>\n",
       "      <td>&lt;http://dbpedia.org/ontology/&gt;</td>\n",
       "      <td>&lt;http://purl.org/vocab/vann/preferredNamespac...</td>\n",
       "      <td>\"dbo\" .</td>\n",
       "    </tr>\n",
       "    <tr>\n",
       "      <th>3</th>\n",
       "      <td>&lt;http://dbpedia.org/ontology/&gt;</td>\n",
       "      <td>&lt;http://purl.org/vocab/vann/preferredNamespac...</td>\n",
       "      <td>\"http://dbpedia.org/ontology/\" .</td>\n",
       "    </tr>\n",
       "    <tr>\n",
       "      <th>4</th>\n",
       "      <td>&lt;http://dbpedia.org/ontology/&gt;</td>\n",
       "      <td>&lt;http://purl.org/dc/terms/title&gt;</td>\n",
       "      <td>\"The DBpedia Ontology\"@en .</td>\n",
       "    </tr>\n",
       "  </tbody>\n",
       "</table>\n",
       "</div>"
      ],
      "text/plain": [
       "                                0  \\\n",
       "0  <http://dbpedia.org/ontology/>   \n",
       "1  <http://dbpedia.org/ontology/>   \n",
       "2  <http://dbpedia.org/ontology/>   \n",
       "3  <http://dbpedia.org/ontology/>   \n",
       "4  <http://dbpedia.org/ontology/>   \n",
       "\n",
       "                                                   1  \\\n",
       "0   <http://www.w3.org/1999/02/22-rdf-syntax-ns#t...   \n",
       "1   <http://www.w3.org/1999/02/22-rdf-syntax-ns#t...   \n",
       "2   <http://purl.org/vocab/vann/preferredNamespac...   \n",
       "3   <http://purl.org/vocab/vann/preferredNamespac...   \n",
       "4                   <http://purl.org/dc/terms/title>   \n",
       "\n",
       "                                                2  \n",
       "0      <http://www.w3.org/2002/07/owl#Ontology> .  \n",
       "1   <http://purl.org/vocommons/voaf#Vocabulary> .  \n",
       "2                                         \"dbo\" .  \n",
       "3                \"http://dbpedia.org/ontology/\" .  \n",
       "4                     \"The DBpedia Ontology\"@en .  "
      ]
     },
     "execution_count": 8,
     "metadata": {},
     "output_type": "execute_result"
    }
   ],
   "source": [
    "dataset_semantic.head()"
   ]
  },
  {
   "cell_type": "markdown",
   "metadata": {},
   "source": [
    "## dbpedia_2016 statistics "
   ]
  },
  {
   "cell_type": "code",
   "execution_count": 9,
   "metadata": {},
   "outputs": [],
   "source": [
    "table_subj = frame_dbpedia_2016[0].value_counts()\n",
    "table_pred = frame_dbpedia_2016[1].value_counts()\n",
    "table_obj = frame_dbpedia_2016[2].value_counts()\n",
    "table_subj.to_csv (input_path+'subj_statistics_dbpedia_2016.csv', header=False, sep='\\t')\n",
    "table_pred.to_csv (input_path+'pred_statistics_dbpedia_2016.csv', header=False, sep='\\t')\n",
    "table_pred.to_csv (input_path+'obj_statistics_dbpedia_2016.csv', header=False, sep='\\t')"
   ]
  },
  {
   "cell_type": "markdown",
   "metadata": {},
   "source": [
    "## dbpedia_People statistics"
   ]
  },
  {
   "cell_type": "code",
   "execution_count": 10,
   "metadata": {},
   "outputs": [],
   "source": [
    "table_subj = frame_dbpedia_People[0].value_counts()\n",
    "table_pred = frame_dbpedia_People[1].value_counts()\n",
    "table_obj = frame_dbpedia_People[2].value_counts()\n",
    "table_subj.to_csv (input_path+'subj_statistics_dbpedia_People.csv', header=False, sep='\\t')\n",
    "table_pred.to_csv (input_path+'pred_statistics_dbpedia_People.csv', header=False, sep='\\t')\n",
    "table_pred.to_csv (input_path+'obj_statistics_dbpedia_People.csv', header=False, sep='\\t')"
   ]
  },
  {
   "cell_type": "markdown",
   "metadata": {},
   "source": [
    "## drugbank statistics"
   ]
  },
  {
   "cell_type": "code",
   "execution_count": 11,
   "metadata": {},
   "outputs": [],
   "source": [
    "table_subj = frame_drugbank[0].value_counts()\n",
    "table_pred = frame_drugbank[1].value_counts()\n",
    "table_obj = frame_drugbank[2].value_counts()\n",
    "table_subj.to_csv (input_path+'subj_statistics_drugbank.csv', header=False, sep='\\t')\n",
    "table_pred.to_csv (input_path+'pred_statistics_drugbank.csv', header=False, sep='\\t')\n",
    "table_pred.to_csv (input_path+'obj_statistics_drugbank.csv', header=False, sep='\\t')"
   ]
  },
  {
   "cell_type": "code",
   "execution_count": null,
   "metadata": {},
   "outputs": [],
   "source": []
  }
 ],
 "metadata": {
  "kernelspec": {
   "display_name": "Python 3",
   "language": "python",
   "name": "python3"
  },
  "language_info": {
   "codemirror_mode": {
    "name": "ipython",
    "version": 3
   },
   "file_extension": ".py",
   "mimetype": "text/x-python",
   "name": "python",
   "nbconvert_exporter": "python",
   "pygments_lexer": "ipython3",
   "version": "3.6.7"
  }
 },
 "nbformat": 4,
 "nbformat_minor": 2
}
